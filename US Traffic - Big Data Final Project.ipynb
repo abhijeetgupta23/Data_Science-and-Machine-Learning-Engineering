{
 "cells": [
  {
   "cell_type": "markdown",
   "metadata": {
    "application/vnd.databricks.v1+cell": {
     "cellMetadata": {},
     "inputWidgets": {},
     "nuid": "1993216e-afcc-43c6-a7ad-a80a274fd670",
     "showTitle": false,
     "title": ""
    }
   },
   "source": [
    "# US Traffic Accidents"
   ]
  },
  {
   "cell_type": "markdown",
   "metadata": {
    "application/vnd.databricks.v1+cell": {
     "cellMetadata": {},
     "inputWidgets": {},
     "nuid": "284fc1cc-73ec-4d6b-b19a-8669051e00b9",
     "showTitle": false,
     "title": ""
    }
   },
   "source": [
    "According to the Centers for Disease Control and Prevention (CDC), motor vehicle crashes are a leading cause of death in the United States. In fact, in 2020, there were 38,824 deaths due to motor vehicle crashes, which accounted for over 10% of all deaths in the country. While significant progress has been made in reducing the number of deaths due to motor vehicle crashes over the years, there is still much work to be done to improve road safety and reduce the number of preventable deaths."
   ]
  },
  {
   "cell_type": "markdown",
   "metadata": {
    "application/vnd.databricks.v1+cell": {
     "cellMetadata": {},
     "inputWidgets": {},
     "nuid": "ebec3f6e-1c83-465d-85d7-ec762f81e50d",
     "showTitle": false,
     "title": ""
    }
   },
   "source": [
    "Thus, in this notebook, we will try to understand the factors that lead to accidents, and also those that affect accident severity\n",
    "\n",
    "Then, we'll develop ML models to predict accident severity"
   ]
  },
  {
   "cell_type": "markdown",
   "metadata": {
    "application/vnd.databricks.v1+cell": {
     "cellMetadata": {},
     "inputWidgets": {},
     "nuid": "15a0b42f-563b-45e6-9bb4-7a47a689a185",
     "showTitle": false,
     "title": ""
    }
   },
   "source": [
    "## PySpark"
   ]
  },
  {
   "cell_type": "code",
   "execution_count": 1,
   "metadata": {
    "application/vnd.databricks.v1+cell": {
     "cellMetadata": {},
     "inputWidgets": {},
     "nuid": "e114c643-2f15-407a-bcba-55a7358ff960",
     "showTitle": false,
     "title": ""
    }
   },
   "outputs": [],
   "source": [
    "import pyspark\n",
    "from pyspark.context import SparkContext\n",
    "from pyspark.sql.session import SparkSession\n",
    "import sys, os\n",
    "\n",
    "sc = SparkContext() # entry point to Spark programming with RDD\n",
    "spark = SparkSession(sc) # entry point to Spark programming with DataFrame and Dataset"
   ]
  },
  {
   "cell_type": "code",
   "execution_count": 2,
   "metadata": {
    "application/vnd.databricks.v1+cell": {
     "cellMetadata": {},
     "inputWidgets": {},
     "nuid": "a221bd3f-ad1f-46a2-a356-b2c4119edacd",
     "showTitle": false,
     "title": ""
    }
   },
   "outputs": [
    {
     "name": "stdout",
     "output_type": "stream",
     "text": [
      "No of rows is  2845342\n"
     ]
    }
   ],
   "source": [
    "# Read CSV and header\n",
    "US_Accidents = spark.read.format(\"csv\").option(\"header\", \"true\").load(\"US_Accidents_Dec21_updated.csv\")\n",
    "print(\"No of rows is \",US_Accidents.count())"
   ]
  },
  {
   "cell_type": "markdown",
   "metadata": {
    "application/vnd.databricks.v1+cell": {
     "cellMetadata": {},
     "inputWidgets": {},
     "nuid": "c871d2cd-442e-465b-81c5-4f6e046d9f6d",
     "showTitle": false,
     "title": ""
    }
   },
   "source": [
    "We see that the data set has almost <b>3 million rows</b>. \n",
    "\n",
    "Thus, this notebook will show how to deal with <b>Big Data</b> using <i>PySpark</i>"
   ]
  },
  {
   "cell_type": "markdown",
   "metadata": {
    "application/vnd.databricks.v1+cell": {
     "cellMetadata": {},
     "inputWidgets": {},
     "nuid": "f3c2e752-8edf-4df7-b271-983576f9f7a3",
     "showTitle": false,
     "title": ""
    }
   },
   "source": [
    "### EDA"
   ]
  },
  {
   "cell_type": "code",
   "execution_count": 3,
   "metadata": {
    "application/vnd.databricks.v1+cell": {
     "cellMetadata": {},
     "inputWidgets": {},
     "nuid": "5f85f0fd-3eec-48c8-93ab-06cef798ad0b",
     "showTitle": false,
     "title": ""
    }
   },
   "outputs": [
    {
     "name": "stdout",
     "output_type": "stream",
     "text": [
      "    ID Severity           Start_Time             End_Time           Start_Lat  \\\n",
      "0  A-1        3  2016-02-08 00:37:08  2016-02-08 06:37:08  40.108909999999995   \n",
      "1  A-2        2  2016-02-08 05:56:20  2016-02-08 11:56:20            39.86542   \n",
      "2  A-3        2  2016-02-08 06:15:39  2016-02-08 12:15:39            39.10266   \n",
      "3  A-4        2  2016-02-08 06:51:45  2016-02-08 12:51:45  41.062129999999996   \n",
      "4  A-5        3  2016-02-08 07:53:43  2016-02-08 13:53:43           39.172393   \n",
      "\n",
      "            Start_Lng             End_Lat             End_Lng  \\\n",
      "0           -83.09286            40.11206           -83.03187   \n",
      "1            -84.0628            39.86501           -84.04873   \n",
      "2           -84.52468  39.102090000000004           -84.52396   \n",
      "3           -81.53784            41.06217  -81.53546999999998   \n",
      "4  -84.49279200000002           39.170476          -84.501798   \n",
      "\n",
      "          Distance(mi)                                        Description  \\\n",
      "0                 3.23  Between Sawmill Rd/Exit 20 and OH-315/Olentang...   \n",
      "1                0.747                 At OH-4/OH-235/Exit 41 - Accident.   \n",
      "2                0.055                   At I-71/US-50/Exit 1 - Accident.   \n",
      "3  0.12300000000000001                    At Dart Ave/Exit 21 - Accident.   \n",
      "4                  0.5                 At Mitchell Ave/Exit 6 - Accident.   \n",
      "\n",
      "   ... Roundabout Station   Stop Traffic_Calming Traffic_Signal Turning_Loop  \\\n",
      "0  ...      False   False  False           False          False        False   \n",
      "1  ...      False   False  False           False          False        False   \n",
      "2  ...      False   False  False           False          False        False   \n",
      "3  ...      False   False  False           False          False        False   \n",
      "4  ...      False   False  False           False          False        False   \n",
      "\n",
      "  Sunrise_Sunset Civil_Twilight Nautical_Twilight Astronomical_Twilight  \n",
      "0          Night          Night             Night                 Night  \n",
      "1          Night          Night             Night                 Night  \n",
      "2          Night          Night             Night                   Day  \n",
      "3          Night          Night               Day                   Day  \n",
      "4            Day            Day               Day                   Day  \n",
      "\n",
      "[5 rows x 47 columns]\n"
     ]
    }
   ],
   "source": [
    "# A prettier view of data\n",
    "\n",
    "def display_spark_df(df, n=5):\n",
    "    # convert PySpark DataFrame to Pandas DataFrame\n",
    "    pdf = df.limit(n).toPandas()\n",
    "    # display the Pandas DataFrame\n",
    "    print(pdf)\n",
    "\n",
    "display_spark_df(US_Accidents)"
   ]
  },
  {
   "cell_type": "code",
   "execution_count": 4,
   "metadata": {
    "application/vnd.databricks.v1+cell": {
     "cellMetadata": {},
     "inputWidgets": {},
     "nuid": "a73d3fa6-cc9a-46ff-80b0-e5b0ef95713d",
     "showTitle": false,
     "title": ""
    }
   },
   "outputs": [
    {
     "data": {
      "text/plain": [
       "['ID',\n",
       " 'Severity',\n",
       " 'Start_Time',\n",
       " 'End_Time',\n",
       " 'Start_Lat',\n",
       " 'Start_Lng',\n",
       " 'End_Lat',\n",
       " 'End_Lng',\n",
       " 'Distance(mi)',\n",
       " 'Description',\n",
       " 'Number',\n",
       " 'Street',\n",
       " 'Side',\n",
       " 'City',\n",
       " 'County',\n",
       " 'State',\n",
       " 'Zipcode',\n",
       " 'Country',\n",
       " 'Timezone',\n",
       " 'Airport_Code',\n",
       " 'Weather_Timestamp',\n",
       " 'Temperature(F)',\n",
       " 'Wind_Chill(F)',\n",
       " 'Humidity(%)',\n",
       " 'Pressure(in)',\n",
       " 'Visibility(mi)',\n",
       " 'Wind_Direction',\n",
       " 'Wind_Speed(mph)',\n",
       " 'Precipitation(in)',\n",
       " 'Weather_Condition',\n",
       " 'Amenity',\n",
       " 'Bump',\n",
       " 'Crossing',\n",
       " 'Give_Way',\n",
       " 'Junction',\n",
       " 'No_Exit',\n",
       " 'Railway',\n",
       " 'Roundabout',\n",
       " 'Station',\n",
       " 'Stop',\n",
       " 'Traffic_Calming',\n",
       " 'Traffic_Signal',\n",
       " 'Turning_Loop',\n",
       " 'Sunrise_Sunset',\n",
       " 'Civil_Twilight',\n",
       " 'Nautical_Twilight',\n",
       " 'Astronomical_Twilight']"
      ]
     },
     "execution_count": 4,
     "metadata": {},
     "output_type": "execute_result"
    }
   ],
   "source": [
    "US_Accidents.columns"
   ]
  },
  {
   "cell_type": "markdown",
   "metadata": {
    "application/vnd.databricks.v1+cell": {
     "cellMetadata": {},
     "inputWidgets": {},
     "nuid": "1d3dc0d1-f437-4b8b-af9b-478b5d354bbc",
     "showTitle": false,
     "title": ""
    }
   },
   "source": [
    "We have 47 columns, now lets consider what group these columns belong to generally :\n",
    "\n",
    "1) Extent of accident - 'Severity'\n",
    "\n",
    "2) Accident Time - 'Start_Time', 'End_Time' , 'Sunrise_Sunset', 'Civil_Twilight', 'Nautical_Twilight', 'Astronomical_Twilight', 'Timezone'\n",
    "\n",
    "3) Location Details - 'Start_Lat', 'Start_Lng','End_Lat', 'End_Lng', 'Distance(mi)', 'Number', 'Street', 'Side', 'City', 'County', 'State', 'Zipcode', 'Country', 'Airport_Code','Amenity', 'Bump', 'Crossing', 'Give_Way', 'Junction', 'No_Exit', 'Railway', 'Roundabout', 'Station', 'Stop', 'Traffic_Calming', 'Traffic_Signal', 'Turning_Loop',\n",
    "\n",
    "4) Weather - 'Weather_Timestamp', 'Temperature(F)', 'Wind_Chill(F)', 'Humidity(%)', 'Pressure(in)', 'Visibility(mi)', 'Wind_Direction', 'Wind_Speed(mph)', 'Precipitation(in)', 'Weather_Condition'\n",
    "\n",
    "5) Text Description - 'Description'"
   ]
  },
  {
   "cell_type": "markdown",
   "metadata": {
    "application/vnd.databricks.v1+cell": {
     "cellMetadata": {},
     "inputWidgets": {},
     "nuid": "eeacd07c-4049-448a-ba0d-66d62b1b7160",
     "showTitle": false,
     "title": ""
    }
   },
   "source": [
    "Based on the above, we could perhaps analyze the time, location, weather at which most accidents happen, as well as the severity of these accidents"
   ]
  },
  {
   "cell_type": "markdown",
   "metadata": {
    "application/vnd.databricks.v1+cell": {
     "cellMetadata": {},
     "inputWidgets": {},
     "nuid": "d32895c5-3b09-42b4-ac02-478842728524",
     "showTitle": false,
     "title": ""
    }
   },
   "source": [
    "### Accident count by Time\n",
    "\n",
    "#### Action"
   ]
  },
  {
   "cell_type": "code",
   "execution_count": 5,
   "metadata": {
    "application/vnd.databricks.v1+cell": {
     "cellMetadata": {},
     "inputWidgets": {},
     "nuid": "de374cc0-8639-453f-8da3-053fb49eb5e1",
     "showTitle": false,
     "title": ""
    }
   },
   "outputs": [
    {
     "name": "stdout",
     "output_type": "stream",
     "text": [
      "+-------+-------------------+\n",
      "|summary|         Start_Time|\n",
      "+-------+-------------------+\n",
      "|  count|            2845342|\n",
      "|   mean|               null|\n",
      "| stddev|               null|\n",
      "|    min|2016-01-14 20:18:33|\n",
      "|    max|2021-12-31 23:30:00|\n",
      "+-------+-------------------+\n",
      "\n"
     ]
    }
   ],
   "source": [
    "US_Accidents.select(['Start_Time']).describe().show()"
   ]
  },
  {
   "cell_type": "markdown",
   "metadata": {
    "application/vnd.databricks.v1+cell": {
     "cellMetadata": {},
     "inputWidgets": {},
     "nuid": "3dbe7510-61f7-4664-837d-fc0803e3d70e",
     "showTitle": false,
     "title": ""
    }
   },
   "source": [
    "We need to get from timestamp only hours since they are likely to explain time of accidents better"
   ]
  },
  {
   "cell_type": "code",
   "execution_count": 6,
   "metadata": {
    "application/vnd.databricks.v1+cell": {
     "cellMetadata": {},
     "inputWidgets": {},
     "nuid": "c57c4d60-341d-41aa-be82-5ff3731ca193",
     "showTitle": false,
     "title": ""
    }
   },
   "outputs": [],
   "source": [
    "from pyspark.sql import functions as F\n",
    "from pyspark.sql.functions import *\n",
    "\n",
    "US_Accidents = US_Accidents.withColumn('Start_hour', date_format('Start_Time', 'HH'))"
   ]
  },
  {
   "cell_type": "code",
   "execution_count": 7,
   "metadata": {
    "application/vnd.databricks.v1+cell": {
     "cellMetadata": {},
     "inputWidgets": {},
     "nuid": "870c4725-1259-45bc-bbf4-15e013fd9e9d",
     "showTitle": false,
     "title": ""
    }
   },
   "outputs": [],
   "source": [
    "accidents_by_time = US_Accidents.groupBy('Start_hour')"
   ]
  },
  {
   "cell_type": "markdown",
   "metadata": {
    "application/vnd.databricks.v1+cell": {
     "cellMetadata": {},
     "inputWidgets": {},
     "nuid": "c8ac1d82-c702-4354-92f0-f10435b95d45",
     "showTitle": false,
     "title": ""
    }
   },
   "source": [
    "#### Result :"
   ]
  },
  {
   "cell_type": "code",
   "execution_count": 8,
   "metadata": {
    "application/vnd.databricks.v1+cell": {
     "cellMetadata": {},
     "inputWidgets": {},
     "nuid": "0fb29f47-b097-4455-8064-9e6b7f8e6e54",
     "showTitle": false,
     "title": ""
    }
   },
   "outputs": [
    {
     "name": "stdout",
     "output_type": "stream",
     "text": [
      "+----------+------+\n",
      "|Start_hour| count|\n",
      "+----------+------+\n",
      "|        17|220358|\n",
      "|        16|218385|\n",
      "|        15|214264|\n",
      "|        14|191480|\n",
      "|        18|168982|\n",
      "|        13|166473|\n",
      "|        12|143715|\n",
      "|        07|135191|\n",
      "|        08|130879|\n",
      "|        19|116911|\n",
      "|        11|113271|\n",
      "|        06|111160|\n",
      "|        09|108779|\n",
      "|        10|103926|\n",
      "|        20| 94682|\n",
      "|        21| 87078|\n",
      "|        22| 81188|\n",
      "|        05| 80303|\n",
      "|        23| 74243|\n",
      "|        00| 68800|\n",
      "+----------+------+\n",
      "only showing top 20 rows\n",
      "\n"
     ]
    }
   ],
   "source": [
    "accidents_by_time = accidents_by_time.count().sort(\"count\",ascending=False)\n",
    "accidents_by_time.show()"
   ]
  },
  {
   "cell_type": "markdown",
   "metadata": {
    "application/vnd.databricks.v1+cell": {
     "cellMetadata": {},
     "inputWidgets": {},
     "nuid": "68a23d19-036d-4705-ae63-7ade65079053",
     "showTitle": false,
     "title": ""
    }
   },
   "source": [
    "Let's plot this on a graph"
   ]
  },
  {
   "cell_type": "code",
   "execution_count": 9,
   "metadata": {
    "application/vnd.databricks.v1+cell": {
     "cellMetadata": {},
     "inputWidgets": {},
     "nuid": "96ff7c9e-21c3-416a-8b39-9148eab650db",
     "showTitle": false,
     "title": ""
    }
   },
   "outputs": [
    {
     "data": {
      "image/png": "[encoded data removed]",
      "text/plain": [
       "<Figure size 432x288 with 1 Axes>"
      ]
     },
     "metadata": {
      "needs_background": "light"
     },
     "output_type": "display_data"
    }
   ],
   "source": [
    "import matplotlib.pyplot as plt\n",
    "\n",
    "# Convert the PySpark DataFrame to a Pandas DataFrame\n",
    "accidents_by_time_pd = accidents_by_time.toPandas()\n",
    "\n",
    "# Plot the bar graph\n",
    "accidents_by_time_pd.index = accidents_by_time_pd['Start_hour']\n",
    "accidents_by_time_pd[['count']].plot(kind='bar')\n",
    "plt.xticks(rotation=0)\n",
    "\n",
    "# Show the plot\n",
    "plt.show()"
   ]
  },
  {
   "cell_type": "markdown",
   "metadata": {
    "application/vnd.databricks.v1+cell": {
     "cellMetadata": {},
     "inputWidgets": {},
     "nuid": "01713a87-c933-447f-b30f-629100dc0b02",
     "showTitle": false,
     "title": ""
    }
   },
   "source": [
    "#### Insight : \n",
    "\n",
    "Maximum accidents occur between 15-17 i.e. 3-5 pm. \n",
    "\n",
    "This makes sense intuitively, as that is the time employees leave for the day"
   ]
  },
  {
   "cell_type": "markdown",
   "metadata": {
    "application/vnd.databricks.v1+cell": {
     "cellMetadata": {},
     "inputWidgets": {},
     "nuid": "d9f89d1a-e63f-4a28-b6a5-dd1cbad3808f",
     "showTitle": false,
     "title": ""
    }
   },
   "source": [
    "### Severity vs Temperature analysis\n",
    "\n",
    "We now try to analyze if Temperature has any impact on severity of accident\n",
    "\n",
    "#### Action"
   ]
  },
  {
   "cell_type": "code",
   "execution_count": 10,
   "metadata": {
    "application/vnd.databricks.v1+cell": {
     "cellMetadata": {},
     "inputWidgets": {},
     "nuid": "830c5681-4acb-4e45-a338-25de678aadee",
     "showTitle": false,
     "title": ""
    },
    "scrolled": false
   },
   "outputs": [
    {
     "name": "stdout",
     "output_type": "stream",
     "text": [
      "+--------------+--------+\n",
      "|Temperature(F)|Severity|\n",
      "+--------------+--------+\n",
      "|          42.1|     3.0|\n",
      "|          36.9|     2.0|\n",
      "|          36.0|     2.0|\n",
      "|          39.0|     2.0|\n",
      "|          37.0|     3.0|\n",
      "|          35.6|     2.0|\n",
      "|          33.8|     2.0|\n",
      "|          33.1|     2.0|\n",
      "|          39.0|     2.0|\n",
      "|          32.0|     2.0|\n",
      "|          33.8|     2.0|\n",
      "|          35.1|     2.0|\n",
      "|          33.1|     2.0|\n",
      "|          33.8|     2.0|\n",
      "|          33.1|     3.0|\n",
      "|          33.1|     3.0|\n",
      "|          34.0|     3.0|\n",
      "|          34.0|     2.0|\n",
      "|          33.8|     3.0|\n",
      "|          33.4|     4.0|\n",
      "+--------------+--------+\n",
      "only showing top 20 rows\n",
      "\n"
     ]
    }
   ],
   "source": [
    "#In PySpark, every column is String by Default ; thus we need to convert Temperature(F) and Severity to integer\n",
    "\n",
    "from pyspark.sql.types import FloatType\n",
    "\n",
    "US_Accidents = US_Accidents.withColumn(\"Temperature(F)\", US_Accidents[\"Temperature(F)\"].cast(FloatType()))\n",
    "US_Accidents = US_Accidents.withColumn(\"Severity\", US_Accidents[\"Severity\"].cast(FloatType()))\n",
    "\n",
    "US_Accidents_Temperature_vs_Severity = US_Accidents.select(['Temperature(F)','Severity'])\n",
    "US_Accidents_Temperature_vs_Severity.show()"
   ]
  },
  {
   "cell_type": "markdown",
   "metadata": {
    "application/vnd.databricks.v1+cell": {
     "cellMetadata": {},
     "inputWidgets": {},
     "nuid": "2bbd707c-9874-4dd1-b866-97461ca7e2a4",
     "showTitle": false,
     "title": ""
    }
   },
   "source": [
    "#### Result :"
   ]
  },
  {
   "cell_type": "code",
   "execution_count": 11,
   "metadata": {
    "application/vnd.databricks.v1+cell": {
     "cellMetadata": {},
     "inputWidgets": {},
     "nuid": "fe2544c2-eb4c-491b-a4c5-b90fcd47e5da",
     "showTitle": false,
     "title": ""
    }
   },
   "outputs": [],
   "source": [
    "import seaborn as sns\n",
    "import matplotlib.pyplot as plt\n",
    "\n",
    "# Convert the PySpark DataFrame to a Pandas DataFrame\n",
    "US_Accidents_Temperature_vs_Severity = US_Accidents_Temperature_vs_Severity.toPandas()"
   ]
  },
  {
   "cell_type": "code",
   "execution_count": 12,
   "metadata": {
    "application/vnd.databricks.v1+cell": {
     "cellMetadata": {},
     "inputWidgets": {},
     "nuid": "4b4cc49b-9f12-4b47-a5cd-6b9fe84b7e1b",
     "showTitle": false,
     "title": ""
    }
   },
   "outputs": [
    {
     "data": {
      "image/png": "[encoded data removed]",
      "text/plain": [
       "<Figure size 432x288 with 1 Axes>"
      ]
     },
     "metadata": {
      "needs_background": "light"
     },
     "output_type": "display_data"
    }
   ],
   "source": [
    "# Create a box plot between the \"column_name_1\" and \"column_name_2\" columns\n",
    "sns.boxplot(x=\"Severity\",y=\"Temperature(F)\",data=US_Accidents_Temperature_vs_Severity)\n",
    "plt.title(\"Box Plot\")\n",
    "plt.show()"
   ]
  },
  {
   "cell_type": "markdown",
   "metadata": {
    "application/vnd.databricks.v1+cell": {
     "cellMetadata": {},
     "inputWidgets": {},
     "nuid": "f2ab629f-67ca-409b-929b-f26cabd10eac",
     "showTitle": false,
     "title": ""
    }
   },
   "source": [
    "#### Insight : \n",
    "\n",
    "1 has highest median, and 4 has the least meadian.\n",
    "\n",
    "This means that less severe accidents tend to occur during higher temperatures\n",
    "\n",
    "This makes sense, as less temperature in US could mean factors like Black Ice and Snow, that do increase the tendency of more severe accidents\n",
    "\n",
    "That being said, 2 does seem to have a lot of outliers in which a lot of accidents have happened at both extremely high (>120 F) and low temperatures (< 0 F). Accidents in high temperatures can happen due to factors like fatigue, but they seem to be not as severe"
   ]
  },
  {
   "cell_type": "markdown",
   "metadata": {
    "application/vnd.databricks.v1+cell": {
     "cellMetadata": {},
     "inputWidgets": {},
     "nuid": "06ba08a4-1286-48ff-892b-3c0a3e7c6e4a",
     "showTitle": false,
     "title": ""
    }
   },
   "source": [
    "# Data Preparation (for Machine Learning)"
   ]
  },
  {
   "cell_type": "markdown",
   "metadata": {
    "application/vnd.databricks.v1+cell": {
     "cellMetadata": {},
     "inputWidgets": {},
     "nuid": "837d1b48-341c-42e8-a71a-b024de578b88",
     "showTitle": false,
     "title": ""
    }
   },
   "source": [
    "We will predict severity of accident based on other columns as independent variables, and we need to prepare data accordingly"
   ]
  },
  {
   "cell_type": "markdown",
   "metadata": {
    "application/vnd.databricks.v1+cell": {
     "cellMetadata": {},
     "inputWidgets": {},
     "nuid": "7f623968-2ce8-4cb2-af20-39d303c66305",
     "showTitle": false,
     "title": ""
    }
   },
   "source": [
    "### Missing Data"
   ]
  },
  {
   "cell_type": "code",
   "execution_count": 13,
   "metadata": {
    "application/vnd.databricks.v1+cell": {
     "cellMetadata": {},
     "inputWidgets": {},
     "nuid": "163ae073-572b-40bb-b8ed-febd06d69436",
     "showTitle": false,
     "title": ""
    }
   },
   "outputs": [
    {
     "data": {
      "text/html": [
       "<div>\n",
       "<style scoped>\n",
       "    .dataframe tbody tr th:only-of-type {\n",
       "        vertical-align: middle;\n",
       "    }\n",
       "\n",
       "    .dataframe tbody tr th {\n",
       "        vertical-align: top;\n",
       "    }\n",
       "\n",
       "    .dataframe thead th {\n",
       "        text-align: right;\n",
       "    }\n",
       "</style>\n",
       "<table border=\"1\" class=\"dataframe\">\n",
       "  <thead>\n",
       "    <tr style=\"text-align: right;\">\n",
       "      <th></th>\n",
       "      <th>column</th>\n",
       "      <th>null_count</th>\n",
       "      <th>null_perc</th>\n",
       "    </tr>\n",
       "  </thead>\n",
       "  <tbody>\n",
       "    <tr>\n",
       "      <th>10</th>\n",
       "      <td>Number</td>\n",
       "      <td>1743911</td>\n",
       "      <td>61.290031</td>\n",
       "    </tr>\n",
       "    <tr>\n",
       "      <th>28</th>\n",
       "      <td>Precipitation(in)</td>\n",
       "      <td>549458</td>\n",
       "      <td>19.310789</td>\n",
       "    </tr>\n",
       "    <tr>\n",
       "      <th>22</th>\n",
       "      <td>Wind_Chill(F)</td>\n",
       "      <td>469643</td>\n",
       "      <td>16.505678</td>\n",
       "    </tr>\n",
       "    <tr>\n",
       "      <th>27</th>\n",
       "      <td>Wind_Speed(mph)</td>\n",
       "      <td>157944</td>\n",
       "      <td>5.550967</td>\n",
       "    </tr>\n",
       "    <tr>\n",
       "      <th>26</th>\n",
       "      <td>Wind_Direction</td>\n",
       "      <td>73775</td>\n",
       "      <td>2.592834</td>\n",
       "    </tr>\n",
       "    <tr>\n",
       "      <th>23</th>\n",
       "      <td>Humidity(%)</td>\n",
       "      <td>73092</td>\n",
       "      <td>2.568830</td>\n",
       "    </tr>\n",
       "    <tr>\n",
       "      <th>29</th>\n",
       "      <td>Weather_Condition</td>\n",
       "      <td>70636</td>\n",
       "      <td>2.482514</td>\n",
       "    </tr>\n",
       "    <tr>\n",
       "      <th>25</th>\n",
       "      <td>Visibility(mi)</td>\n",
       "      <td>70546</td>\n",
       "      <td>2.479350</td>\n",
       "    </tr>\n",
       "    <tr>\n",
       "      <th>21</th>\n",
       "      <td>Temperature(F)</td>\n",
       "      <td>69274</td>\n",
       "      <td>2.434646</td>\n",
       "    </tr>\n",
       "    <tr>\n",
       "      <th>24</th>\n",
       "      <td>Pressure(in)</td>\n",
       "      <td>59200</td>\n",
       "      <td>2.080593</td>\n",
       "    </tr>\n",
       "    <tr>\n",
       "      <th>20</th>\n",
       "      <td>Weather_Timestamp</td>\n",
       "      <td>50736</td>\n",
       "      <td>1.783125</td>\n",
       "    </tr>\n",
       "    <tr>\n",
       "      <th>19</th>\n",
       "      <td>Airport_Code</td>\n",
       "      <td>9549</td>\n",
       "      <td>0.335601</td>\n",
       "    </tr>\n",
       "    <tr>\n",
       "      <th>18</th>\n",
       "      <td>Timezone</td>\n",
       "      <td>3659</td>\n",
       "      <td>0.128596</td>\n",
       "    </tr>\n",
       "    <tr>\n",
       "      <th>43</th>\n",
       "      <td>Sunrise_Sunset</td>\n",
       "      <td>2867</td>\n",
       "      <td>0.100761</td>\n",
       "    </tr>\n",
       "    <tr>\n",
       "      <th>44</th>\n",
       "      <td>Civil_Twilight</td>\n",
       "      <td>2867</td>\n",
       "      <td>0.100761</td>\n",
       "    </tr>\n",
       "    <tr>\n",
       "      <th>45</th>\n",
       "      <td>Nautical_Twilight</td>\n",
       "      <td>2867</td>\n",
       "      <td>0.100761</td>\n",
       "    </tr>\n",
       "    <tr>\n",
       "      <th>46</th>\n",
       "      <td>Astronomical_Twilight</td>\n",
       "      <td>2867</td>\n",
       "      <td>0.100761</td>\n",
       "    </tr>\n",
       "    <tr>\n",
       "      <th>16</th>\n",
       "      <td>Zipcode</td>\n",
       "      <td>1319</td>\n",
       "      <td>0.046356</td>\n",
       "    </tr>\n",
       "    <tr>\n",
       "      <th>13</th>\n",
       "      <td>City</td>\n",
       "      <td>137</td>\n",
       "      <td>0.004815</td>\n",
       "    </tr>\n",
       "    <tr>\n",
       "      <th>11</th>\n",
       "      <td>Street</td>\n",
       "      <td>2</td>\n",
       "      <td>0.000070</td>\n",
       "    </tr>\n",
       "  </tbody>\n",
       "</table>\n",
       "</div>"
      ],
      "text/plain": [
       "                   column  null_count  null_perc\n",
       "10                 Number     1743911  61.290031\n",
       "28      Precipitation(in)      549458  19.310789\n",
       "22          Wind_Chill(F)      469643  16.505678\n",
       "27        Wind_Speed(mph)      157944   5.550967\n",
       "26         Wind_Direction       73775   2.592834\n",
       "23            Humidity(%)       73092   2.568830\n",
       "29      Weather_Condition       70636   2.482514\n",
       "25         Visibility(mi)       70546   2.479350\n",
       "21         Temperature(F)       69274   2.434646\n",
       "24           Pressure(in)       59200   2.080593\n",
       "20      Weather_Timestamp       50736   1.783125\n",
       "19           Airport_Code        9549   0.335601\n",
       "18               Timezone        3659   0.128596\n",
       "43         Sunrise_Sunset        2867   0.100761\n",
       "44         Civil_Twilight        2867   0.100761\n",
       "45      Nautical_Twilight        2867   0.100761\n",
       "46  Astronomical_Twilight        2867   0.100761\n",
       "16                Zipcode        1319   0.046356\n",
       "13                   City         137   0.004815\n",
       "11                 Street           2   0.000070"
      ]
     },
     "execution_count": 13,
     "metadata": {},
     "output_type": "execute_result"
    }
   ],
   "source": [
    "from pyspark.sql.functions import isnull, when, count\n",
    "\n",
    "US_Accidents_null_count = US_Accidents.select(*[count(when(isnull(c), c)).alias(c) for c in US_Accidents.columns]).toPandas()\n",
    "US_Accidents_null_count_transposed = US_Accidents_null_count.melt(var_name='column', value_name='null_count')\n",
    "US_Accidents_null_count_transposed['null_perc'] = US_Accidents_null_count_transposed['null_count']/US_Accidents.count()*100\n",
    "US_Accidents_null_count_transposed[US_Accidents_null_count_transposed['null_count']!=0].sort_values(\"null_perc\",ascending=False)"
   ]
  },
  {
   "cell_type": "markdown",
   "metadata": {
    "application/vnd.databricks.v1+cell": {
     "cellMetadata": {},
     "inputWidgets": {},
     "nuid": "5fa0f4df-e7e4-44f6-9830-afa55db1fdea",
     "showTitle": false,
     "title": ""
    }
   },
   "source": [
    "Based from above, Number has 61% nulls, and thus it's best to drop this column altogether. \n",
    "\n",
    "Other columns with nulls are at a null maximum % of 20, so we can maybe try removing all rows with even 1 null cell"
   ]
  },
  {
   "cell_type": "code",
   "execution_count": 14,
   "metadata": {
    "application/vnd.databricks.v1+cell": {
     "cellMetadata": {},
     "inputWidgets": {},
     "nuid": "6a9b51a0-e81c-4c63-b7ba-afd87d613351",
     "showTitle": false,
     "title": ""
    }
   },
   "outputs": [],
   "source": [
    "US_Accidents = US_Accidents.drop('Number').dropna(how='any')"
   ]
  },
  {
   "cell_type": "code",
   "execution_count": 15,
   "metadata": {
    "application/vnd.databricks.v1+cell": {
     "cellMetadata": {},
     "inputWidgets": {},
     "nuid": "877f1c19-63ae-4a4c-9ffd-5ec7818881ec",
     "showTitle": false,
     "title": ""
    }
   },
   "outputs": [],
   "source": [
    "US_Accidents = US_Accidents.dropna(how='any')"
   ]
  },
  {
   "cell_type": "code",
   "execution_count": 16,
   "metadata": {
    "application/vnd.databricks.v1+cell": {
     "cellMetadata": {},
     "inputWidgets": {},
     "nuid": "db1d845f-14c8-49e2-b23c-3c9cd4e9f4c2",
     "showTitle": false,
     "title": ""
    }
   },
   "outputs": [
    {
     "data": {
      "text/plain": [
       "2207325"
      ]
     },
     "execution_count": 16,
     "metadata": {},
     "output_type": "execute_result"
    }
   ],
   "source": [
    "US_Accidents.count()"
   ]
  },
  {
   "cell_type": "code",
   "execution_count": 17,
   "metadata": {
    "application/vnd.databricks.v1+cell": {
     "cellMetadata": {},
     "inputWidgets": {},
     "nuid": "dfaacb72-3d05-4420-81a7-638914a5c42b",
     "showTitle": false,
     "title": ""
    }
   },
   "outputs": [
    {
     "data": {
      "text/plain": [
       "22.42320958253876"
      ]
     },
     "execution_count": 17,
     "metadata": {},
     "output_type": "execute_result"
    }
   ],
   "source": [
    "(2845342 - 2207325)/2845342*100"
   ]
  },
  {
   "cell_type": "markdown",
   "metadata": {
    "application/vnd.databricks.v1+cell": {
     "cellMetadata": {},
     "inputWidgets": {},
     "nuid": "e25be251-f438-40f7-b866-154704b0c945",
     "showTitle": false,
     "title": ""
    }
   },
   "source": [
    "Thus, we have dropped 22% of our rows since they had atleast 1 null value. We are still left with a huge amount of data (2.2 million)"
   ]
  },
  {
   "cell_type": "markdown",
   "metadata": {
    "application/vnd.databricks.v1+cell": {
     "cellMetadata": {},
     "inputWidgets": {},
     "nuid": "892dc88e-eeba-4595-804d-b7a66607c317",
     "showTitle": false,
     "title": ""
    }
   },
   "source": [
    "## Feature Engineering"
   ]
  },
  {
   "cell_type": "markdown",
   "metadata": {
    "application/vnd.databricks.v1+cell": {
     "cellMetadata": {},
     "inputWidgets": {},
     "nuid": "ea30bd1e-dc21-4d59-81f9-296a3d6b0159",
     "showTitle": false,
     "title": ""
    }
   },
   "source": [
    "### Drop Unrequired columns\n",
    "\n",
    "As mentioned above, we have 47 columns, and below groups :\n",
    "\n",
    "1) Extent of accident - 'Severity'\n",
    "\n",
    "2) Accident Time - 'Start_Time', 'End_Time' , 'Sunrise_Sunset', 'Civil_Twilight', 'Nautical_Twilight', 'Astronomical_Twilight', 'Timezone'\n",
    "\n",
    "3) Location Details - 'Start_Lat', 'Start_Lng','End_Lat', 'End_Lng', 'Distance(mi)', 'Street', 'Side', 'City', 'County', 'State', 'Zipcode', 'Country', 'Airport_Code','Amenity', 'Bump', 'Crossing', 'Give_Way', 'Junction', 'No_Exit', 'Railway', 'Roundabout', 'Station', 'Stop', 'Traffic_Calming', 'Traffic_Signal', 'Turning_Loop',\n",
    "\n",
    "4) Weather - 'Weather_Timestamp', 'Temperature(F)', 'Wind_Chill(F)', 'Humidity(%)', 'Pressure(in)', 'Visibility(mi)', 'Wind_Direction', 'Wind_Speed(mph)', 'Precipitation(in)', 'Weather_Condition'\n",
    "\n",
    "5) Text Description - 'Description'\n",
    "\n",
    "6) ID - ID\n",
    "\n",
    "Now we need to decide which columns to keep, what features to create, and which to remove. \n",
    "\n",
    "##### To drop :\n",
    "\n",
    "*) ID - it is a row identifier and provides no value to an ML model\n",
    "\n",
    "*) Description - we are not implementing NLP for Text Mining (it's future scope for sure)\n",
    "\n",
    "*) Country - since all have the same values, it has no value in an ML Model\n",
    "\n",
    "*) Weather_Timestamp - it seems not as necessary\n",
    "\n",
    "*) Zipcode - no valuedoesn't relate linearly with Severity of accident\n",
    "\n",
    "##### To create :\n",
    "\n",
    "*) Accident duration = End_Time - Start_Time\n",
    "\n",
    "##### To transform :\n",
    "\n",
    "*) Start_Time : Get hours and Month, delete the column\n",
    "\n",
    "*) End_Time : Get hours and month, delete the column\n",
    "\n",
    "To note - End_time is the time at which the road is reopened for public use after an accident has occured. Thus Accident Duration is the amount of time the road is blocked due to accident"
   ]
  },
  {
   "cell_type": "code",
   "execution_count": 18,
   "metadata": {
    "application/vnd.databricks.v1+cell": {
     "cellMetadata": {},
     "inputWidgets": {},
     "nuid": "dae8e952-88f1-48e3-8af5-4415b5170d8d",
     "showTitle": false,
     "title": ""
    }
   },
   "outputs": [],
   "source": [
    "# Drop\n",
    "\n",
    "US_Accidents = US_Accidents.drop(*['ID','Description','Country','Weather_Timestamp','Zipcode'])"
   ]
  },
  {
   "cell_type": "code",
   "execution_count": 19,
   "metadata": {
    "application/vnd.databricks.v1+cell": {
     "cellMetadata": {},
     "inputWidgets": {},
     "nuid": "2b69bb0d-65e4-4990-b2f9-c41b002d544f",
     "showTitle": false,
     "title": ""
    },
    "scrolled": false
   },
   "outputs": [],
   "source": [
    "# Create\n",
    "\n",
    "from pyspark.sql.functions import expr\n",
    "\n",
    "US_Accidents = US_Accidents.withColumn(\"Accident_duration\", expr(\"floor((unix_timestamp(End_Time, 'yyyy-MM-dd HH:mm:ss') - unix_timestamp(Start_Time, 'yyyy-MM-dd HH:mm:ss')) / 3600)\"))\n",
    "US_Accidents = US_Accidents.drop('End_Time')"
   ]
  },
  {
   "cell_type": "code",
   "execution_count": 20,
   "metadata": {
    "application/vnd.databricks.v1+cell": {
     "cellMetadata": {},
     "inputWidgets": {},
     "nuid": "1e7257ae-8ea9-4453-8c84-379a7d4a9514",
     "showTitle": false,
     "title": ""
    }
   },
   "outputs": [],
   "source": [
    "# Transform\n",
    "\n",
    "US_Accidents = US_Accidents.withColumn('Start_hour', date_format('Start_Time', 'HH'))\n",
    "US_Accidents = US_Accidents.withColumn('Month', date_format('Start_Time', 'MM'))\n",
    "US_Accidents = US_Accidents.withColumn('year', date_format('Start_Time', 'yyyy')).drop('Start_Time')"
   ]
  },
  {
   "cell_type": "code",
   "execution_count": 21,
   "metadata": {
    "application/vnd.databricks.v1+cell": {
     "cellMetadata": {},
     "inputWidgets": {},
     "nuid": "03298e91-263d-40b0-9c65-23d2473ba83f",
     "showTitle": false,
     "title": ""
    }
   },
   "outputs": [
    {
     "name": "stdout",
     "output_type": "stream",
     "text": [
      "   Severity           Start_Lat           Start_Lng    End_Lat     End_Lng  \\\n",
      "0       3.0  40.108909999999995           -83.09286   40.11206   -83.03187   \n",
      "1       3.0           39.172393  -84.49279200000002  39.170476  -84.501798   \n",
      "2       2.0            41.37531  -81.82016999999998   41.36786   -81.82174   \n",
      "3       2.0            40.10931           -82.96849   40.11078     -82.984   \n",
      "4       2.0            39.19288           -84.47723   39.19615   -84.47335   \n",
      "\n",
      "  Distance(mi)       Street Side         City    County  ... Traffic_Signal  \\\n",
      "0         3.23  Outerbelt E    R       Dublin  Franklin  ...          False   \n",
      "1          0.5       I-75 S    R   Cincinnati  Hamilton  ...          False   \n",
      "2        0.521       I-71 S    R    Cleveland  Cuyahoga  ...          False   \n",
      "3        0.826  Outerbelt W    R  Westerville  Franklin  ...          False   \n",
      "4        0.307       I-75 N    R   Cincinnati  Hamilton  ...          False   \n",
      "\n",
      "  Turning_Loop Sunrise_Sunset  Civil_Twilight Nautical_Twilight  \\\n",
      "0        False          Night           Night             Night   \n",
      "1        False            Day             Day               Day   \n",
      "2        False            Day             Day               Day   \n",
      "3        False            Day             Day               Day   \n",
      "4        False            Day             Day               Day   \n",
      "\n",
      "  Astronomical_Twilight Start_hour Accident_duration Month  year  \n",
      "0                 Night         00                 6    02  2016  \n",
      "1                   Day         07                 6    02  2016  \n",
      "2                   Day         11                 6    02  2016  \n",
      "3                   Day         15                 6    02  2016  \n",
      "4                   Day         15                 6    02  2016  \n",
      "\n",
      "[5 rows x 43 columns]\n"
     ]
    }
   ],
   "source": [
    "display_spark_df(US_Accidents)"
   ]
  },
  {
   "cell_type": "markdown",
   "metadata": {
    "application/vnd.databricks.v1+cell": {
     "cellMetadata": {},
     "inputWidgets": {},
     "nuid": "bc956de3-3e1c-4309-a299-ef018b4269b3",
     "showTitle": false,
     "title": ""
    }
   },
   "source": [
    "## Converting Categorical to Numeric Variables"
   ]
  },
  {
   "cell_type": "code",
   "execution_count": 22,
   "metadata": {
    "application/vnd.databricks.v1+cell": {
     "cellMetadata": {},
     "inputWidgets": {},
     "nuid": "854e0272-7040-4268-a7b3-363cd3e4b8ca",
     "showTitle": false,
     "title": ""
    }
   },
   "outputs": [
    {
     "name": "stdout",
     "output_type": "stream",
     "text": [
      "Columns that can be converted to floats: ['Severity', 'Start_Lat', 'Start_Lng', 'End_Lat', 'End_Lng', 'Distance(mi)', 'Temperature(F)', 'Wind_Chill(F)', 'Humidity(%)', 'Pressure(in)', 'Visibility(mi)', 'Wind_Speed(mph)', 'Precipitation(in)', 'Start_hour', 'Accident_duration', 'Month', 'year']\n"
     ]
    }
   ],
   "source": [
    "def is_column_float(df, col):\n",
    "    try:\n",
    "        float(df.first()[col])\n",
    "        return True\n",
    "    except:\n",
    "        return False\n",
    "\n",
    "# get the list of columns that can be converted to integers\n",
    "float_columns = []\n",
    "for col in US_Accidents.columns:\n",
    "    if is_column_float(US_Accidents, col):\n",
    "        float_columns.append(col)\n",
    "\n",
    "print(\"Columns that can be converted to floats:\", float_columns)"
   ]
  },
  {
   "cell_type": "code",
   "execution_count": 23,
   "metadata": {
    "application/vnd.databricks.v1+cell": {
     "cellMetadata": {},
     "inputWidgets": {},
     "nuid": "121c3a57-1e03-40b3-9c9b-bf214ad03361",
     "showTitle": false,
     "title": ""
    }
   },
   "outputs": [
    {
     "name": "stdout",
     "output_type": "stream",
     "text": [
      "['Bump', 'Turning_Loop', 'No_Exit', 'Airport_Code', 'Timezone', 'Junction', 'Stop', 'Traffic_Calming', 'Sunrise_Sunset', 'Nautical_Twilight', 'Astronomical_Twilight', 'State', 'Amenity', 'Crossing', 'Traffic_Signal', 'Station', 'Roundabout', 'Weather_Condition', 'Side', 'Civil_Twilight', 'Give_Way', 'Wind_Direction', 'County', 'City', 'Railway', 'Street']\n"
     ]
    }
   ],
   "source": [
    "string_columns = list(set(US_Accidents.columns) - set(float_columns))\n",
    "print(string_columns)"
   ]
  },
  {
   "cell_type": "markdown",
   "metadata": {
    "application/vnd.databricks.v1+cell": {
     "cellMetadata": {},
     "inputWidgets": {},
     "nuid": "68e7e012-f3bb-48e3-aa19-ca5e39ef6dd9",
     "showTitle": false,
     "title": ""
    }
   },
   "source": [
    "### Can run ML from here"
   ]
  },
  {
   "cell_type": "code",
   "execution_count": 58,
   "metadata": {
    "application/vnd.databricks.v1+cell": {
     "cellMetadata": {},
     "inputWidgets": {},
     "nuid": "50ba57b8-fae6-458c-bfd5-d13ca231142e",
     "showTitle": false,
     "title": ""
    },
    "scrolled": false
   },
   "outputs": [],
   "source": [
    "# Convert columns to int\n",
    "\n",
    "US_Accidents_ML = US_Accidents\n",
    "\n",
    "for col in float_columns:\n",
    "    US_Accidents_ML = US_Accidents_ML.withColumn(col, US_Accidents_ML[col].cast(\"float\"))"
   ]
  },
  {
   "cell_type": "code",
   "execution_count": 59,
   "metadata": {
    "application/vnd.databricks.v1+cell": {
     "cellMetadata": {},
     "inputWidgets": {},
     "nuid": "f24d78f0-6551-46c0-b910-282c1a0f9407",
     "showTitle": false,
     "title": ""
    },
    "scrolled": false
   },
   "outputs": [],
   "source": [
    "from pyspark.sql import functions as F\n",
    "\n",
    "from pyspark.ml.feature import StringIndexer, OneHotEncoder\n",
    "\n",
    "for col in string_columns:\n",
    "\n",
    "    stringIndexer = StringIndexer(inputCol=col, outputCol=col+\"_num\").fit(US_Accidents_ML)\n",
    "    US_Accidents_ML = stringIndexer.transform(US_Accidents_ML)\n",
    "    US_Accidents_ML = US_Accidents_ML.drop(col)\n",
    "    \n",
    "    if US_Accidents_ML.select(col+\"_num\").distinct().count()>2:\n",
    "        US_Accidents_ML = US_Accidents_ML.drop(col+\"_num\")    "
   ]
  },
  {
   "cell_type": "markdown",
   "metadata": {
    "application/vnd.databricks.v1+cell": {
     "cellMetadata": {},
     "inputWidgets": {},
     "nuid": "e3ee17fd-ec45-4e51-b65b-0bc9ce6fa236",
     "showTitle": false,
     "title": ""
    }
   },
   "source": [
    "### ML Modelling"
   ]
  },
  {
   "cell_type": "markdown",
   "metadata": {
    "application/vnd.databricks.v1+cell": {
     "cellMetadata": {},
     "inputWidgets": {},
     "nuid": "ce9a8b86-78f2-4e1d-9103-87b96cb0c06b",
     "showTitle": false,
     "title": ""
    }
   },
   "source": [
    "We split the model in 80:20 train:test ratio and in a stratified manner - equal proportion of severity classes 1,2,3,4 in bith training and testing data"
   ]
  },
  {
   "cell_type": "code",
   "execution_count": 60,
   "metadata": {
    "application/vnd.databricks.v1+cell": {
     "cellMetadata": {},
     "inputWidgets": {},
     "nuid": "5716ed29-5a6d-4cf4-bbed-beba2b7227e2",
     "showTitle": false,
     "title": ""
    }
   },
   "outputs": [],
   "source": [
    "US_Accidents_1 = US_Accidents_ML.filter(US_Accidents_ML['Severity'] == 1).randomSplit(weights = [0.80, 0.20], seed=0)\n",
    "US_Accidents_2 = US_Accidents_ML.filter(US_Accidents_ML['Severity'] == 2).randomSplit(weights = [0.80, 0.20], seed=0)\n",
    "US_Accidents_3 = US_Accidents_ML.filter(US_Accidents_ML['Severity'] == 3).randomSplit(weights = [0.80, 0.20], seed=0)\n",
    "US_Accidents_4 = US_Accidents_ML.filter(US_Accidents_ML['Severity'] == 4).randomSplit(weights = [0.80, 0.20], seed=0)\n",
    "\n",
    "US_Accidents_train = US_Accidents_1[0].union(US_Accidents_2[0])\n",
    "US_Accidents_train = US_Accidents_train.union(US_Accidents_3[0])\n",
    "US_Accidents_train = US_Accidents_train.union(US_Accidents_4[0])\n",
    "\n",
    "US_Accidents_test = US_Accidents_1[1].union(US_Accidents_2[1])\n",
    "US_Accidents_test = US_Accidents_test.union(US_Accidents_3[1])\n",
    "US_Accidents_test = US_Accidents_test.union(US_Accidents_4[1])"
   ]
  },
  {
   "cell_type": "code",
   "execution_count": 61,
   "metadata": {
    "application/vnd.databricks.v1+cell": {
     "cellMetadata": {},
     "inputWidgets": {},
     "nuid": "e5712d15-f763-4836-9f91-0a6b3f89bf85",
     "showTitle": false,
     "title": ""
    }
   },
   "outputs": [],
   "source": [
    "#US_Accidents_train = US_Accidents_train.drop('year').fillna(0)\n",
    "#US_Accidents_test = US_Accidents_test.drop('year').fillna(0)"
   ]
  },
  {
   "cell_type": "code",
   "execution_count": 62,
   "metadata": {
    "application/vnd.databricks.v1+cell": {
     "cellMetadata": {},
     "inputWidgets": {},
     "nuid": "5b8e84e9-94b5-4d6b-9756-59f326860db6",
     "showTitle": false,
     "title": ""
    }
   },
   "outputs": [
    {
     "name": "stdout",
     "output_type": "stream",
     "text": [
      "['Start_Lat', 'Start_Lng', 'End_Lat', 'End_Lng', 'Distance(mi)', 'Temperature(F)', 'Wind_Chill(F)', 'Humidity(%)', 'Pressure(in)', 'Visibility(mi)', 'Wind_Speed(mph)', 'Precipitation(in)', 'Start_hour', 'Accident_duration', 'Month', 'year', 'Bump_num', 'Turning_Loop_num', 'No_Exit_num', 'Junction_num', 'Stop_num', 'Traffic_Calming_num', 'Sunrise_Sunset_num', 'Nautical_Twilight_num', 'Astronomical_Twilight_num', 'Amenity_num', 'Crossing_num', 'Traffic_Signal_num', 'Station_num', 'Roundabout_num', 'Side_num', 'Civil_Twilight_num', 'Give_Way_num', 'Railway_num']\n"
     ]
    }
   ],
   "source": [
    "from pyspark.ml.feature import VectorAssembler\n",
    "\n",
    "feature_list = US_Accidents_train.columns\n",
    "feature_list.remove('Severity') \n",
    "print(feature_list)"
   ]
  },
  {
   "cell_type": "code",
   "execution_count": 63,
   "metadata": {
    "application/vnd.databricks.v1+cell": {
     "cellMetadata": {},
     "inputWidgets": {},
     "nuid": "030e1d97-c2f8-497c-91c7-321e2648285d",
     "showTitle": false,
     "title": ""
    }
   },
   "outputs": [],
   "source": [
    "# Transform the data from multiple features columns to a single vector of all these columns as required by Spark ML\n",
    "assembler = VectorAssembler(inputCols=feature_list, outputCol=\"Feature_Columns\")\n",
    "US_Accidents_train = assembler.transform(US_Accidents_train)\n",
    "US_Accidents_test = assembler.transform(US_Accidents_test)"
   ]
  },
  {
   "cell_type": "code",
   "execution_count": 64,
   "metadata": {
    "application/vnd.databricks.v1+cell": {
     "cellMetadata": {},
     "inputWidgets": {},
     "nuid": "262e5e9d-11ea-4b44-a7ae-01ec079fa496",
     "showTitle": false,
     "title": ""
    }
   },
   "outputs": [],
   "source": [
    "US_Accidents_train = US_Accidents_train['Feature_Columns','Severity']\n",
    "US_Accidents_test = US_Accidents_test['Feature_Columns','Severity']"
   ]
  },
  {
   "cell_type": "code",
   "execution_count": 65,
   "metadata": {
    "application/vnd.databricks.v1+cell": {
     "cellMetadata": {},
     "inputWidgets": {},
     "nuid": "6cd5edf8-df54-4374-94f3-19bc03f4a803",
     "showTitle": false,
     "title": ""
    }
   },
   "outputs": [
    {
     "data": {
      "text/plain": [
       "DataFrame[key: string, value: string]"
      ]
     },
     "execution_count": 65,
     "metadata": {},
     "output_type": "execute_result"
    }
   ],
   "source": [
    "# Hardware setting that blocks program error\n",
    "\n",
    "spark.sql(\"set spark.sql.legacy.timeParserPolicy=LEGACY\")"
   ]
  },
  {
   "cell_type": "markdown",
   "metadata": {},
   "source": [
    "### Classification "
   ]
  },
  {
   "cell_type": "markdown",
   "metadata": {
    "application/vnd.databricks.v1+cell": {
     "cellMetadata": {},
     "inputWidgets": {},
     "nuid": "d4790751-9595-4190-b4e3-e940c7677d83",
     "showTitle": false,
     "title": ""
    }
   },
   "source": [
    "#### Decision Tree"
   ]
  },
  {
   "cell_type": "code",
   "execution_count": 66,
   "metadata": {
    "application/vnd.databricks.v1+cell": {
     "cellMetadata": {},
     "inputWidgets": {},
     "nuid": "2cfc8319-80f9-4cd6-b4b7-30be244a4be2",
     "showTitle": false,
     "title": ""
    },
    "scrolled": false
   },
   "outputs": [],
   "source": [
    "from pyspark.ml.classification import DecisionTreeClassifier\n",
    "\n",
    "dt = DecisionTreeClassifier(labelCol=\"Severity\", featuresCol=\"Feature_Columns\")\n",
    "dt_model = dt.fit(US_Accidents_train)"
   ]
  },
  {
   "cell_type": "code",
   "execution_count": 67,
   "metadata": {
    "application/vnd.databricks.v1+cell": {
     "cellMetadata": {},
     "inputWidgets": {},
     "nuid": "dd54c14f-2787-41ad-9411-ede763980a84",
     "showTitle": false,
     "title": ""
    }
   },
   "outputs": [],
   "source": [
    "# Evaluate the model\n",
    "results = dt_model.transform(US_Accidents_test)"
   ]
  },
  {
   "cell_type": "code",
   "execution_count": 68,
   "metadata": {},
   "outputs": [],
   "source": [
    "y_true_train = US_Accidents_train.select(['Severity']).collect()\n",
    "y_pred_train = dt_model.transform(US_Accidents_train).select(['prediction']).collect()"
   ]
  },
  {
   "cell_type": "code",
   "execution_count": 69,
   "metadata": {},
   "outputs": [
    {
     "name": "stdout",
     "output_type": "stream",
     "text": [
      "              precision    recall  f1-score   support\n",
      "\n",
      "         1.0       0.52      0.04      0.08     18952\n",
      "         2.0       0.95      0.99      0.97   1645479\n",
      "         3.0       0.45      0.38      0.41     51799\n",
      "         4.0       0.56      0.02      0.04     49625\n",
      "\n",
      "    accuracy                           0.93   1765855\n",
      "   macro avg       0.62      0.36      0.37   1765855\n",
      "weighted avg       0.92      0.93      0.92   1765855\n",
      "\n"
     ]
    }
   ],
   "source": [
    "from sklearn.metrics import classification_report, confusion_matrix\n",
    "\n",
    "print(classification_report(y_true_train,y_pred_train))"
   ]
  },
  {
   "cell_type": "code",
   "execution_count": 70,
   "metadata": {
    "application/vnd.databricks.v1+cell": {
     "cellMetadata": {},
     "inputWidgets": {},
     "nuid": "4ff40b35-db21-4585-bbce-6d00b4df8aac",
     "showTitle": false,
     "title": ""
    }
   },
   "outputs": [
    {
     "name": "stdout",
     "output_type": "stream",
     "text": [
      "              precision    recall  f1-score   support\n",
      "\n",
      "         1.0       0.53      0.04      0.07      4604\n",
      "         2.0       0.95      0.99      0.97    411596\n",
      "         3.0       0.46      0.39      0.42     12789\n",
      "         4.0       0.56      0.02      0.04     12481\n",
      "\n",
      "    accuracy                           0.94    441470\n",
      "   macro avg       0.62      0.36      0.38    441470\n",
      "weighted avg       0.92      0.94      0.92    441470\n",
      "\n"
     ]
    }
   ],
   "source": [
    "y_true = results.select(['Severity']).collect()\n",
    "y_pred = results.select(['prediction']).collect()\n",
    "\n",
    "print(classification_report(y_true, y_pred))"
   ]
  },
  {
   "cell_type": "code",
   "execution_count": 71,
   "metadata": {},
   "outputs": [
    {
     "name": "stdout",
     "output_type": "stream",
     "text": [
      "(34,[0,1,2,3,4,13,15,30],[0.06090298414593028,0.19309849970897616,0.03984844289815273,0.04295784454092998,0.021601775085762952,0.2943361478101768,0.3457472278486246,0.0015070779614463445])\n"
     ]
    }
   ],
   "source": [
    "# Print the feature importances\n",
    "print(importances)"
   ]
  },
  {
   "cell_type": "code",
   "execution_count": 95,
   "metadata": {},
   "outputs": [
    {
     "data": {
      "text/html": [
       "<div>\n",
       "<style scoped>\n",
       "    .dataframe tbody tr th:only-of-type {\n",
       "        vertical-align: middle;\n",
       "    }\n",
       "\n",
       "    .dataframe tbody tr th {\n",
       "        vertical-align: top;\n",
       "    }\n",
       "\n",
       "    .dataframe thead th {\n",
       "        text-align: right;\n",
       "    }\n",
       "</style>\n",
       "<table border=\"1\" class=\"dataframe\">\n",
       "  <thead>\n",
       "    <tr style=\"text-align: right;\">\n",
       "      <th></th>\n",
       "      <th>Feature</th>\n",
       "      <th>Importance</th>\n",
       "    </tr>\n",
       "  </thead>\n",
       "  <tbody>\n",
       "    <tr>\n",
       "      <th>15</th>\n",
       "      <td>year</td>\n",
       "      <td>34.574723</td>\n",
       "    </tr>\n",
       "    <tr>\n",
       "      <th>13</th>\n",
       "      <td>Accident_duration</td>\n",
       "      <td>29.433615</td>\n",
       "    </tr>\n",
       "    <tr>\n",
       "      <th>1</th>\n",
       "      <td>Start_Lng</td>\n",
       "      <td>19.309850</td>\n",
       "    </tr>\n",
       "    <tr>\n",
       "      <th>0</th>\n",
       "      <td>Start_Lat</td>\n",
       "      <td>6.090298</td>\n",
       "    </tr>\n",
       "    <tr>\n",
       "      <th>3</th>\n",
       "      <td>End_Lng</td>\n",
       "      <td>4.295784</td>\n",
       "    </tr>\n",
       "    <tr>\n",
       "      <th>2</th>\n",
       "      <td>End_Lat</td>\n",
       "      <td>3.984844</td>\n",
       "    </tr>\n",
       "    <tr>\n",
       "      <th>4</th>\n",
       "      <td>Distance(mi)</td>\n",
       "      <td>2.160178</td>\n",
       "    </tr>\n",
       "    <tr>\n",
       "      <th>30</th>\n",
       "      <td>Side_num</td>\n",
       "      <td>0.150708</td>\n",
       "    </tr>\n",
       "    <tr>\n",
       "      <th>25</th>\n",
       "      <td>Amenity_num</td>\n",
       "      <td>0.000000</td>\n",
       "    </tr>\n",
       "    <tr>\n",
       "      <th>22</th>\n",
       "      <td>Sunrise_Sunset_num</td>\n",
       "      <td>0.000000</td>\n",
       "    </tr>\n",
       "    <tr>\n",
       "      <th>23</th>\n",
       "      <td>Nautical_Twilight_num</td>\n",
       "      <td>0.000000</td>\n",
       "    </tr>\n",
       "    <tr>\n",
       "      <th>24</th>\n",
       "      <td>Astronomical_Twilight_num</td>\n",
       "      <td>0.000000</td>\n",
       "    </tr>\n",
       "    <tr>\n",
       "      <th>27</th>\n",
       "      <td>Traffic_Signal_num</td>\n",
       "      <td>0.000000</td>\n",
       "    </tr>\n",
       "    <tr>\n",
       "      <th>26</th>\n",
       "      <td>Crossing_num</td>\n",
       "      <td>0.000000</td>\n",
       "    </tr>\n",
       "    <tr>\n",
       "      <th>20</th>\n",
       "      <td>Stop_num</td>\n",
       "      <td>0.000000</td>\n",
       "    </tr>\n",
       "    <tr>\n",
       "      <th>28</th>\n",
       "      <td>Station_num</td>\n",
       "      <td>0.000000</td>\n",
       "    </tr>\n",
       "    <tr>\n",
       "      <th>29</th>\n",
       "      <td>Roundabout_num</td>\n",
       "      <td>0.000000</td>\n",
       "    </tr>\n",
       "    <tr>\n",
       "      <th>31</th>\n",
       "      <td>Civil_Twilight_num</td>\n",
       "      <td>0.000000</td>\n",
       "    </tr>\n",
       "    <tr>\n",
       "      <th>32</th>\n",
       "      <td>Give_Way_num</td>\n",
       "      <td>0.000000</td>\n",
       "    </tr>\n",
       "    <tr>\n",
       "      <th>21</th>\n",
       "      <td>Traffic_Calming_num</td>\n",
       "      <td>0.000000</td>\n",
       "    </tr>\n",
       "    <tr>\n",
       "      <th>17</th>\n",
       "      <td>Turning_Loop_num</td>\n",
       "      <td>0.000000</td>\n",
       "    </tr>\n",
       "    <tr>\n",
       "      <th>19</th>\n",
       "      <td>Junction_num</td>\n",
       "      <td>0.000000</td>\n",
       "    </tr>\n",
       "    <tr>\n",
       "      <th>18</th>\n",
       "      <td>No_Exit_num</td>\n",
       "      <td>0.000000</td>\n",
       "    </tr>\n",
       "    <tr>\n",
       "      <th>16</th>\n",
       "      <td>Bump_num</td>\n",
       "      <td>0.000000</td>\n",
       "    </tr>\n",
       "    <tr>\n",
       "      <th>14</th>\n",
       "      <td>Month</td>\n",
       "      <td>0.000000</td>\n",
       "    </tr>\n",
       "    <tr>\n",
       "      <th>12</th>\n",
       "      <td>Start_hour</td>\n",
       "      <td>0.000000</td>\n",
       "    </tr>\n",
       "    <tr>\n",
       "      <th>11</th>\n",
       "      <td>Precipitation(in)</td>\n",
       "      <td>0.000000</td>\n",
       "    </tr>\n",
       "    <tr>\n",
       "      <th>10</th>\n",
       "      <td>Wind_Speed(mph)</td>\n",
       "      <td>0.000000</td>\n",
       "    </tr>\n",
       "    <tr>\n",
       "      <th>9</th>\n",
       "      <td>Visibility(mi)</td>\n",
       "      <td>0.000000</td>\n",
       "    </tr>\n",
       "    <tr>\n",
       "      <th>8</th>\n",
       "      <td>Pressure(in)</td>\n",
       "      <td>0.000000</td>\n",
       "    </tr>\n",
       "    <tr>\n",
       "      <th>7</th>\n",
       "      <td>Humidity(%)</td>\n",
       "      <td>0.000000</td>\n",
       "    </tr>\n",
       "    <tr>\n",
       "      <th>6</th>\n",
       "      <td>Wind_Chill(F)</td>\n",
       "      <td>0.000000</td>\n",
       "    </tr>\n",
       "    <tr>\n",
       "      <th>5</th>\n",
       "      <td>Temperature(F)</td>\n",
       "      <td>0.000000</td>\n",
       "    </tr>\n",
       "    <tr>\n",
       "      <th>33</th>\n",
       "      <td>Railway_num</td>\n",
       "      <td>0.000000</td>\n",
       "    </tr>\n",
       "  </tbody>\n",
       "</table>\n",
       "</div>"
      ],
      "text/plain": [
       "                      Feature  Importance\n",
       "15                       year   34.574723\n",
       "13          Accident_duration   29.433615\n",
       "1                   Start_Lng   19.309850\n",
       "0                   Start_Lat    6.090298\n",
       "3                     End_Lng    4.295784\n",
       "2                     End_Lat    3.984844\n",
       "4                Distance(mi)    2.160178\n",
       "30                   Side_num    0.150708\n",
       "25                Amenity_num    0.000000\n",
       "22         Sunrise_Sunset_num    0.000000\n",
       "23      Nautical_Twilight_num    0.000000\n",
       "24  Astronomical_Twilight_num    0.000000\n",
       "27         Traffic_Signal_num    0.000000\n",
       "26               Crossing_num    0.000000\n",
       "20                   Stop_num    0.000000\n",
       "28                Station_num    0.000000\n",
       "29             Roundabout_num    0.000000\n",
       "31         Civil_Twilight_num    0.000000\n",
       "32               Give_Way_num    0.000000\n",
       "21        Traffic_Calming_num    0.000000\n",
       "17           Turning_Loop_num    0.000000\n",
       "19               Junction_num    0.000000\n",
       "18                No_Exit_num    0.000000\n",
       "16                   Bump_num    0.000000\n",
       "14                      Month    0.000000\n",
       "12                 Start_hour    0.000000\n",
       "11          Precipitation(in)    0.000000\n",
       "10            Wind_Speed(mph)    0.000000\n",
       "9              Visibility(mi)    0.000000\n",
       "8                Pressure(in)    0.000000\n",
       "7                 Humidity(%)    0.000000\n",
       "6               Wind_Chill(F)    0.000000\n",
       "5              Temperature(F)    0.000000\n",
       "33                Railway_num    0.000000"
      ]
     },
     "execution_count": 95,
     "metadata": {},
     "output_type": "execute_result"
    }
   ],
   "source": [
    "# Get the feature importances\n",
    "importances = dt_model.featureImportances\n",
    "\n",
    "importances_df = pd.DataFrame({\"Feature\": US_Accidents_ML.columns[1:],\"Importance\":importances.toArray()*100})\n",
    "importances_df = importances_df.sort_values('Importance',ascending=False)\n",
    "importances_df"
   ]
  },
  {
   "cell_type": "markdown",
   "metadata": {
    "application/vnd.databricks.v1+cell": {
     "cellMetadata": {},
     "inputWidgets": {},
     "nuid": "732a4aef-fd93-4fee-a5d3-9c6624394126",
     "showTitle": false,
     "title": ""
    }
   },
   "source": [
    "#### Random Forest"
   ]
  },
  {
   "cell_type": "code",
   "execution_count": 40,
   "metadata": {},
   "outputs": [],
   "source": [
    "from pyspark.ml.classification import RandomForestClassifier\n",
    "\n",
    "# Select the ML algorithm\n",
    "rf = RandomForestClassifier(labelCol=\"Severity\", featuresCol=\"Feature_Columns\")\n",
    "rf_model = rf.fit(US_Accidents_train)"
   ]
  },
  {
   "cell_type": "code",
   "execution_count": 41,
   "metadata": {},
   "outputs": [],
   "source": [
    "# Evaluate the model\n",
    "results = rf_model.transform(US_Accidents_test)"
   ]
  },
  {
   "cell_type": "code",
   "execution_count": 42,
   "metadata": {},
   "outputs": [
    {
     "name": "stderr",
     "output_type": "stream",
     "text": [
      "C:\\Anaconda3\\lib\\site-packages\\sklearn\\metrics\\classification.py:1437: UndefinedMetricWarning: Precision and F-score are ill-defined and being set to 0.0 in labels with no predicted samples.\n",
      "  'precision', 'predicted', average, warn_for)\n"
     ]
    },
    {
     "name": "stdout",
     "output_type": "stream",
     "text": [
      "              precision    recall  f1-score   support\n",
      "\n",
      "         1.0       0.00      0.00      0.00      4604\n",
      "         2.0       0.93      1.00      0.97    411596\n",
      "         3.0       1.00      0.00      0.01     12789\n",
      "         4.0       0.00      0.00      0.00     12481\n",
      "\n",
      "    accuracy                           0.93    441470\n",
      "   macro avg       0.48      0.25      0.24    441470\n",
      "weighted avg       0.90      0.93      0.90    441470\n",
      "\n"
     ]
    }
   ],
   "source": [
    "y_true = results.select(['Severity']).collect()\n",
    "y_pred = results.select(['prediction']).collect()\n",
    "\n",
    "from sklearn.metrics import classification_report, confusion_matrix\n",
    "print(classification_report(y_true, y_pred))"
   ]
  },
  {
   "cell_type": "code",
   "execution_count": 43,
   "metadata": {},
   "outputs": [
    {
     "name": "stdout",
     "output_type": "stream",
     "text": [
      "[[     0   4604      0      0]\n",
      " [     0 411596      0      0]\n",
      " [     0  12754     35      0]\n",
      " [     0  12481      0      0]]\n"
     ]
    }
   ],
   "source": [
    "print(confusion_matrix(y_true, y_pred))"
   ]
  },
  {
   "cell_type": "code",
   "execution_count": 96,
   "metadata": {},
   "outputs": [
    {
     "data": {
      "text/html": [
       "<div>\n",
       "<style scoped>\n",
       "    .dataframe tbody tr th:only-of-type {\n",
       "        vertical-align: middle;\n",
       "    }\n",
       "\n",
       "    .dataframe tbody tr th {\n",
       "        vertical-align: top;\n",
       "    }\n",
       "\n",
       "    .dataframe thead th {\n",
       "        text-align: right;\n",
       "    }\n",
       "</style>\n",
       "<table border=\"1\" class=\"dataframe\">\n",
       "  <thead>\n",
       "    <tr style=\"text-align: right;\">\n",
       "      <th></th>\n",
       "      <th>Feature</th>\n",
       "      <th>Importance</th>\n",
       "    </tr>\n",
       "  </thead>\n",
       "  <tbody>\n",
       "    <tr>\n",
       "      <th>15</th>\n",
       "      <td>year</td>\n",
       "      <td>20.228990</td>\n",
       "    </tr>\n",
       "    <tr>\n",
       "      <th>13</th>\n",
       "      <td>Accident_duration</td>\n",
       "      <td>19.362987</td>\n",
       "    </tr>\n",
       "    <tr>\n",
       "      <th>14</th>\n",
       "      <td>Month</td>\n",
       "      <td>16.280788</td>\n",
       "    </tr>\n",
       "    <tr>\n",
       "      <th>4</th>\n",
       "      <td>Distance(mi)</td>\n",
       "      <td>9.238778</td>\n",
       "    </tr>\n",
       "    <tr>\n",
       "      <th>1</th>\n",
       "      <td>Start_Lng</td>\n",
       "      <td>8.063700</td>\n",
       "    </tr>\n",
       "    <tr>\n",
       "      <th>3</th>\n",
       "      <td>End_Lng</td>\n",
       "      <td>7.623144</td>\n",
       "    </tr>\n",
       "    <tr>\n",
       "      <th>8</th>\n",
       "      <td>Pressure(in)</td>\n",
       "      <td>4.566789</td>\n",
       "    </tr>\n",
       "    <tr>\n",
       "      <th>2</th>\n",
       "      <td>End_Lat</td>\n",
       "      <td>4.407640</td>\n",
       "    </tr>\n",
       "    <tr>\n",
       "      <th>0</th>\n",
       "      <td>Start_Lat</td>\n",
       "      <td>4.118971</td>\n",
       "    </tr>\n",
       "    <tr>\n",
       "      <th>27</th>\n",
       "      <td>Traffic_Signal_num</td>\n",
       "      <td>2.015521</td>\n",
       "    </tr>\n",
       "    <tr>\n",
       "      <th>6</th>\n",
       "      <td>Wind_Chill(F)</td>\n",
       "      <td>1.070292</td>\n",
       "    </tr>\n",
       "    <tr>\n",
       "      <th>9</th>\n",
       "      <td>Visibility(mi)</td>\n",
       "      <td>0.716673</td>\n",
       "    </tr>\n",
       "    <tr>\n",
       "      <th>26</th>\n",
       "      <td>Crossing_num</td>\n",
       "      <td>0.609918</td>\n",
       "    </tr>\n",
       "    <tr>\n",
       "      <th>22</th>\n",
       "      <td>Sunrise_Sunset_num</td>\n",
       "      <td>0.412364</td>\n",
       "    </tr>\n",
       "    <tr>\n",
       "      <th>7</th>\n",
       "      <td>Humidity(%)</td>\n",
       "      <td>0.293472</td>\n",
       "    </tr>\n",
       "    <tr>\n",
       "      <th>24</th>\n",
       "      <td>Astronomical_Twilight_num</td>\n",
       "      <td>0.272273</td>\n",
       "    </tr>\n",
       "    <tr>\n",
       "      <th>28</th>\n",
       "      <td>Station_num</td>\n",
       "      <td>0.251192</td>\n",
       "    </tr>\n",
       "    <tr>\n",
       "      <th>5</th>\n",
       "      <td>Temperature(F)</td>\n",
       "      <td>0.202416</td>\n",
       "    </tr>\n",
       "    <tr>\n",
       "      <th>19</th>\n",
       "      <td>Junction_num</td>\n",
       "      <td>0.075911</td>\n",
       "    </tr>\n",
       "    <tr>\n",
       "      <th>30</th>\n",
       "      <td>Side_num</td>\n",
       "      <td>0.055215</td>\n",
       "    </tr>\n",
       "    <tr>\n",
       "      <th>23</th>\n",
       "      <td>Nautical_Twilight_num</td>\n",
       "      <td>0.042148</td>\n",
       "    </tr>\n",
       "    <tr>\n",
       "      <th>33</th>\n",
       "      <td>Railway_num</td>\n",
       "      <td>0.037250</td>\n",
       "    </tr>\n",
       "    <tr>\n",
       "      <th>31</th>\n",
       "      <td>Civil_Twilight_num</td>\n",
       "      <td>0.027972</td>\n",
       "    </tr>\n",
       "    <tr>\n",
       "      <th>12</th>\n",
       "      <td>Start_hour</td>\n",
       "      <td>0.021336</td>\n",
       "    </tr>\n",
       "    <tr>\n",
       "      <th>18</th>\n",
       "      <td>No_Exit_num</td>\n",
       "      <td>0.003884</td>\n",
       "    </tr>\n",
       "    <tr>\n",
       "      <th>11</th>\n",
       "      <td>Precipitation(in)</td>\n",
       "      <td>0.000374</td>\n",
       "    </tr>\n",
       "    <tr>\n",
       "      <th>21</th>\n",
       "      <td>Traffic_Calming_num</td>\n",
       "      <td>0.000000</td>\n",
       "    </tr>\n",
       "    <tr>\n",
       "      <th>20</th>\n",
       "      <td>Stop_num</td>\n",
       "      <td>0.000000</td>\n",
       "    </tr>\n",
       "    <tr>\n",
       "      <th>25</th>\n",
       "      <td>Amenity_num</td>\n",
       "      <td>0.000000</td>\n",
       "    </tr>\n",
       "    <tr>\n",
       "      <th>16</th>\n",
       "      <td>Bump_num</td>\n",
       "      <td>0.000000</td>\n",
       "    </tr>\n",
       "    <tr>\n",
       "      <th>29</th>\n",
       "      <td>Roundabout_num</td>\n",
       "      <td>0.000000</td>\n",
       "    </tr>\n",
       "    <tr>\n",
       "      <th>10</th>\n",
       "      <td>Wind_Speed(mph)</td>\n",
       "      <td>0.000000</td>\n",
       "    </tr>\n",
       "    <tr>\n",
       "      <th>32</th>\n",
       "      <td>Give_Way_num</td>\n",
       "      <td>0.000000</td>\n",
       "    </tr>\n",
       "    <tr>\n",
       "      <th>17</th>\n",
       "      <td>Turning_Loop_num</td>\n",
       "      <td>0.000000</td>\n",
       "    </tr>\n",
       "  </tbody>\n",
       "</table>\n",
       "</div>"
      ],
      "text/plain": [
       "                      Feature  Importance\n",
       "15                       year   20.228990\n",
       "13          Accident_duration   19.362987\n",
       "14                      Month   16.280788\n",
       "4                Distance(mi)    9.238778\n",
       "1                   Start_Lng    8.063700\n",
       "3                     End_Lng    7.623144\n",
       "8                Pressure(in)    4.566789\n",
       "2                     End_Lat    4.407640\n",
       "0                   Start_Lat    4.118971\n",
       "27         Traffic_Signal_num    2.015521\n",
       "6               Wind_Chill(F)    1.070292\n",
       "9              Visibility(mi)    0.716673\n",
       "26               Crossing_num    0.609918\n",
       "22         Sunrise_Sunset_num    0.412364\n",
       "7                 Humidity(%)    0.293472\n",
       "24  Astronomical_Twilight_num    0.272273\n",
       "28                Station_num    0.251192\n",
       "5              Temperature(F)    0.202416\n",
       "19               Junction_num    0.075911\n",
       "30                   Side_num    0.055215\n",
       "23      Nautical_Twilight_num    0.042148\n",
       "33                Railway_num    0.037250\n",
       "31         Civil_Twilight_num    0.027972\n",
       "12                 Start_hour    0.021336\n",
       "18                No_Exit_num    0.003884\n",
       "11          Precipitation(in)    0.000374\n",
       "21        Traffic_Calming_num    0.000000\n",
       "20                   Stop_num    0.000000\n",
       "25                Amenity_num    0.000000\n",
       "16                   Bump_num    0.000000\n",
       "29             Roundabout_num    0.000000\n",
       "10            Wind_Speed(mph)    0.000000\n",
       "32               Give_Way_num    0.000000\n",
       "17           Turning_Loop_num    0.000000"
      ]
     },
     "execution_count": 96,
     "metadata": {},
     "output_type": "execute_result"
    }
   ],
   "source": [
    "# Get the feature importances\n",
    "importances = rf_model.featureImportances\n",
    "\n",
    "importances_df = pd.DataFrame({\"Feature\": US_Accidents_ML.columns[1:],\"Importance\":importances.toArray()*100})\n",
    "importances_df = importances_df.sort_values('Importance',ascending=False)\n",
    "importances_df"
   ]
  },
  {
   "cell_type": "markdown",
   "metadata": {},
   "source": [
    "#### Logistic Regression"
   ]
  },
  {
   "cell_type": "code",
   "execution_count": 45,
   "metadata": {},
   "outputs": [],
   "source": [
    "from pyspark.ml.classification import LogisticRegression\n",
    "# Select the ML algorithm\n",
    "lr = LogisticRegression(labelCol=\"Severity\", featuresCol=\"Feature_Columns\")\n",
    "lr_model = lr.fit(US_Accidents_train)"
   ]
  },
  {
   "cell_type": "code",
   "execution_count": 46,
   "metadata": {},
   "outputs": [],
   "source": [
    "# Evaluate the model\n",
    "results = lr_model.transform(US_Accidents_test)"
   ]
  },
  {
   "cell_type": "code",
   "execution_count": 47,
   "metadata": {},
   "outputs": [
    {
     "name": "stdout",
     "output_type": "stream",
     "text": [
      "              precision    recall  f1-score   support\n",
      "\n",
      "         1.0       0.32      0.01      0.03      4604\n",
      "         2.0       0.94      0.99      0.96    411596\n",
      "         3.0       0.26      0.07      0.11     12789\n",
      "         4.0       0.38      0.02      0.04     12481\n",
      "\n",
      "    accuracy                           0.93    441470\n",
      "   macro avg       0.47      0.28      0.29    441470\n",
      "weighted avg       0.89      0.93      0.90    441470\n",
      "\n"
     ]
    }
   ],
   "source": [
    "y_true = results.select(['Severity']).collect()\n",
    "y_pred = results.select(['prediction']).collect()\n",
    "\n",
    "from sklearn.metrics import classification_report, confusion_matrix\n",
    "print(classification_report(y_true, y_pred))"
   ]
  },
  {
   "cell_type": "code",
   "execution_count": 48,
   "metadata": {},
   "outputs": [
    {
     "name": "stdout",
     "output_type": "stream",
     "text": [
      "[[    64   4537      2      1]\n",
      " [   106 409037   2090    363]\n",
      " [    16  11768    904    101]\n",
      " [    16  11697    481    287]]\n"
     ]
    }
   ],
   "source": [
    "print(confusion_matrix(y_true, y_pred))"
   ]
  },
  {
   "cell_type": "code",
   "execution_count": null,
   "metadata": {},
   "outputs": [],
   "source": []
  }
 ],
 "metadata": {
  "application/vnd.databricks.v1+notebook": {
   "dashboards": [],
   "language": "python",
   "notebookMetadata": {
    "pythonIndentUnit": 4
   },
   "notebookName": "US Traffic - Big Data Final Project",
   "notebookOrigID": 1153486141498674,
   "widgets": {}
  },
  "kernelspec": {
   "display_name": "Python 3",
   "language": "python",
   "name": "python3"
  },
  "language_info": {
   "codemirror_mode": {
    "name": "ipython",
    "version": 3
   },
   "file_extension": ".py",
   "mimetype": "text/x-python",
   "name": "python",
   "nbconvert_exporter": "python",
   "pygments_lexer": "ipython3",
   "version": "3.7.4"
  }
 },
 "nbformat": 4,
 "nbformat_minor": 1
}

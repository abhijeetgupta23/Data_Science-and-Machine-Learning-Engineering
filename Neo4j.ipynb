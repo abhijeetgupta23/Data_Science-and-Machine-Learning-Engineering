{
 "cells": [
  {
   "cell_type": "code",
   "execution_count": 1,
   "metadata": {},
   "outputs": [
    {
     "name": "stdout",
     "output_type": "stream",
     "text": [
      "5.1.0\n"
     ]
    }
   ],
   "source": [
    "from neo4j import __version__ as neo4j_version\n",
    "print(neo4j_version)"
   ]
  },
  {
   "cell_type": "code",
   "execution_count": 2,
   "metadata": {},
   "outputs": [],
   "source": [
    "from neo4j import GraphDatabase\n",
    "class Neo4jConnection:\n",
    "    \n",
    "    def __init__(self, uri, user, pwd):\n",
    "        self.__uri = uri\n",
    "        self.__user = user\n",
    "        self.__pwd = pwd\n",
    "        self.__driver = None\n",
    "        try:\n",
    "            self.__driver = GraphDatabase.driver(self.__uri, auth=(self.__user, self.__pwd))\n",
    "        except Exception as e:\n",
    "            print(\"Failed to create the driver:\", e)\n",
    "        \n",
    "    def close(self):\n",
    "        if self.__driver is not None:\n",
    "            self.__driver.close()\n",
    "        \n",
    "    def query(self, query, db=None):\n",
    "        assert self.__driver is not None, \"Driver not initialized!\"\n",
    "        session = None\n",
    "        response = None\n",
    "        try: \n",
    "            session = self.__driver.session(database=db) if db is not None else self.__driver.session() \n",
    "            response = list(session.run(query))\n",
    "        except Exception as e:\n",
    "            print(\"Query failed:\", e)\n",
    "        finally: \n",
    "            if session is not None:\n",
    "                session.close()\n",
    "        return response"
   ]
  },
  {
   "cell_type": "code",
   "execution_count": 3,
   "metadata": {},
   "outputs": [],
   "source": [
    "conn = Neo4jConnection(uri=\"bolt://localhost:11012\", user=\"superman\", pwd=\"pizza\")"
   ]
  },
  {
   "cell_type": "code",
   "execution_count": 4,
   "metadata": {},
   "outputs": [
    {
     "data": {
      "text/plain": [
       "[]"
      ]
     },
     "execution_count": 4,
     "metadata": {},
     "output_type": "execute_result"
    }
   ],
   "source": [
    "conn.query(\"MATCH (n) DETACH DELETE n\")"
   ]
  },
  {
   "cell_type": "code",
   "execution_count": 5,
   "metadata": {},
   "outputs": [
    {
     "data": {
      "text/plain": [
       "[]"
      ]
     },
     "execution_count": 5,
     "metadata": {},
     "output_type": "execute_result"
    }
   ],
   "source": [
    "conn.query(\"\"\"CREATE (matrix1:Movie { title : 'The Matrix', year : '1999-03-31' })\n",
    "CREATE (matrix2:Movie { title : 'The Matrix Reloaded', year : '2003-05-07' })\n",
    "CREATE (matrix3:Movie { title : 'The Matrix Revolutions', year : '2003-10-27' })\n",
    "CREATE (keanu:Actor { name:'Keanu Reeves' })\n",
    "CREATE (laurence:Actor { name:'Laurence Fishburne' })\n",
    "CREATE (carrieanne:Actor { name:'Carrie-Anne Moss' })\n",
    "CREATE (keanu)-[:ACTS_IN { role : 'Neo' }]->(matrix1)\n",
    "CREATE (keanu)-[:ACTS_IN { role : 'Neo' }]->(matrix2)\n",
    "CREATE (keanu)-[:ACTS_IN { role : 'Neo' }]->(matrix3)\n",
    "CREATE (laurence)-[:ACTS_IN { role : 'Morpheus' }]->(matrix1)\n",
    "CREATE (laurence)-[:ACTS_IN { role : 'Morpheus' }]->(matrix2)\n",
    "CREATE (laurence)-[:ACTS_IN { role : 'Morpheus' }]->(matrix3)\n",
    "CREATE (carrieanne)-[:ACTS_IN { role : 'Trinity' }]->(matrix1)\n",
    "CREATE (carrieanne)-[:ACTS_IN { role : 'Trinity' }]->(matrix2)\n",
    "CREATE (carrieanne)-[:ACTS_IN { role : 'Trinity' }]->(matrix3)\n",
    "\"\"\")"
   ]
  },
  {
   "cell_type": "code",
   "execution_count": 6,
   "metadata": {},
   "outputs": [
    {
     "data": {
      "text/plain": [
       "[]"
      ]
     },
     "execution_count": 6,
     "metadata": {},
     "output_type": "execute_result"
    }
   ],
   "source": [
    "conn.query(\"\"\"\n",
    "CREATE (johnwick:Movie { title : 'John Wick', year : '2014-10-24' })\n",
    "CREATE (chad:Director { name:'Chad Stahelski' })\n",
    "CREATE (david:Director { name:'David Leitch' })\n",
    "CREATE (william:Actor { name:'William Dafoe' })\n",
    "CREATE (michael:Actor { name:'Michael Nyquist' })\n",
    "CREATE (william)-[:ACTS_IN { role : 'Marcus' }]->(johnwick)\n",
    "CREATE (michael)-[:ACTS_IN { role : 'Viggo Tarasov' }]->(johnwick)\n",
    "CREATE (chad)-[:DIRECTS]->(johnwick)\n",
    "CREATE (david)-[:DIRECTS]->(johnwick)\n",
    "\"\"\")"
   ]
  },
  {
   "cell_type": "code",
   "execution_count": 7,
   "metadata": {},
   "outputs": [
    {
     "data": {
      "text/plain": [
       "[]"
      ]
     },
     "execution_count": 7,
     "metadata": {},
     "output_type": "execute_result"
    }
   ],
   "source": [
    "conn.query(\"\"\"MATCH (n {title:'John Wick'}), (m {name:'Keanu Reeves'}) CREATE (m)-[:ACTS_IN { role : 'John Wick' }]->(n)\"\"\")"
   ]
  },
  {
   "cell_type": "code",
   "execution_count": 8,
   "metadata": {},
   "outputs": [],
   "source": [
    "actor_list = conn.query(\"\"\"\n",
    "MATCH p = (:Actor {name:'Keanu Reeves'})-[:ACTS_IN]->(:Movie)<-[:ACTS_IN]-(co_actor:Actor) RETURN co_actor\n",
    "\"\"\")"
   ]
  },
  {
   "cell_type": "code",
   "execution_count": 9,
   "metadata": {},
   "outputs": [
    {
     "data": {
      "text/plain": [
       "[<Record co_actor=<Node element_id='2' labels=frozenset({'Actor'}) properties={'name': 'Michael Nyquist'}>>,\n",
       " <Record co_actor=<Node element_id='1' labels=frozenset({'Actor'}) properties={'name': 'William Dafoe'}>>,\n",
       " <Record co_actor=<Node element_id='23' labels=frozenset({'Actor'}) properties={'name': 'Carrie-Anne Moss'}>>,\n",
       " <Record co_actor=<Node element_id='22' labels=frozenset({'Actor'}) properties={'name': 'Laurence Fishburne'}>>,\n",
       " <Record co_actor=<Node element_id='23' labels=frozenset({'Actor'}) properties={'name': 'Carrie-Anne Moss'}>>,\n",
       " <Record co_actor=<Node element_id='22' labels=frozenset({'Actor'}) properties={'name': 'Laurence Fishburne'}>>,\n",
       " <Record co_actor=<Node element_id='23' labels=frozenset({'Actor'}) properties={'name': 'Carrie-Anne Moss'}>>,\n",
       " <Record co_actor=<Node element_id='22' labels=frozenset({'Actor'}) properties={'name': 'Laurence Fishburne'}>>]"
      ]
     },
     "execution_count": 9,
     "metadata": {},
     "output_type": "execute_result"
    }
   ],
   "source": [
    "actor_list"
   ]
  },
  {
   "cell_type": "code",
   "execution_count": 10,
   "metadata": {},
   "outputs": [],
   "source": [
    "co_actorList = []\n",
    "for actor in actor_list:\n",
    "    co_actorList.append(actor.data()['co_actor']['name'])"
   ]
  },
  {
   "cell_type": "code",
   "execution_count": 11,
   "metadata": {
    "scrolled": true
   },
   "outputs": [
    {
     "data": {
      "text/plain": [
       "{'Carrie-Anne Moss', 'Laurence Fishburne', 'Michael Nyquist', 'William Dafoe'}"
      ]
     },
     "execution_count": 11,
     "metadata": {},
     "output_type": "execute_result"
    }
   ],
   "source": [
    "co_actorSet = set(co_actorList)\n",
    "co_actorSet"
   ]
  },
  {
   "cell_type": "code",
   "execution_count": 12,
   "metadata": {},
   "outputs": [],
   "source": [
    "director_list = conn.query(\"\"\"\n",
    "MATCH p = (:Actor {name:'Keanu Reeves'})-[:ACTS_IN]->(:Movie)<-[:DIRECTS]-(dir:Director) RETURN dir\n",
    "\"\"\")"
   ]
  },
  {
   "cell_type": "code",
   "execution_count": 13,
   "metadata": {},
   "outputs": [
    {
     "data": {
      "text/plain": [
       "[<Record dir=<Node element_id='25' labels=frozenset({'Director'}) properties={'name': 'Chad Stahelski'}>>,\n",
       " <Record dir=<Node element_id='0' labels=frozenset({'Director'}) properties={'name': 'David Leitch'}>>]"
      ]
     },
     "execution_count": 13,
     "metadata": {},
     "output_type": "execute_result"
    }
   ],
   "source": [
    "director_list"
   ]
  },
  {
   "cell_type": "code",
   "execution_count": 14,
   "metadata": {},
   "outputs": [],
   "source": [
    "director_set = []\n",
    "for director in director_list:\n",
    "    director_set.append(director.data()['dir']['name'])"
   ]
  },
  {
   "cell_type": "code",
   "execution_count": 15,
   "metadata": {},
   "outputs": [],
   "source": [
    "director_list = conn.query(\"\"\"\n",
    "MATCH p = (:Actor {name:'Keanu Reeves'})-[:ACTS_IN]->(:Movie)<-[:DIRECTS]-(dir:Director) RETURN dir\n",
    "\"\"\")"
   ]
  },
  {
   "cell_type": "code",
   "execution_count": 16,
   "metadata": {
    "scrolled": false
   },
   "outputs": [
    {
     "data": {
      "text/plain": [
       "[<Record dir=<Node element_id='25' labels=frozenset({'Director'}) properties={'name': 'Chad Stahelski'}>>,\n",
       " <Record dir=<Node element_id='0' labels=frozenset({'Director'}) properties={'name': 'David Leitch'}>>]"
      ]
     },
     "execution_count": 16,
     "metadata": {},
     "output_type": "execute_result"
    }
   ],
   "source": [
    "director_list"
   ]
  },
  {
   "cell_type": "code",
   "execution_count": 17,
   "metadata": {},
   "outputs": [
    {
     "data": {
      "text/plain": [
       "{'Chad Stahelski', 'David Leitch'}"
      ]
     },
     "execution_count": 17,
     "metadata": {},
     "output_type": "execute_result"
    }
   ],
   "source": [
    "director_set = set(director_set)\n",
    "director_set"
   ]
  },
  {
   "cell_type": "markdown",
   "metadata": {},
   "source": [
    "## Write to CSV, delete existing Graph, then load CSV to Neo4j as Graph"
   ]
  },
  {
   "cell_type": "code",
   "execution_count": 18,
   "metadata": {},
   "outputs": [],
   "source": [
    "import pandas as pd\n",
    "\n",
    "# We can only import and export CSV to Neo4j from the below import directory (local)\n",
    "\n",
    "base_loc = \"\"\"C:\\\\Users\\\\Abhijeet Gupta\\\\.Neo4jDesktop\\\\relate-data\\\\dbmss\\\\\n",
    "dbms-8445bcbc-9670-4bf5-aee9-dc7e82460694\\\\import\\\\\"\"\"\n",
    "\n",
    "# Get Nodes as DataFrames for each type\n",
    "\n",
    "movie  = pd.DataFrame(conn.query(\"MATCH (m:Movie) return m.title as title, m.year as year\"),columns=[\"title\",\"year\"])\n",
    "actor  = pd.DataFrame(conn.query(\"MATCH (a:Actor) return a.name as name\"),columns=[\"name\"])\n",
    "director  = pd.DataFrame(conn.query(\"MATCH (a:Director) return a.name as name\"),columns=[\"name\"])\n",
    "\n",
    "# Get Relationships as DataFrames for each type\n",
    "\n",
    "acts_in = pd.DataFrame(\n",
    "    conn.query(\"MATCH (a:Actor)-[r:ACTS_IN]->(m:Movie) return a.name as name, m.title as title, r.role as role\"),\n",
    "    columns=[\"name\",\"title\",\"role\"])\n",
    "\n",
    "directs_in = pd.DataFrame(\n",
    "    conn.query(\"MATCH (d:Director)-[r:DIRECTS]->(m:Movie) return d.name as name, m.title as title\"),\n",
    "    columns=[\"name\",\"title\"])"
   ]
  },
  {
   "cell_type": "code",
   "execution_count": 20,
   "metadata": {},
   "outputs": [],
   "source": [
    "# Export Nodes/Relationships DataFrames to CSV\n",
    "\n",
    "movie.to_csv(base_loc + \"export_movies.csv\")\n",
    "actor.to_csv(base_loc + \"export_actors.csv\")\n",
    "director.to_csv(base_loc + \"export_directors.csv\")\n",
    "\n",
    "acts_in.to_csv(base_loc + \"export_acts_in.csv\")\n",
    "directs_in.to_csv(base_loc + \"export_directs_in.csv\")"
   ]
  },
  {
   "cell_type": "code",
   "execution_count": 24,
   "metadata": {},
   "outputs": [
    {
     "data": {
      "text/plain": [
       "[]"
      ]
     },
     "execution_count": 24,
     "metadata": {},
     "output_type": "execute_result"
    }
   ],
   "source": [
    "# delete entire graph\n",
    "\n",
    "conn.query(\"MATCH (n) DETACH DELETE n\")"
   ]
  },
  {
   "cell_type": "code",
   "execution_count": 25,
   "metadata": {},
   "outputs": [
    {
     "data": {
      "text/plain": [
       "[]"
      ]
     },
     "execution_count": 25,
     "metadata": {},
     "output_type": "execute_result"
    }
   ],
   "source": [
    "# load csv to Neo4j as graph\n",
    "\n",
    "conn.query(\"\"\"load csv with headers from 'file:///export_movies.csv' AS\n",
    "          line CREATE (m:Movie { id:line.id, title:line.title, year:line.year})\"\"\")\n",
    "conn.query(\"\"\"load csv with headers from 'file:///export_actors.csv' AS\n",
    "          line CREATE (a:Actor {id:line.id,name:line.name})\"\"\")\n",
    "conn.query(\"\"\"load csv with headers from 'file:///export_directors.csv' AS\n",
    "          line CREATE (d:Director { id:line.id,name:line.name})\"\"\")\n",
    "\n",
    "conn.query(\"\"\"load csv with headers from 'file:///export_acts_in.csv' AS\n",
    "          line MATCH (m:Movie { title:line.title }) MATCH (a:Actor { name:line.name })\n",
    "          CREATE (a)-[:ACTS_IN { roles: [line.role]}]->(m)\"\"\")\n",
    "conn.query(\"\"\"load csv with headers from 'file:///export_directs_in.csv' AS\n",
    "          line MATCH (m:Movie { title:line.title }) MATCH (d:Director { name:line.name })\n",
    "          CREATE (d)-[:DIRECTS]->(m)\"\"\")"
   ]
  }
 ],
 "metadata": {
  "kernelspec": {
   "display_name": "Python 3",
   "language": "python",
   "name": "python3"
  },
  "language_info": {
   "codemirror_mode": {
    "name": "ipython",
    "version": 3
   },
   "file_extension": ".py",
   "mimetype": "text/x-python",
   "name": "python",
   "nbconvert_exporter": "python",
   "pygments_lexer": "ipython3",
   "version": "3.7.4"
  }
 },
 "nbformat": 4,
 "nbformat_minor": 4
}

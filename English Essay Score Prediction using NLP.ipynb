{
 "cells": [
  {
   "cell_type": "markdown",
   "metadata": {
    "id": "ilFJ8yUbk3P_"
   },
   "source": [
    "# **English Language Learners (ELLs)** Vocabulary Score prediction \n",
    "\n",
    "## An **NLP** and **ML** approach\n",
    "\n",
    "### The dataset presented here comprises argumentative essays written by 8th-12th grade English Language Learners (ELLs). The essays have been scored according to six analytic measures: cohesion, syntax, vocabulary, phraseology, grammar, and conventions.\n",
    "\n",
    "### Each measure represents a component of proficiency in essay writing, with greater scores corresponding to greater proficiency in that measure. The scores range from 1.0 to 5.0 in increments of 0.5. Our task is to predict the score of each of the six measures for the essays given in the test set."
   ]
  },
  {
   "cell_type": "code",
   "execution_count": 168,
   "metadata": {
    "colab": {
     "base_uri": "https://localhost:8080/"
    },
    "id": "I64yUFcpeY2Z",
    "outputId": "0515a328-ccf7-49c3-bc0d-e14878fa08f5"
   },
   "outputs": [
    {
     "name": "stderr",
     "output_type": "stream",
     "text": [
      "[nltk_data] Downloading package punkt to /root/nltk_data...\n",
      "[nltk_data]   Package punkt is already up-to-date!\n"
     ]
    },
    {
     "data": {
      "text/plain": [
       "True"
      ]
     },
     "execution_count": 168,
     "metadata": {},
     "output_type": "execute_result"
    }
   ],
   "source": [
    "import numpy as np\n",
    "import pandas as pd\n",
    "\n",
    "import nltk\n",
    "nltk.download('punkt')"
   ]
  },
  {
   "cell_type": "code",
   "execution_count": 169,
   "metadata": {
    "id": "end3EbgBfq9_"
   },
   "outputs": [],
   "source": [
    "ELL_train = pd.read_csv(\"train.csv\")"
   ]
  },
  {
   "cell_type": "code",
   "execution_count": 170,
   "metadata": {
    "colab": {
     "base_uri": "https://localhost:8080/"
    },
    "id": "Y4y32L80frJe",
    "outputId": "9f747f48-8818-4955-dc13-e232f5573d92"
   },
   "outputs": [
    {
     "data": {
      "text/plain": [
       "0       I think that students would benefit from learn...\n",
       "1       When a problem is a change you have to let it ...\n",
       "2       Dear, Principal\\n\\nIf u change the school poli...\n",
       "3       The best time in life is when you become yours...\n",
       "4       Small act of kindness can impact in other peop...\n",
       "                              ...                        \n",
       "3906    I believe using cellphones in class for educat...\n",
       "3907    Working alone, students do not have to argue w...\n",
       "3908    \"A problem is a chance for you to do your best...\n",
       "3909    Many people disagree with Albert Schweitzer's ...\n",
       "3910    Do you think that failure is the main thing fo...\n",
       "Name: full_text, Length: 3911, dtype: object"
      ]
     },
     "execution_count": 170,
     "metadata": {},
     "output_type": "execute_result"
    }
   ],
   "source": [
    "ELL_train_text = ELL_train.full_text\n",
    "ELL_train_text"
   ]
  },
  {
   "cell_type": "code",
   "execution_count": 171,
   "metadata": {
    "colab": {
     "base_uri": "https://localhost:8080/"
    },
    "id": "IqnCFX2chWO3",
    "outputId": "3125cdf7-5804-4451-9aec-c5c1db127451"
   },
   "outputs": [
    {
     "name": "stdout",
     "output_type": "stream",
     "text": [
      "0:\tI think that students would benefit from learning at home,because they wont have to change and get up early in the morning to shower and do there hair. taking only classes helps them because at there house they'll be pay more attention. they will be comfortable at home.\n",
      "\n",
      "The hardest part of school is getting ready. you wake up go brush your teeth and go to your closet and look at your cloths. after you think you picked a outfit u go look in the mirror and youll either not like it or you look and see a stain. Then you'll have to change. with the online classes you can wear anything and stay home and you wont need to stress about what to wear.\n",
      "\n",
      "most students usually take showers before school. they either take it before they sleep or when they wake up. some students do both to smell good. that causes them do miss the bus and effects on there lesson time cause they come late to school. when u have online classes u wont need to miss lessons cause you can get everything set up and go take a shower and when u get out your ready to go.\n",
      "\n",
      "when your home your comfortable and you pay attention. it gives then an advantage to be smarter and even pass there classmates on class work. public schools are difficult even if you try. some teacher dont know how to teach it in then way that students understand it. that causes students to fail and they may repeat the class.              \n",
      "\n",
      "\n",
      "1:\tWhen a problem is a change you have to let it do the best on you no matter what is happening it can change your mind. sometimes you need to wake up and look what is around you because problems are the best way to change what you want to change along time ago. A\n",
      "\n",
      "problem is a change for you because it can make you see different and help you to understand how tings wok.\n",
      "\n",
      "First of all it can make you see different then the others. For example i remember that when i came to the United States i think that nothing was going to change me because i think that nothing was going to change me because everything was different that my country and then i realist that wrong because a problem may change you but sometimes can not change the way it is, but i remember that i was really shy but i think that change a lot because sometimes my problems make me think that there is more thing that i never see in my life but i just need to see it from a different way and dont let nothing happened and ruing the change that i want to make because of just a problem. For example i think that nothing was going to change me and that i dont need to be shy anymore became i need to start seeing everything in a different ways because you can get mad at every one but you need to know what is going to happened after,\n",
      "\n",
      "people may see you different but the only way that you know how to change is to do the best and don't let nothing or not body to change nothing about you. The way you want to change not one have that and can't do nothing about it because is your choice and your problems and you can decide what to do with it.\n",
      "\n",
      "second of all can help you to understand how things work. For instance my mom have a lot of problems but she have faith when she is around people, my mom is scare of high and i'm not scare of high i did not understand why my mos is scare of high and in not scare of high and every time i see my mom in a airplane it make me laugh because she is scare and is funny, but i see it from a different way and i like the high but also she have to understand that hoe things work in other people because it can no be the same as you. For example i think that my mom and me are different because we are and i have to understand that she does not like high and i need to understand that. to help someone to understand how things work you need to start to see how things work in that persons life.\n",
      "\n",
      "A problem is a change for you and can make you a different and help you to understand. Everyone has a different opinion and a different was to understand then others. everyone can see the different opinion and what other people think.\n",
      "\n",
      "\n",
      "2:\tDear, Principal\n",
      "\n",
      "If u change the school policy of having a grade b average that unfair. Because many students have a C average. So that means that they cant go out for sports or other activities they want to do bad. That's like taking everything they have. What if kids want to become good at something, but now they cant because of that school policy. If they have a C average they should still be able to go out for sports or activities. A C average isn't that bad, its higher then a D average. If the school police was if you have a D average of lower they shouldn't do sports or activities. If they have a D average in school for not working hard, that's means that they in ain't going to try hard. If they have a C average and there trying hard they should be able to out for sports or activities. What if all the good people in sports have a C average in school, that means that they cant play and were going to lose every game we have. That's a good policy to get grade's up but don't take away something they care about. Everyone should be able to go out for sports if they want to. If the school policy happens, schools going to be boarding now, because now students cant go out for sports or other activities. The students that are doing good in school should feel good about themselves but we shouldn't take the other students away from the others ones. If we do this policy student will try to raised their grade but if they cant what happens they them. Should they just be out of it and think that schools boarding. If they do this its like taking away their video games. All I'm saying is that they have the right to go out for sports or activities.\n",
      "\n",
      "\n",
      "3:\tThe best time in life is when you become yourself. I agree that the greatest accomplishment, is when you be yourself in a world that constantly trying to make you something else. Because you make your own choices, you become more happy, and you respect others.\n",
      "\n",
      "First, you make your own choices by being yourself. Becoming yourself means that you should be able to make your own choices and not be shy or afraid of what you're doing. Because you're defining yourself by doing those things that you want. Some people follow others, therefore, they don't make their own choices. People are afraid to make their own choice because they don't want to get rejected or be wrong. In this world, most of the teenagers act and follow the people who are strong and bullies. The reason they follow them and make the same choices they make, is because they're afraid that they will get beaten up and be left out. Personally when I came to the United States I used to follow other, because I thought they were amazing. But one day, I knew I was walking in the wrong path and I left them. Making your own choices makes you happy because you get to do what you like and what you want to do. It's hard to make your own choices, but one day you're going to have to make your own choices. The more you mature the more it will become easier for you to not be afraid of what you're doing and how other people are looking at it, because at the end of the day It's your life and you do what you think is right.\n",
      "\n",
      "Second, You become more happy by being yourself because you make your own choices, You take responsibilities and you do whatever makes you happy. Also, some people act like they're happy while not being themselves, but matter of fact, they're depressed from the inside. Being yourself makes you more happy because you feel like you achieved something big. Also, Some religious kids who become themselves love everyone. In the bible it says \"Those who know God should love others, because God is love.\"\n",
      "\n",
      "Not being yourself will get you depressed because you don't do everything you want to do, but you do what others wanna do because you want to fit in. Some kids who come from a different country will do stuff they don't want to do just to fit in, because they don't want to be lonely. Some people are afraid they won't be happy because they would lose a lot of friends for being themselves, but they have to know that those people should be there for them and support them for what he's doing since it's his friends.\n",
      "\n",
      "Lastly, Respecting others will gain them to respect you. Some teenagers like to make fun of others, not listen to what they have to say, and they like to beat kids up. Also some kids don't like to not listen to their parents, and that is also disrespectful. The bible says \" Honor your father and mother.\"\n",
      "\n",
      "If you respect your parents and listen to them, then they would trust you and not ask you lots of questions. Respecting other should be really important, because you don't want others to not respect you. Also, Some people are disrespectful because they were never respected. Important things to do to be respectful is, Listen to what the other person has to say, Stand up for them, Being friends with them Doing all of that will gain you respect and you would have good friends. Also, if you see someone bullying a kid don't watch, and stand up for them, don't be afraid to stand up for someone because you're doing the right thing.\n",
      "\n",
      "Some may disagree with me and say that it's not that big of a deal, and it doesn't feel like a big accomplishment. But with all do respect, I agree that it's a big accomplishment because nowadays it's really hard to become yourself.\n",
      "\n",
      "In conclusion, It's hard to become yourself in this world, because others are holding that opportunity back from you and you're afraid to fight it back. That's why I agree that to be yourself in a world that is constantly trying to make you something else is the greatest accomplishment. \n",
      "\n",
      "\n",
      "4:\tSmall act of kindness can impact in other people can change people to become better persons you can have an impact of kindess with a homeles that can change his life or with some who needed they are going to know you are a nice person if you are a nice person everywhere you go people is going to like your personality so you have to be a nice person with others like a old women triying to cross the road thats a impact of kindness when you do that you feel a greate person you can change people in the way they think by helping others treating nice other people give them some advice when you see someone need it help someone older then you give food and new clothes to a homeless person is a big act of kindess maybe you wount change his life but you would change one day of his life when you do thoose stuffs you feel emotional.\n",
      "\n",
      "Another example of an act of kindess is when you help your friends to study for a test or explain them or when they need money you give some money is an act of kindess because you are helping your friend.\n",
      "\n",
      "Another example is not trowing trash on the floor if you put the trash where belong that is an act of kindess because benefits the earth and the people.                                                                                                                                      \n",
      "\n",
      "\n",
      "5:\tDear Principal,\r\n",
      "\r\n",
      "Our school should have a community center. The reasons why, are so students can learn what our community needs, how to make our community better place, and why is community important for students to know. Its a great to have a community center to know how we can make things better.\r\n",
      "\r\n",
      "Students think community center takes their time away. but they have to learn what our community needs. students will participate in a group of students making a list what our community needs, therefore students will learn what our community needs! students will present their list of things our community needs! due to that students will be giving extra credit for the ones who have low grades!\r\n",
      "\r\n",
      "Some students don't participate because their friends say its waste of time. it would not be waste of time when you get to know how our community can be a better place for us. students should know that the program is about our own lives, because if our community is bad well our lives are going to be bad. due to that students will want to participate and will want to make our community a better place for us.\r\n",
      "\r\n",
      "some student might say why is the community important anyways, were fine nothing is wrong. but when get to know what our community is, they would want to know about and would want to participate and know why is our community important. students will receive a good grade if they participate in this community because is like an extra credit. due to that their friends would want to enjoy the program because their friend told them about it.\r\n",
      "\r\n",
      "so principal the community center will be a great place for students to learn lots of things. so i guess this will be a good idea for our school. students will learn what our community needs, how to make our community a better place, and why is our community important!\r\n",
      "\r\n",
      "Sincerely, STUDENT_NAME\n",
      "\n",
      "\n",
      "6:\tImagine if you could prove other people that you are a good problem solver. Imagine that a problem is a good chance to do your best because youre a good problem solver, and you can learn something from that problem. I think that problems are a good chance to show people that youre good at something, and that they can seek your help if they need to. I agree that a problem is a good chance to do your best because you can learn from that problem, and prove yourself that you can do it.\n",
      "\n",
      "You can learn from your problems, and that it enhances your skills. Learning from your problems can help enhance your techniques for problem solving. Learning from your problems can help you on other problems you might have on future occasions. Getting good at problem solving can lead you to helping other is they need the help from or they dont really know what to do. When you are good at problem solving and you seek to get better problem solving becomes easy for you because you have been doing it for a long time.\n",
      "\n",
      "Proving yourself and others that you can be a good problem solver is an accomplishment. Being better at problem solving really comes in handy when youre trying to solve a problem or trying to figure something out. Proving yourself and other that you can be a good problem solver is an accomplishment. Whenever you help other people with a hard questions you feel accomplish because it was a hard question and you understood it while helping someone. Problem solving makes you smarter and you have to less work since you know what do and how to work out a hard problem.\n",
      "\n",
      "I agree that a problem is a good chance to do your best and learn from problems that you struggled on the past to use the steps that you took to solve that problem and apply it to other problems that might come in the future. Learning from your problems can make you have better techniques, apply the steps that you took to solve problems, help other if they need it, and it makes work easy. Proving yourself that you can be a a good problem solver makes you be a good proving solver, prove that you can do any problem with out any help, and you can feel accomplished about it. Proving solving can make help you learn from problems and apply that to other problems and you can prove yourself and other that you are a good problem solver. \n",
      "\n",
      "\n",
      "7:\tI think it's a good idea for the estudnets to commit to a career at a young age. In addiction, the students are expected to identify a career they want and use the best for them. So the students can study in higt school and select to guide them to career in specific they want.\n",
      "\n",
      "Fisrt, In high school all the students have diffents dream on the world. Some students dream to be a Doctor, arctecture, teacher, and nurse, ect. Is a good oportunity to have a good education and a make a good person and helpfull. Then, the students can have a better life and good jobs.\n",
      "\n",
      "Sometimes the students in young age estared to think about what carrer is better for them. Others think what career is usefull to make a good money and have a better class social. But all the students think diferent the others and we have to respet they decicion about they future.\n",
      "\n",
      "secondly, In my opinion is is good to think or dream in biger. In my potition my family do not have all lot of money to go to the university and pay for it. For example, some of my friends are a good Doctor and arquicteture, but the thing is when they want to be a good person a get better futures on their lifes. Usually, when we think about it , but is so dificul to do it.\n",
      "\n",
      "Thirt, students in the school have special classes to go with a career. all the people have the oportunity to think about, which want to study and where they go too. But some students cann't go to study the career they want ,because some of them have to work and pay bill in their hause. usually some of them have everything in the house and the only thing they have to do is study and make sure they work to complite all of the school and can go to study that set.\n",
      "\n",
      "In conclution,\n",
      "\n",
      "is a good idea to know what you want to study in young age. Also to be responsable all the things and have a great time of the life to think what is make you happy when you grew up. One day a want to be doctor of the animals. that will be make me happy.                          \n",
      "\n",
      "\n",
      "8:\tpositive attitude is the key to success. I agree because you can do anything as long as you put your mind and soul into it and motivation you can accomplish it. Then so by doing it you feel good about yourself you'll feel unstable. But do what brings the best in you, what makes you yourself.\n",
      "\n",
      "One way that importance of attitude is key to success is it motivates you to keep going forward. For example when you come across some difficulties you wont feel discouraged because your the limit and none other then you can or will change it. But the more discouraged you tend to feel at that moment you would wanna overcome it even if it makes whatever just as long as your mind is set to positive attitude you will accomplish it. Then so always remember what you put your mind to such as determination, positive attitude, willing you can its possible you will reach your goals. However you will with a positive mindset have a strong determination and you will build up self confidence in yourself.\n",
      "\n",
      "Then another reason is to grow individually with hard work. Positive attitude isen't quite the easiest for some people its really difficult for others to learn how to or even if they are willing to. But others tend to not always have positive attitude in anything they're just negative and havent tried to give their all they are stuck upon what others think. Then about what really is,you just have to not listen to what anyone thinks and focus on what you can accomplish because if you dont you will let them reflect on you but you dont want that for yourself. Then there's always going to be that one negative person to try to bring you down its up to you if you let it effect you. Just ignore them if you dont you will bet it affect you and you dont wanna fall back just because of others. With that being said in order to move forward you have to go though things individually but thats were you find yourself again and makes you stronger then before what your weaknesses were there not anymore because when facing things individually you blossom to a beatifull flower with of course hard work and it isen't in vane because hard work ends up having a good result for positive attitude.\n",
      "\n",
      "Next reason is to build selfcondifence. When having a positive mindset and most impotently willing we then build selfcondience our mind is a battlefield and we control it and its not about the selfcondicence its more about determination ourselves to it like we can or we will do it. After that its all depending on us weather we want to or not. Then after that the more we practice being positive in our battle fild the more selfcondidence we will have.\n",
      "\n",
      "So then i hardly agree on positive attitude can guide you to succeed in life its all about three things determination willing and believing with those in mind you can tell all the negitive thoughts to go flying out the window because it has no door to let it in anymore. I truly incuage you to try it out if you want to see a big improvement to succeed in your life. Thank you for hearing me weather I agreed or disagreed,looking to hear back from you soon.\n",
      "\n",
      "\n",
      "9:\tAsking more than one person for and advice help you take a strong choice? seeking for multiple opinions can help someone make a better choice. Example presidential election,requires someone opinion and choosing a restaurant to eat at and place to visit. Theres good and bad opinion but pick one or two or more but choose one the help you make a great decision.\n",
      "\n",
      "First many us citizen are required to vote. Many of them would have different opinion about who is the best candidates. Positive and negative opinions would be circulating about the candidates but you can ask more than person what they think about the candidates there be interesting opinion and some not so interesting think about what the many opinion you hear and think about the one the got you thinking the most.\n",
      "\n",
      "on the other hand lots of people love going out to eat. Many people try new places to eat at some may hear good or bad opinion about a place but until you try it you can't tell your self is great or bad. Sometimes Google lets you see other people opinion the other people leaved about a certain place. to be honest my dad does this sometimes he goes online and search is up the place and then looks at the rate the place have and the comment as a result of the deadly corovirus (Covid-19) lots of people have decide not to travel. But theres certain people that just love to travel many of the occasion people travel to a place because they hear good thing about a place. for example thats how me and my family hear of Lego land my aunt tell my dad that this place was so amazing me and my family we have been a big fan o Lego and we really dint know this place existed.\n",
      "\n",
      "finally sometimes people have positive and negative opinion about something or someone but is you job to find out the one the makes you fell like \"this is the one\" many people there own believed thats why you may hear different opinion. Have you ever ask for more than one opinions? i actually have that was went i was't sure which suit to put in a red or black suit so ask my mom dad ans sister they tell me the best suit was the black one.    \n",
      "\n",
      "\n",
      "10:\tDo you think its a good idea for students to commit to a career at a young age? In some societies, students are expected to identity a career by the time they enter high school. Yes it is a good idea to start young because your already step ahead, you will have background knowledge about the career classes you choose and once you get older you won't have time to choose an career. Also taking courses in high school will help you choose your career like for an example academy classes.\n",
      "\n",
      "As a students taking a career course, will help them learn more about that career and you will have background knowledge about that career. for an example I'm taking auto technology in highschol becuase I want to learn more about cars and how to fix them. after high school I will be going to a community college so I can learn an advance auto technology class and move on and thats I'm going to succeed in life.\n",
      "\n",
      "Another reason why its a good idea for students to commit to a career at young age is becuase it will help students choose a good career that pays good money and the students will be a one step ahead. by doing this they will accomplish their goals.\n",
      "\n",
      "others may say that its not a good idea for students to commit a career at a young age becuase they think its waste of time however, its not waste of their time, becuase once your getting older you wont have time to choose an career that will last.\n",
      "\n",
      "In conclusion, I think its a good a idea for students to commit to a career at a young age becuase you will have some background knowledge to that specific career, you will be one step ahead, and once you get older you won't have time to choose a career.                                                                                                                                                      \n",
      "\n",
      "\n"
     ]
    }
   ],
   "source": [
    "# Each line is one essay.\n",
    "\n",
    "for i, line in enumerate(ELL_train_text):\n",
    "    if i > 10: # Lets take a look at the first 10 essasy.\n",
    "        break\n",
    "    print(str(i) + ':\\t' + line+\"\\n\\n\")"
   ]
  },
  {
   "cell_type": "code",
   "execution_count": 172,
   "metadata": {
    "colab": {
     "base_uri": "https://localhost:8080/"
    },
    "id": "kLmwsbPPmojt",
    "outputId": "bcb9a5f4-70e8-45ea-911b-b63df5965450"
   },
   "outputs": [
    {
     "name": "stdout",
     "output_type": "stream",
     "text": [
      "positive attitude is the key to success. I agree because you can do anything as long as you put your mind and soul into it and motivation you can accomplish it. Then so by doing it you feel good about yourself you'll feel unstable. But do what brings the best in you, what makes you yourself.\n",
      "\n",
      "One way that importance of attitude is key to success is it motivates you to keep going forward. For example when you come across some difficulties you wont feel discouraged because your the limit and none other then you can or will change it. But the more discouraged you tend to feel at that moment you would wanna overcome it even if it makes whatever just as long as your mind is set to positive attitude you will accomplish it. Then so always remember what you put your mind to such as determination, positive attitude, willing you can its possible you will reach your goals. However you will with a positive mindset have a strong determination and you will build up self confidence in yourself.\n",
      "\n",
      "Then another reason is to grow individually with hard work. Positive attitude isen't quite the easiest for some people its really difficult for others to learn how to or even if they are willing to. But others tend to not always have positive attitude in anything they're just negative and havent tried to give their all they are stuck upon what others think. Then about what really is,you just have to not listen to what anyone thinks and focus on what you can accomplish because if you dont you will let them reflect on you but you dont want that for yourself. Then there's always going to be that one negative person to try to bring you down its up to you if you let it effect you. Just ignore them if you dont you will bet it affect you and you dont wanna fall back just because of others. With that being said in order to move forward you have to go though things individually but thats were you find yourself again and makes you stronger then before what your weaknesses were there not anymore because when facing things individually you blossom to a beatifull flower with of course hard work and it isen't in vane because hard work ends up having a good result for positive attitude.\n",
      "\n",
      "Next reason is to build selfcondifence. When having a positive mindset and most impotently willing we then build selfcondience our mind is a battlefield and we control it and its not about the selfcondicence its more about determination ourselves to it like we can or we will do it. After that its all depending on us weather we want to or not. Then after that the more we practice being positive in our battle fild the more selfcondidence we will have.\n",
      "\n",
      "So then i hardly agree on positive attitude can guide you to succeed in life its all about three things determination willing and believing with those in mind you can tell all the negitive thoughts to go flying out the window because it has no door to let it in anymore. I truly incuage you to try it out if you want to see a big improvement to succeed in your life. Thank you for hearing me weather I agreed or disagreed,looking to hear back from you soon.\n"
     ]
    }
   ],
   "source": [
    "single_no8 = ELL_train_text[8]\n",
    "print(single_no8)"
   ]
  },
  {
   "cell_type": "markdown",
   "metadata": {
    "id": "0YbaTFcMm2MS"
   },
   "source": [
    "## Sentence Tokenization\n"
   ]
  },
  {
   "cell_type": "code",
   "execution_count": 173,
   "metadata": {
    "id": "zzBCCjxxmzgC"
   },
   "outputs": [],
   "source": [
    "from nltk import sent_tokenize, word_tokenize"
   ]
  },
  {
   "cell_type": "code",
   "execution_count": 174,
   "metadata": {
    "colab": {
     "base_uri": "https://localhost:8080/"
    },
    "id": "NqrSpeoom9zU",
    "outputId": "2d2fd9eb-bde2-4811-a633-137306e2e37a"
   },
   "outputs": [
    {
     "data": {
      "text/plain": [
       "['positive attitude is the key to success.',\n",
       " 'I agree because you can do anything as long as you put your mind and soul into it and motivation you can accomplish it.',\n",
       " \"Then so by doing it you feel good about yourself you'll feel unstable.\",\n",
       " 'But do what brings the best in you, what makes you yourself.',\n",
       " 'One way that importance of attitude is key to success is it motivates you to keep going forward.',\n",
       " 'For example when you come across some difficulties you wont feel discouraged because your the limit and none other then you can or will change it.',\n",
       " 'But the more discouraged you tend to feel at that moment you would wanna overcome it even if it makes whatever just as long as your mind is set to positive attitude you will accomplish it.',\n",
       " 'Then so always remember what you put your mind to such as determination, positive attitude, willing you can its possible you will reach your goals.',\n",
       " 'However you will with a positive mindset have a strong determination and you will build up self confidence in yourself.',\n",
       " 'Then another reason is to grow individually with hard work.',\n",
       " \"Positive attitude isen't quite the easiest for some people its really difficult for others to learn how to or even if they are willing to.\",\n",
       " \"But others tend to not always have positive attitude in anything they're just negative and havent tried to give their all they are stuck upon what others think.\",\n",
       " 'Then about what really is,you just have to not listen to what anyone thinks and focus on what you can accomplish because if you dont you will let them reflect on you but you dont want that for yourself.',\n",
       " \"Then there's always going to be that one negative person to try to bring you down its up to you if you let it effect you.\",\n",
       " 'Just ignore them if you dont you will bet it affect you and you dont wanna fall back just because of others.',\n",
       " \"With that being said in order to move forward you have to go though things individually but thats were you find yourself again and makes you stronger then before what your weaknesses were there not anymore because when facing things individually you blossom to a beatifull flower with of course hard work and it isen't in vane because hard work ends up having a good result for positive attitude.\",\n",
       " 'Next reason is to build selfcondifence.',\n",
       " 'When having a positive mindset and most impotently willing we then build selfcondience our mind is a battlefield and we control it and its not about the selfcondicence its more about determination ourselves to it like we can or we will do it.',\n",
       " 'After that its all depending on us weather we want to or not.',\n",
       " 'Then after that the more we practice being positive in our battle fild the more selfcondidence we will have.',\n",
       " 'So then i hardly agree on positive attitude can guide you to succeed in life its all about three things determination willing and believing with those in mind you can tell all the negitive thoughts to go flying out the window because it has no door to let it in anymore.',\n",
       " 'I truly incuage you to try it out if you want to see a big improvement to succeed in your life.',\n",
       " 'Thank you for hearing me weather I agreed or disagreed,looking to hear back from you soon.']"
      ]
     },
     "execution_count": 174,
     "metadata": {},
     "output_type": "execute_result"
    }
   ],
   "source": [
    "sent_tokenize(single_no8)"
   ]
  },
  {
   "cell_type": "code",
   "execution_count": 175,
   "metadata": {
    "colab": {
     "base_uri": "https://localhost:8080/"
    },
    "id": "ScbSfVienIej",
    "outputId": "d8fc7538-b545-4248-e44e-8a334d085cc3"
   },
   "outputs": [
    {
     "name": "stdout",
     "output_type": "stream",
     "text": [
      "['positive', 'attitude', 'is', 'the', 'key', 'to', 'success', '.']\n",
      "['I', 'agree', 'because', 'you', 'can', 'do', 'anything', 'as', 'long', 'as', 'you', 'put', 'your', 'mind', 'and', 'soul', 'into', 'it', 'and', 'motivation', 'you', 'can', 'accomplish', 'it', '.']\n",
      "['Then', 'so', 'by', 'doing', 'it', 'you', 'feel', 'good', 'about', 'yourself', 'you', \"'ll\", 'feel', 'unstable', '.']\n",
      "['But', 'do', 'what', 'brings', 'the', 'best', 'in', 'you', ',', 'what', 'makes', 'you', 'yourself', '.']\n",
      "['One', 'way', 'that', 'importance', 'of', 'attitude', 'is', 'key', 'to', 'success', 'is', 'it', 'motivates', 'you', 'to', 'keep', 'going', 'forward', '.']\n",
      "['For', 'example', 'when', 'you', 'come', 'across', 'some', 'difficulties', 'you', 'wont', 'feel', 'discouraged', 'because', 'your', 'the', 'limit', 'and', 'none', 'other', 'then', 'you', 'can', 'or', 'will', 'change', 'it', '.']\n",
      "['But', 'the', 'more', 'discouraged', 'you', 'tend', 'to', 'feel', 'at', 'that', 'moment', 'you', 'would', 'wan', 'na', 'overcome', 'it', 'even', 'if', 'it', 'makes', 'whatever', 'just', 'as', 'long', 'as', 'your', 'mind', 'is', 'set', 'to', 'positive', 'attitude', 'you', 'will', 'accomplish', 'it', '.']\n",
      "['Then', 'so', 'always', 'remember', 'what', 'you', 'put', 'your', 'mind', 'to', 'such', 'as', 'determination', ',', 'positive', 'attitude', ',', 'willing', 'you', 'can', 'its', 'possible', 'you', 'will', 'reach', 'your', 'goals', '.']\n",
      "['However', 'you', 'will', 'with', 'a', 'positive', 'mindset', 'have', 'a', 'strong', 'determination', 'and', 'you', 'will', 'build', 'up', 'self', 'confidence', 'in', 'yourself', '.']\n",
      "['Then', 'another', 'reason', 'is', 'to', 'grow', 'individually', 'with', 'hard', 'work', '.']\n",
      "['Positive', 'attitude', 'ise', \"n't\", 'quite', 'the', 'easiest', 'for', 'some', 'people', 'its', 'really', 'difficult', 'for', 'others', 'to', 'learn', 'how', 'to', 'or', 'even', 'if', 'they', 'are', 'willing', 'to', '.']\n",
      "['But', 'others', 'tend', 'to', 'not', 'always', 'have', 'positive', 'attitude', 'in', 'anything', 'they', \"'re\", 'just', 'negative', 'and', 'havent', 'tried', 'to', 'give', 'their', 'all', 'they', 'are', 'stuck', 'upon', 'what', 'others', 'think', '.']\n",
      "['Then', 'about', 'what', 'really', 'is', ',', 'you', 'just', 'have', 'to', 'not', 'listen', 'to', 'what', 'anyone', 'thinks', 'and', 'focus', 'on', 'what', 'you', 'can', 'accomplish', 'because', 'if', 'you', 'dont', 'you', 'will', 'let', 'them', 'reflect', 'on', 'you', 'but', 'you', 'dont', 'want', 'that', 'for', 'yourself', '.']\n",
      "['Then', 'there', \"'s\", 'always', 'going', 'to', 'be', 'that', 'one', 'negative', 'person', 'to', 'try', 'to', 'bring', 'you', 'down', 'its', 'up', 'to', 'you', 'if', 'you', 'let', 'it', 'effect', 'you', '.']\n",
      "['Just', 'ignore', 'them', 'if', 'you', 'dont', 'you', 'will', 'bet', 'it', 'affect', 'you', 'and', 'you', 'dont', 'wan', 'na', 'fall', 'back', 'just', 'because', 'of', 'others', '.']\n",
      "['With', 'that', 'being', 'said', 'in', 'order', 'to', 'move', 'forward', 'you', 'have', 'to', 'go', 'though', 'things', 'individually', 'but', 'thats', 'were', 'you', 'find', 'yourself', 'again', 'and', 'makes', 'you', 'stronger', 'then', 'before', 'what', 'your', 'weaknesses', 'were', 'there', 'not', 'anymore', 'because', 'when', 'facing', 'things', 'individually', 'you', 'blossom', 'to', 'a', 'beatifull', 'flower', 'with', 'of', 'course', 'hard', 'work', 'and', 'it', 'ise', \"n't\", 'in', 'vane', 'because', 'hard', 'work', 'ends', 'up', 'having', 'a', 'good', 'result', 'for', 'positive', 'attitude', '.']\n",
      "['Next', 'reason', 'is', 'to', 'build', 'selfcondifence', '.']\n",
      "['When', 'having', 'a', 'positive', 'mindset', 'and', 'most', 'impotently', 'willing', 'we', 'then', 'build', 'selfcondience', 'our', 'mind', 'is', 'a', 'battlefield', 'and', 'we', 'control', 'it', 'and', 'its', 'not', 'about', 'the', 'selfcondicence', 'its', 'more', 'about', 'determination', 'ourselves', 'to', 'it', 'like', 'we', 'can', 'or', 'we', 'will', 'do', 'it', '.']\n",
      "['After', 'that', 'its', 'all', 'depending', 'on', 'us', 'weather', 'we', 'want', 'to', 'or', 'not', '.']\n",
      "['Then', 'after', 'that', 'the', 'more', 'we', 'practice', 'being', 'positive', 'in', 'our', 'battle', 'fild', 'the', 'more', 'selfcondidence', 'we', 'will', 'have', '.']\n",
      "['So', 'then', 'i', 'hardly', 'agree', 'on', 'positive', 'attitude', 'can', 'guide', 'you', 'to', 'succeed', 'in', 'life', 'its', 'all', 'about', 'three', 'things', 'determination', 'willing', 'and', 'believing', 'with', 'those', 'in', 'mind', 'you', 'can', 'tell', 'all', 'the', 'negitive', 'thoughts', 'to', 'go', 'flying', 'out', 'the', 'window', 'because', 'it', 'has', 'no', 'door', 'to', 'let', 'it', 'in', 'anymore', '.']\n",
      "['I', 'truly', 'incuage', 'you', 'to', 'try', 'it', 'out', 'if', 'you', 'want', 'to', 'see', 'a', 'big', 'improvement', 'to', 'succeed', 'in', 'your', 'life', '.']\n",
      "['Thank', 'you', 'for', 'hearing', 'me', 'weather', 'I', 'agreed', 'or', 'disagreed', ',', 'looking', 'to', 'hear', 'back', 'from', 'you', 'soon', '.']\n"
     ]
    }
   ],
   "source": [
    "for sent in sent_tokenize(single_no8):\n",
    "    print(word_tokenize(sent))"
   ]
  },
  {
   "cell_type": "code",
   "execution_count": 176,
   "metadata": {
    "colab": {
     "base_uri": "https://localhost:8080/"
    },
    "id": "_xquiSQ3oDW_",
    "outputId": "1b43a93f-b917-42a0-f7b1-7c0faa3ab31c"
   },
   "outputs": [
    {
     "data": {
      "text/plain": [
       "['positive attitude is the key to success.',\n",
       " 'I agree because you can do anything as long as you put your mind and soul into it and motivation you can accomplish it.',\n",
       " \"Then so by doing it you feel good about yourself you'll feel unstable.\",\n",
       " 'But do what brings the best in you, what makes you yourself.',\n",
       " 'One way that importance of attitude is key to success is it motivates you to keep going forward.',\n",
       " 'For example when you come across some difficulties you wont feel discouraged because your the limit and none other then you can or will change it.',\n",
       " 'But the more discouraged you tend to feel at that moment you would wanna overcome it even if it makes whatever just as long as your mind is set to positive attitude you will accomplish it.',\n",
       " 'Then so always remember what you put your mind to such as determination, positive attitude, willing you can its possible you will reach your goals.',\n",
       " 'However you will with a positive mindset have a strong determination and you will build up self confidence in yourself.',\n",
       " 'Then another reason is to grow individually with hard work.',\n",
       " \"Positive attitude isen't quite the easiest for some people its really difficult for others to learn how to or even if they are willing to.\",\n",
       " \"But others tend to not always have positive attitude in anything they're just negative and havent tried to give their all they are stuck upon what others think.\",\n",
       " 'Then about what really is,you just have to not listen to what anyone thinks and focus on what you can accomplish because if you dont you will let them reflect on you but you dont want that for yourself.',\n",
       " \"Then there's always going to be that one negative person to try to bring you down its up to you if you let it effect you.\",\n",
       " 'Just ignore them if you dont you will bet it affect you and you dont wanna fall back just because of others.',\n",
       " \"With that being said in order to move forward you have to go though things individually but thats were you find yourself again and makes you stronger then before what your weaknesses were there not anymore because when facing things individually you blossom to a beatifull flower with of course hard work and it isen't in vane because hard work ends up having a good result for positive attitude.\",\n",
       " 'Next reason is to build selfcondifence.',\n",
       " 'When having a positive mindset and most impotently willing we then build selfcondience our mind is a battlefield and we control it and its not about the selfcondicence its more about determination ourselves to it like we can or we will do it.',\n",
       " 'After that its all depending on us weather we want to or not.',\n",
       " 'Then after that the more we practice being positive in our battle fild the more selfcondidence we will have.',\n",
       " 'So then i hardly agree on positive attitude can guide you to succeed in life its all about three things determination willing and believing with those in mind you can tell all the negitive thoughts to go flying out the window because it has no door to let it in anymore.',\n",
       " 'I truly incuage you to try it out if you want to see a big improvement to succeed in your life.',\n",
       " 'Thank you for hearing me weather I agreed or disagreed,looking to hear back from you soon.']"
      ]
     },
     "execution_count": 176,
     "metadata": {},
     "output_type": "execute_result"
    }
   ],
   "source": [
    "sent_tokenize(single_no8)"
   ]
  },
  {
   "cell_type": "code",
   "execution_count": 177,
   "metadata": {
    "colab": {
     "base_uri": "https://localhost:8080/"
    },
    "id": "WeYI1nrZoK0M",
    "outputId": "37b747ab-253b-4117-95ad-e6b0fcf367b7"
   },
   "outputs": [
    {
     "name": "stdout",
     "output_type": "stream",
     "text": [
      "['positive', 'attitude', 'is', 'the', 'key', 'to', 'success', '.']\n",
      "['i', 'agree', 'because', 'you', 'can', 'do', 'anything', 'as', 'long', 'as', 'you', 'put', 'your', 'mind', 'and', 'soul', 'into', 'it', 'and', 'motivation', 'you', 'can', 'accomplish', 'it', '.']\n",
      "['then', 'so', 'by', 'doing', 'it', 'you', 'feel', 'good', 'about', 'yourself', 'you', \"'ll\", 'feel', 'unstable', '.']\n",
      "['but', 'do', 'what', 'brings', 'the', 'best', 'in', 'you', ',', 'what', 'makes', 'you', 'yourself', '.']\n",
      "['one', 'way', 'that', 'importance', 'of', 'attitude', 'is', 'key', 'to', 'success', 'is', 'it', 'motivates', 'you', 'to', 'keep', 'going', 'forward', '.']\n",
      "['for', 'example', 'when', 'you', 'come', 'across', 'some', 'difficulties', 'you', 'wont', 'feel', 'discouraged', 'because', 'your', 'the', 'limit', 'and', 'none', 'other', 'then', 'you', 'can', 'or', 'will', 'change', 'it', '.']\n",
      "['but', 'the', 'more', 'discouraged', 'you', 'tend', 'to', 'feel', 'at', 'that', 'moment', 'you', 'would', 'wan', 'na', 'overcome', 'it', 'even', 'if', 'it', 'makes', 'whatever', 'just', 'as', 'long', 'as', 'your', 'mind', 'is', 'set', 'to', 'positive', 'attitude', 'you', 'will', 'accomplish', 'it', '.']\n",
      "['then', 'so', 'always', 'remember', 'what', 'you', 'put', 'your', 'mind', 'to', 'such', 'as', 'determination', ',', 'positive', 'attitude', ',', 'willing', 'you', 'can', 'its', 'possible', 'you', 'will', 'reach', 'your', 'goals', '.']\n",
      "['however', 'you', 'will', 'with', 'a', 'positive', 'mindset', 'have', 'a', 'strong', 'determination', 'and', 'you', 'will', 'build', 'up', 'self', 'confidence', 'in', 'yourself', '.']\n",
      "['then', 'another', 'reason', 'is', 'to', 'grow', 'individually', 'with', 'hard', 'work', '.']\n",
      "['positive', 'attitude', 'ise', \"n't\", 'quite', 'the', 'easiest', 'for', 'some', 'people', 'its', 'really', 'difficult', 'for', 'others', 'to', 'learn', 'how', 'to', 'or', 'even', 'if', 'they', 'are', 'willing', 'to', '.']\n",
      "['but', 'others', 'tend', 'to', 'not', 'always', 'have', 'positive', 'attitude', 'in', 'anything', 'they', \"'re\", 'just', 'negative', 'and', 'havent', 'tried', 'to', 'give', 'their', 'all', 'they', 'are', 'stuck', 'upon', 'what', 'others', 'think', '.']\n",
      "['then', 'about', 'what', 'really', 'is', ',', 'you', 'just', 'have', 'to', 'not', 'listen', 'to', 'what', 'anyone', 'thinks', 'and', 'focus', 'on', 'what', 'you', 'can', 'accomplish', 'because', 'if', 'you', 'dont', 'you', 'will', 'let', 'them', 'reflect', 'on', 'you', 'but', 'you', 'dont', 'want', 'that', 'for', 'yourself', '.']\n",
      "['then', 'there', \"'s\", 'always', 'going', 'to', 'be', 'that', 'one', 'negative', 'person', 'to', 'try', 'to', 'bring', 'you', 'down', 'its', 'up', 'to', 'you', 'if', 'you', 'let', 'it', 'effect', 'you', '.']\n",
      "['just', 'ignore', 'them', 'if', 'you', 'dont', 'you', 'will', 'bet', 'it', 'affect', 'you', 'and', 'you', 'dont', 'wan', 'na', 'fall', 'back', 'just', 'because', 'of', 'others', '.']\n",
      "['with', 'that', 'being', 'said', 'in', 'order', 'to', 'move', 'forward', 'you', 'have', 'to', 'go', 'though', 'things', 'individually', 'but', 'thats', 'were', 'you', 'find', 'yourself', 'again', 'and', 'makes', 'you', 'stronger', 'then', 'before', 'what', 'your', 'weaknesses', 'were', 'there', 'not', 'anymore', 'because', 'when', 'facing', 'things', 'individually', 'you', 'blossom', 'to', 'a', 'beatifull', 'flower', 'with', 'of', 'course', 'hard', 'work', 'and', 'it', 'ise', \"n't\", 'in', 'vane', 'because', 'hard', 'work', 'ends', 'up', 'having', 'a', 'good', 'result', 'for', 'positive', 'attitude', '.']\n",
      "['next', 'reason', 'is', 'to', 'build', 'selfcondifence', '.']\n",
      "['when', 'having', 'a', 'positive', 'mindset', 'and', 'most', 'impotently', 'willing', 'we', 'then', 'build', 'selfcondience', 'our', 'mind', 'is', 'a', 'battlefield', 'and', 'we', 'control', 'it', 'and', 'its', 'not', 'about', 'the', 'selfcondicence', 'its', 'more', 'about', 'determination', 'ourselves', 'to', 'it', 'like', 'we', 'can', 'or', 'we', 'will', 'do', 'it', '.']\n",
      "['after', 'that', 'its', 'all', 'depending', 'on', 'us', 'weather', 'we', 'want', 'to', 'or', 'not', '.']\n",
      "['then', 'after', 'that', 'the', 'more', 'we', 'practice', 'being', 'positive', 'in', 'our', 'battle', 'fild', 'the', 'more', 'selfcondidence', 'we', 'will', 'have', '.']\n",
      "['so', 'then', 'i', 'hardly', 'agree', 'on', 'positive', 'attitude', 'can', 'guide', 'you', 'to', 'succeed', 'in', 'life', 'its', 'all', 'about', 'three', 'things', 'determination', 'willing', 'and', 'believing', 'with', 'those', 'in', 'mind', 'you', 'can', 'tell', 'all', 'the', 'negitive', 'thoughts', 'to', 'go', 'flying', 'out', 'the', 'window', 'because', 'it', 'has', 'no', 'door', 'to', 'let', 'it', 'in', 'anymore', '.']\n",
      "['i', 'truly', 'incuage', 'you', 'to', 'try', 'it', 'out', 'if', 'you', 'want', 'to', 'see', 'a', 'big', 'improvement', 'to', 'succeed', 'in', 'your', 'life', '.']\n",
      "['thank', 'you', 'for', 'hearing', 'me', 'weather', 'i', 'agreed', 'or', 'disagreed', ',', 'looking', 'to', 'hear', 'back', 'from', 'you', 'soon', '.']\n"
     ]
    }
   ],
   "source": [
    "for sent in sent_tokenize(single_no8):\n",
    "    # It's a little in efficient to loop through each word,\n",
    "    # after but sometimes it helps to get better tokens.\n",
    "    print([word.lower() for word in word_tokenize(sent)])\n",
    "    # Alternatively:\n",
    "    #print(list(map(str.lower, word_tokenize(sent)))"
   ]
  },
  {
   "cell_type": "code",
   "execution_count": 178,
   "metadata": {
    "colab": {
     "base_uri": "https://localhost:8080/"
    },
    "id": "0Pe2_s2pogAl",
    "outputId": "881bc59f-7e1a-48dd-a074-b1d505459e93"
   },
   "outputs": [
    {
     "name": "stdout",
     "output_type": "stream",
     "text": [
      "['positive', 'attitude', 'is', 'the', 'key', 'to', 'success', '.', 'I', 'agree', 'because', 'you', 'can', 'do', 'anything', 'as', 'long', 'as', 'you', 'put', 'your', 'mind', 'and', 'soul', 'into', 'it', 'and', 'motivation', 'you', 'can', 'accomplish', 'it', '.', 'Then', 'so', 'by', 'doing', 'it', 'you', 'feel', 'good', 'about', 'yourself', 'you', \"'ll\", 'feel', 'unstable', '.', 'But', 'do', 'what', 'brings', 'the', 'best', 'in', 'you', ',', 'what', 'makes', 'you', 'yourself', '.', 'One', 'way', 'that', 'importance', 'of', 'attitude', 'is', 'key', 'to', 'success', 'is', 'it', 'motivates', 'you', 'to', 'keep', 'going', 'forward', '.', 'For', 'example', 'when', 'you', 'come', 'across', 'some', 'difficulties', 'you', 'wont', 'feel', 'discouraged', 'because', 'your', 'the', 'limit', 'and', 'none', 'other', 'then', 'you', 'can', 'or', 'will', 'change', 'it', '.', 'But', 'the', 'more', 'discouraged', 'you', 'tend', 'to', 'feel', 'at', 'that', 'moment', 'you', 'would', 'wan', 'na', 'overcome', 'it', 'even', 'if', 'it', 'makes', 'whatever', 'just', 'as', 'long', 'as', 'your', 'mind', 'is', 'set', 'to', 'positive', 'attitude', 'you', 'will', 'accomplish', 'it', '.', 'Then', 'so', 'always', 'remember', 'what', 'you', 'put', 'your', 'mind', 'to', 'such', 'as', 'determination', ',', 'positive', 'attitude', ',', 'willing', 'you', 'can', 'its', 'possible', 'you', 'will', 'reach', 'your', 'goals', '.', 'However', 'you', 'will', 'with', 'a', 'positive', 'mindset', 'have', 'a', 'strong', 'determination', 'and', 'you', 'will', 'build', 'up', 'self', 'confidence', 'in', 'yourself', '.', 'Then', 'another', 'reason', 'is', 'to', 'grow', 'individually', 'with', 'hard', 'work', '.', 'Positive', 'attitude', 'ise', \"n't\", 'quite', 'the', 'easiest', 'for', 'some', 'people', 'its', 'really', 'difficult', 'for', 'others', 'to', 'learn', 'how', 'to', 'or', 'even', 'if', 'they', 'are', 'willing', 'to', '.', 'But', 'others', 'tend', 'to', 'not', 'always', 'have', 'positive', 'attitude', 'in', 'anything', 'they', \"'re\", 'just', 'negative', 'and', 'havent', 'tried', 'to', 'give', 'their', 'all', 'they', 'are', 'stuck', 'upon', 'what', 'others', 'think', '.', 'Then', 'about', 'what', 'really', 'is', ',', 'you', 'just', 'have', 'to', 'not', 'listen', 'to', 'what', 'anyone', 'thinks', 'and', 'focus', 'on', 'what', 'you', 'can', 'accomplish', 'because', 'if', 'you', 'dont', 'you', 'will', 'let', 'them', 'reflect', 'on', 'you', 'but', 'you', 'dont', 'want', 'that', 'for', 'yourself', '.', 'Then', 'there', \"'s\", 'always', 'going', 'to', 'be', 'that', 'one', 'negative', 'person', 'to', 'try', 'to', 'bring', 'you', 'down', 'its', 'up', 'to', 'you', 'if', 'you', 'let', 'it', 'effect', 'you', '.', 'Just', 'ignore', 'them', 'if', 'you', 'dont', 'you', 'will', 'bet', 'it', 'affect', 'you', 'and', 'you', 'dont', 'wan', 'na', 'fall', 'back', 'just', 'because', 'of', 'others', '.', 'With', 'that', 'being', 'said', 'in', 'order', 'to', 'move', 'forward', 'you', 'have', 'to', 'go', 'though', 'things', 'individually', 'but', 'thats', 'were', 'you', 'find', 'yourself', 'again', 'and', 'makes', 'you', 'stronger', 'then', 'before', 'what', 'your', 'weaknesses', 'were', 'there', 'not', 'anymore', 'because', 'when', 'facing', 'things', 'individually', 'you', 'blossom', 'to', 'a', 'beatifull', 'flower', 'with', 'of', 'course', 'hard', 'work', 'and', 'it', 'ise', \"n't\", 'in', 'vane', 'because', 'hard', 'work', 'ends', 'up', 'having', 'a', 'good', 'result', 'for', 'positive', 'attitude', '.', 'Next', 'reason', 'is', 'to', 'build', 'selfcondifence', '.', 'When', 'having', 'a', 'positive', 'mindset', 'and', 'most', 'impotently', 'willing', 'we', 'then', 'build', 'selfcondience', 'our', 'mind', 'is', 'a', 'battlefield', 'and', 'we', 'control', 'it', 'and', 'its', 'not', 'about', 'the', 'selfcondicence', 'its', 'more', 'about', 'determination', 'ourselves', 'to', 'it', 'like', 'we', 'can', 'or', 'we', 'will', 'do', 'it', '.', 'After', 'that', 'its', 'all', 'depending', 'on', 'us', 'weather', 'we', 'want', 'to', 'or', 'not', '.', 'Then', 'after', 'that', 'the', 'more', 'we', 'practice', 'being', 'positive', 'in', 'our', 'battle', 'fild', 'the', 'more', 'selfcondidence', 'we', 'will', 'have', '.', 'So', 'then', 'i', 'hardly', 'agree', 'on', 'positive', 'attitude', 'can', 'guide', 'you', 'to', 'succeed', 'in', 'life', 'its', 'all', 'about', 'three', 'things', 'determination', 'willing', 'and', 'believing', 'with', 'those', 'in', 'mind', 'you', 'can', 'tell', 'all', 'the', 'negitive', 'thoughts', 'to', 'go', 'flying', 'out', 'the', 'window', 'because', 'it', 'has', 'no', 'door', 'to', 'let', 'it', 'in', 'anymore', '.', 'I', 'truly', 'incuage', 'you', 'to', 'try', 'it', 'out', 'if', 'you', 'want', 'to', 'see', 'a', 'big', 'improvement', 'to', 'succeed', 'in', 'your', 'life', '.', 'Thank', 'you', 'for', 'hearing', 'me', 'weather', 'I', 'agreed', 'or', 'disagreed', ',', 'looking', 'to', 'hear', 'back', 'from', 'you', 'soon', '.']\n"
     ]
    }
   ],
   "source": [
    "print(word_tokenize(single_no8))  # Treats the whole line as one document."
   ]
  },
  {
   "cell_type": "markdown",
   "metadata": {
    "id": "vxNakTGPrQ3K"
   },
   "source": [
    "##  Stop Words"
   ]
  },
  {
   "cell_type": "code",
   "execution_count": 179,
   "metadata": {
    "colab": {
     "base_uri": "https://localhost:8080/"
    },
    "id": "kVed46n-p9C_",
    "outputId": "61b3adb3-2cf1-4993-e7ee-de2e37143283"
   },
   "outputs": [
    {
     "name": "stderr",
     "output_type": "stream",
     "text": [
      "[nltk_data] Downloading package stopwords to /root/nltk_data...\n",
      "[nltk_data]   Package stopwords is already up-to-date!\n"
     ]
    }
   ],
   "source": [
    "nltk.download('stopwords')\n",
    "\n",
    "from nltk.corpus import stopwords"
   ]
  },
  {
   "cell_type": "code",
   "execution_count": 180,
   "metadata": {
    "colab": {
     "base_uri": "https://localhost:8080/"
    },
    "id": "4HDHGq4vqLlm",
    "outputId": "6074f7a6-7041-4109-9b1b-a6167e8bc045"
   },
   "outputs": [
    {
     "name": "stdout",
     "output_type": "stream",
     "text": [
      "['i', 'me', 'my', 'myself', 'we', 'our', 'ours', 'ourselves', 'you', \"you're\", \"you've\", \"you'll\", \"you'd\", 'your', 'yours', 'yourself', 'yourselves', 'he', 'him', 'his', 'himself', 'she', \"she's\", 'her', 'hers', 'herself', 'it', \"it's\", 'its', 'itself', 'they', 'them', 'their', 'theirs', 'themselves', 'what', 'which', 'who', 'whom', 'this', 'that', \"that'll\", 'these', 'those', 'am', 'is', 'are', 'was', 'were', 'be', 'been', 'being', 'have', 'has', 'had', 'having', 'do', 'does', 'did', 'doing', 'a', 'an', 'the', 'and', 'but', 'if', 'or', 'because', 'as', 'until', 'while', 'of', 'at', 'by', 'for', 'with', 'about', 'against', 'between', 'into', 'through', 'during', 'before', 'after', 'above', 'below', 'to', 'from', 'up', 'down', 'in', 'out', 'on', 'off', 'over', 'under', 'again', 'further', 'then', 'once', 'here', 'there', 'when', 'where', 'why', 'how', 'all', 'any', 'both', 'each', 'few', 'more', 'most', 'other', 'some', 'such', 'no', 'nor', 'not', 'only', 'own', 'same', 'so', 'than', 'too', 'very', 's', 't', 'can', 'will', 'just', 'don', \"don't\", 'should', \"should've\", 'now', 'd', 'll', 'm', 'o', 're', 've', 'y', 'ain', 'aren', \"aren't\", 'couldn', \"couldn't\", 'didn', \"didn't\", 'doesn', \"doesn't\", 'hadn', \"hadn't\", 'hasn', \"hasn't\", 'haven', \"haven't\", 'isn', \"isn't\", 'ma', 'mightn', \"mightn't\", 'mustn', \"mustn't\", 'needn', \"needn't\", 'shan', \"shan't\", 'shouldn', \"shouldn't\", 'wasn', \"wasn't\", 'weren', \"weren't\", 'won', \"won't\", 'wouldn', \"wouldn't\"]\n"
     ]
    }
   ],
   "source": [
    "stopwords_en = stopwords.words('english')\n",
    "print(stopwords_en)"
   ]
  },
  {
   "cell_type": "code",
   "execution_count": 181,
   "metadata": {
    "colab": {
     "base_uri": "https://localhost:8080/"
    },
    "id": "sbg6bjKJqqrk",
    "outputId": "7960e6ee-b823-4d34-826a-776e36ac7a8e"
   },
   "outputs": [
    {
     "name": "stdout",
     "output_type": "stream",
     "text": [
      "['positive', 'attitude', 'is', 'the', 'key', 'to', 'success', '.', 'i', 'agree', 'because', 'you', 'can', 'do', 'anything', 'as', 'long', 'as', 'you', 'put', 'your', 'mind', 'and', 'soul', 'into', 'it', 'and', 'motivation', 'you', 'can', 'accomplish', 'it', '.', 'then', 'so', 'by', 'doing', 'it', 'you', 'feel', 'good', 'about', 'yourself', 'you', \"'ll\", 'feel', 'unstable', '.', 'but', 'do', 'what', 'brings', 'the', 'best', 'in', 'you', ',', 'what', 'makes', 'you', 'yourself', '.', 'one', 'way', 'that', 'importance', 'of', 'attitude', 'is', 'key', 'to', 'success', 'is', 'it', 'motivates', 'you', 'to', 'keep', 'going', 'forward', '.', 'for', 'example', 'when', 'you', 'come', 'across', 'some', 'difficulties', 'you', 'wont', 'feel', 'discouraged', 'because', 'your', 'the', 'limit', 'and', 'none', 'other', 'then', 'you', 'can', 'or', 'will', 'change', 'it', '.', 'but', 'the', 'more', 'discouraged', 'you', 'tend', 'to', 'feel', 'at', 'that', 'moment', 'you', 'would', 'wan', 'na', 'overcome', 'it', 'even', 'if', 'it', 'makes', 'whatever', 'just', 'as', 'long', 'as', 'your', 'mind', 'is', 'set', 'to', 'positive', 'attitude', 'you', 'will', 'accomplish', 'it', '.', 'then', 'so', 'always', 'remember', 'what', 'you', 'put', 'your', 'mind', 'to', 'such', 'as', 'determination', ',', 'positive', 'attitude', ',', 'willing', 'you', 'can', 'its', 'possible', 'you', 'will', 'reach', 'your', 'goals', '.', 'however', 'you', 'will', 'with', 'a', 'positive', 'mindset', 'have', 'a', 'strong', 'determination', 'and', 'you', 'will', 'build', 'up', 'self', 'confidence', 'in', 'yourself', '.', 'then', 'another', 'reason', 'is', 'to', 'grow', 'individually', 'with', 'hard', 'work', '.', 'positive', 'attitude', 'ise', \"n't\", 'quite', 'the', 'easiest', 'for', 'some', 'people', 'its', 'really', 'difficult', 'for', 'others', 'to', 'learn', 'how', 'to', 'or', 'even', 'if', 'they', 'are', 'willing', 'to', '.', 'but', 'others', 'tend', 'to', 'not', 'always', 'have', 'positive', 'attitude', 'in', 'anything', 'they', \"'re\", 'just', 'negative', 'and', 'havent', 'tried', 'to', 'give', 'their', 'all', 'they', 'are', 'stuck', 'upon', 'what', 'others', 'think', '.', 'then', 'about', 'what', 'really', 'is', ',', 'you', 'just', 'have', 'to', 'not', 'listen', 'to', 'what', 'anyone', 'thinks', 'and', 'focus', 'on', 'what', 'you', 'can', 'accomplish', 'because', 'if', 'you', 'dont', 'you', 'will', 'let', 'them', 'reflect', 'on', 'you', 'but', 'you', 'dont', 'want', 'that', 'for', 'yourself', '.', 'then', 'there', \"'s\", 'always', 'going', 'to', 'be', 'that', 'one', 'negative', 'person', 'to', 'try', 'to', 'bring', 'you', 'down', 'its', 'up', 'to', 'you', 'if', 'you', 'let', 'it', 'effect', 'you', '.', 'just', 'ignore', 'them', 'if', 'you', 'dont', 'you', 'will', 'bet', 'it', 'affect', 'you', 'and', 'you', 'dont', 'wan', 'na', 'fall', 'back', 'just', 'because', 'of', 'others', '.', 'with', 'that', 'being', 'said', 'in', 'order', 'to', 'move', 'forward', 'you', 'have', 'to', 'go', 'though', 'things', 'individually', 'but', 'thats', 'were', 'you', 'find', 'yourself', 'again', 'and', 'makes', 'you', 'stronger', 'then', 'before', 'what', 'your', 'weaknesses', 'were', 'there', 'not', 'anymore', 'because', 'when', 'facing', 'things', 'individually', 'you', 'blossom', 'to', 'a', 'beatifull', 'flower', 'with', 'of', 'course', 'hard', 'work', 'and', 'it', 'ise', \"n't\", 'in', 'vane', 'because', 'hard', 'work', 'ends', 'up', 'having', 'a', 'good', 'result', 'for', 'positive', 'attitude', '.', 'next', 'reason', 'is', 'to', 'build', 'selfcondifence', '.', 'when', 'having', 'a', 'positive', 'mindset', 'and', 'most', 'impotently', 'willing', 'we', 'then', 'build', 'selfcondience', 'our', 'mind', 'is', 'a', 'battlefield', 'and', 'we', 'control', 'it', 'and', 'its', 'not', 'about', 'the', 'selfcondicence', 'its', 'more', 'about', 'determination', 'ourselves', 'to', 'it', 'like', 'we', 'can', 'or', 'we', 'will', 'do', 'it', '.', 'after', 'that', 'its', 'all', 'depending', 'on', 'us', 'weather', 'we', 'want', 'to', 'or', 'not', '.', 'then', 'after', 'that', 'the', 'more', 'we', 'practice', 'being', 'positive', 'in', 'our', 'battle', 'fild', 'the', 'more', 'selfcondidence', 'we', 'will', 'have', '.', 'so', 'then', 'i', 'hardly', 'agree', 'on', 'positive', 'attitude', 'can', 'guide', 'you', 'to', 'succeed', 'in', 'life', 'its', 'all', 'about', 'three', 'things', 'determination', 'willing', 'and', 'believing', 'with', 'those', 'in', 'mind', 'you', 'can', 'tell', 'all', 'the', 'negitive', 'thoughts', 'to', 'go', 'flying', 'out', 'the', 'window', 'because', 'it', 'has', 'no', 'door', 'to', 'let', 'it', 'in', 'anymore', '.', 'i', 'truly', 'incuage', 'you', 'to', 'try', 'it', 'out', 'if', 'you', 'want', 'to', 'see', 'a', 'big', 'improvement', 'to', 'succeed', 'in', 'your', 'life', '.', 'thank', 'you', 'for', 'hearing', 'me', 'weather', 'i', 'agreed', 'or', 'disagreed', ',', 'looking', 'to', 'hear', 'back', 'from', 'you', 'soon', '.']\n"
     ]
    }
   ],
   "source": [
    "single_no8_tokenized_lowered = list(map(str.lower, word_tokenize(single_no8)))\n",
    "print(single_no8_tokenized_lowered)"
   ]
  },
  {
   "cell_type": "code",
   "execution_count": 182,
   "metadata": {
    "colab": {
     "base_uri": "https://localhost:8080/"
    },
    "id": "KD8LuRbkrVQj",
    "outputId": "0e00e825-2f10-42e5-b242-15cd2d33d71b"
   },
   "outputs": [
    {
     "name": "stdout",
     "output_type": "stream",
     "text": [
      "['positive', 'attitude', 'key', 'success', '.', 'agree', 'anything', 'long', 'put', 'mind', 'soul', 'motivation', 'accomplish', '.', 'feel', 'good', \"'ll\", 'feel', 'unstable', '.', 'brings', 'best', ',', 'makes', '.', 'one', 'way', 'importance', 'attitude', 'key', 'success', 'motivates', 'keep', 'going', 'forward', '.', 'example', 'come', 'across', 'difficulties', 'wont', 'feel', 'discouraged', 'limit', 'none', 'change', '.', 'discouraged', 'tend', 'feel', 'moment', 'would', 'wan', 'na', 'overcome', 'even', 'makes', 'whatever', 'long', 'mind', 'set', 'positive', 'attitude', 'accomplish', '.', 'always', 'remember', 'put', 'mind', 'determination', ',', 'positive', 'attitude', ',', 'willing', 'possible', 'reach', 'goals', '.', 'however', 'positive', 'mindset', 'strong', 'determination', 'build', 'self', 'confidence', '.', 'another', 'reason', 'grow', 'individually', 'hard', 'work', '.', 'positive', 'attitude', 'ise', \"n't\", 'quite', 'easiest', 'people', 'really', 'difficult', 'others', 'learn', 'even', 'willing', '.', 'others', 'tend', 'always', 'positive', 'attitude', 'anything', \"'re\", 'negative', 'havent', 'tried', 'give', 'stuck', 'upon', 'others', 'think', '.', 'really', ',', 'listen', 'anyone', 'thinks', 'focus', 'accomplish', 'dont', 'let', 'reflect', 'dont', 'want', '.', \"'s\", 'always', 'going', 'one', 'negative', 'person', 'try', 'bring', 'let', 'effect', '.', 'ignore', 'dont', 'bet', 'affect', 'dont', 'wan', 'na', 'fall', 'back', 'others', '.', 'said', 'order', 'move', 'forward', 'go', 'though', 'things', 'individually', 'thats', 'find', 'makes', 'stronger', 'weaknesses', 'anymore', 'facing', 'things', 'individually', 'blossom', 'beatifull', 'flower', 'course', 'hard', 'work', 'ise', \"n't\", 'vane', 'hard', 'work', 'ends', 'good', 'result', 'positive', 'attitude', '.', 'next', 'reason', 'build', 'selfcondifence', '.', 'positive', 'mindset', 'impotently', 'willing', 'build', 'selfcondience', 'mind', 'battlefield', 'control', 'selfcondicence', 'determination', 'like', '.', 'depending', 'us', 'weather', 'want', '.', 'practice', 'positive', 'battle', 'fild', 'selfcondidence', '.', 'hardly', 'agree', 'positive', 'attitude', 'guide', 'succeed', 'life', 'three', 'things', 'determination', 'willing', 'believing', 'mind', 'tell', 'negitive', 'thoughts', 'go', 'flying', 'window', 'door', 'let', 'anymore', '.', 'truly', 'incuage', 'try', 'want', 'see', 'big', 'improvement', 'succeed', 'life', '.', 'thank', 'hearing', 'weather', 'agreed', 'disagreed', ',', 'looking', 'hear', 'back', 'soon', '.']\n"
     ]
    }
   ],
   "source": [
    "stopwords_en = set(stopwords.words('english')) # Set checking is faster in Python than list.\n",
    "\n",
    "# List comprehension.\n",
    "print([word for word in single_no8_tokenized_lowered if word not in stopwords_en])"
   ]
  },
  {
   "cell_type": "markdown",
   "metadata": {
    "id": "XK7TmD11sp6p"
   },
   "source": [
    "### Punctuations"
   ]
  },
  {
   "cell_type": "code",
   "execution_count": 183,
   "metadata": {
    "colab": {
     "base_uri": "https://localhost:8080/"
    },
    "id": "Db6gIkjJrfnZ",
    "outputId": "6de89c85-5c84-4039-bd4d-dae8adac0dd8"
   },
   "outputs": [
    {
     "name": "stdout",
     "output_type": "stream",
     "text": [
      "From string.punctuation: <class 'str'> !\"#$%&'()*+,-./:;<=>?@[\\]^_`{|}~\n"
     ]
    }
   ],
   "source": [
    "from string import punctuation\n",
    "# It's a string so we have to them into a set type\n",
    "print('From string.punctuation:', type(punctuation), punctuation)"
   ]
  },
  {
   "cell_type": "code",
   "execution_count": 184,
   "metadata": {
    "colab": {
     "base_uri": "https://localhost:8080/"
    },
    "id": "pX-xfLU6rvon",
    "outputId": "60221e33-cec2-46f4-fbeb-dbcaea940526"
   },
   "outputs": [
    {
     "name": "stdout",
     "output_type": "stream",
     "text": [
      "{'am', 'ours', '%', \"shouldn't\", '|', '_', 'can', \"wouldn't\", 'some', 've', 'were', 'hasn', \"you'll\", 'themselves', 'then', 'ain', ',', 'these', '*', 'i', 'not', 'shan', 'have', 'once', \"isn't\", 's', 'theirs', 'who', ';', ']', 'whom', '+', 'into', 'very', 'both', 'below', 'been', 'be', 'when', 'weren', \"shan't\", \"needn't\", 'didn', '\"', \"hasn't\", \"should've\", '&', 'no', 'any', 'was', 'your', 'me', 'before', 'don', 'its', \"won't\", 'ma', 'ourselves', 'an', 'her', 'a', 'but', 'y', \"you've\", 'd', 'is', 'so', ')', 'wouldn', 'by', 'such', 'yourselves', 'of', 'above', 'hadn', 'our', 'she', 'against', 'will', 'other', \"didn't\", 'the', 'off', 'yours', 'that', 'their', 're', '<', ':', '@', 'most', 'too', 'aren', 'again', 'and', 'out', 'what', 'how', '.', 'where', 'm', 'between', 'won', \"wasn't\", 'because', 'for', 'own', 'yourself', 'now', \"you'd\", 'up', 'mightn', \"hadn't\", 'll', '>', 'there', 'to', '-', 'itself', 'haven', 'here', 'this', 'further', \"she's\", 'which', 'them', 'nor', 'he', 'myself', 'had', 'having', 'being', \"'\", 'with', 'each', 'mustn', 'through', 'do', 'him', '/', 'doing', \"mightn't\", 'doesn', 'you', '{', 'are', 'does', 'down', 'only', 'isn', \"aren't\", 'needn', 'wasn', '!', 'about', 'under', 'all', 'why', 'hers', 'until', '?', 'than', 'we', 'o', '#', \"you're\", 'those', '`', 'it', 'at', 'should', 'himself', \"couldn't\", 'while', 't', 'more', 'few', 'over', \"that'll\", '$', 'has', 'as', '\\\\', 'did', '[', 'my', \"it's\", 'they', 'during', 'same', \"mustn't\", 'shouldn', 'couldn', \"doesn't\", '}', \"don't\", 'if', 'in', '~', \"haven't\", '(', 'just', 'his', '=', 'or', 'after', \"weren't\", '^', 'herself', 'on', 'from'}\n"
     ]
    }
   ],
   "source": [
    "stopwords_en_withpunct = stopwords_en.union(set(punctuation))\n",
    "print(stopwords_en_withpunct)"
   ]
  },
  {
   "cell_type": "code",
   "execution_count": 185,
   "metadata": {
    "colab": {
     "base_uri": "https://localhost:8080/"
    },
    "id": "398E7B6Tsg-J",
    "outputId": "b1ffa085-dafb-4cbb-bf5a-bdc97a7d04fc"
   },
   "outputs": [
    {
     "name": "stdout",
     "output_type": "stream",
     "text": [
      "['positive', 'attitude', 'key', 'success', 'agree', 'anything', 'long', 'put', 'mind', 'soul', 'motivation', 'accomplish', 'feel', 'good', \"'ll\", 'feel', 'unstable', 'brings', 'best', 'makes', 'one', 'way', 'importance', 'attitude', 'key', 'success', 'motivates', 'keep', 'going', 'forward', 'example', 'come', 'across', 'difficulties', 'wont', 'feel', 'discouraged', 'limit', 'none', 'change', 'discouraged', 'tend', 'feel', 'moment', 'would', 'wan', 'na', 'overcome', 'even', 'makes', 'whatever', 'long', 'mind', 'set', 'positive', 'attitude', 'accomplish', 'always', 'remember', 'put', 'mind', 'determination', 'positive', 'attitude', 'willing', 'possible', 'reach', 'goals', 'however', 'positive', 'mindset', 'strong', 'determination', 'build', 'self', 'confidence', 'another', 'reason', 'grow', 'individually', 'hard', 'work', 'positive', 'attitude', 'ise', \"n't\", 'quite', 'easiest', 'people', 'really', 'difficult', 'others', 'learn', 'even', 'willing', 'others', 'tend', 'always', 'positive', 'attitude', 'anything', \"'re\", 'negative', 'havent', 'tried', 'give', 'stuck', 'upon', 'others', 'think', 'really', 'listen', 'anyone', 'thinks', 'focus', 'accomplish', 'dont', 'let', 'reflect', 'dont', 'want', \"'s\", 'always', 'going', 'one', 'negative', 'person', 'try', 'bring', 'let', 'effect', 'ignore', 'dont', 'bet', 'affect', 'dont', 'wan', 'na', 'fall', 'back', 'others', 'said', 'order', 'move', 'forward', 'go', 'though', 'things', 'individually', 'thats', 'find', 'makes', 'stronger', 'weaknesses', 'anymore', 'facing', 'things', 'individually', 'blossom', 'beatifull', 'flower', 'course', 'hard', 'work', 'ise', \"n't\", 'vane', 'hard', 'work', 'ends', 'good', 'result', 'positive', 'attitude', 'next', 'reason', 'build', 'selfcondifence', 'positive', 'mindset', 'impotently', 'willing', 'build', 'selfcondience', 'mind', 'battlefield', 'control', 'selfcondicence', 'determination', 'like', 'depending', 'us', 'weather', 'want', 'practice', 'positive', 'battle', 'fild', 'selfcondidence', 'hardly', 'agree', 'positive', 'attitude', 'guide', 'succeed', 'life', 'three', 'things', 'determination', 'willing', 'believing', 'mind', 'tell', 'negitive', 'thoughts', 'go', 'flying', 'window', 'door', 'let', 'anymore', 'truly', 'incuage', 'try', 'want', 'see', 'big', 'improvement', 'succeed', 'life', 'thank', 'hearing', 'weather', 'agreed', 'disagreed', 'looking', 'hear', 'back', 'soon']\n"
     ]
    }
   ],
   "source": [
    "print([word for word in single_no8_tokenized_lowered if word not in stopwords_en_withpunct])"
   ]
  },
  {
   "cell_type": "markdown",
   "metadata": {
    "id": "fR6IEVg_t-8C"
   },
   "source": [
    "## Stronger/longer list of stopwords"
   ]
  },
  {
   "cell_type": "code",
   "execution_count": 186,
   "metadata": {
    "colab": {
     "base_uri": "https://localhost:8080/"
    },
    "id": "Dk9byLJCuCuv",
    "outputId": "7b13e0d7-74a8-44ed-e36a-3878d9cdcd84"
   },
   "outputs": [
    {
     "name": "stdout",
     "output_type": "stream",
     "text": [
      "With combined stopwords:\n",
      "['positive', 'attitude', 'key', 'success', 'agree', 'long', 'put', 'mind', 'soul', 'motivation', 'accomplish', 'feel', 'good', \"'ll\", 'feel', 'unstable', 'brings', 'makes', 'importance', 'attitude', 'key', 'success', 'motivates', 'forward', 'difficulties', 'wont', 'feel', 'discouraged', 'limit', 'change', 'discouraged', 'tend', 'feel', 'moment', 'wan', 'na', 'overcome', 'makes', 'long', 'mind', 'set', 'positive', 'attitude', 'accomplish', 'remember', 'put', 'mind', 'determination', 'positive', 'attitude', 'reach', 'goals', 'positive', 'mindset', 'strong', 'determination', 'build', 'confidence', 'reason', 'grow', 'individually', 'hard', 'work', 'positive', 'attitude', 'ise', \"n't\", 'easiest', 'people', 'difficult', 'learn', 'tend', 'positive', 'attitude', \"'re\", 'negative', 'havent', 'give', 'stuck', 'listen', 'thinks', 'focus', 'accomplish', 'dont', 'reflect', 'dont', \"'s\", 'negative', 'person', 'bring', 'effect', 'ignore', 'dont', 'bet', 'affect', 'dont', 'wan', 'na', 'fall', 'back', 'order', 'move', 'forward', 'things', 'individually', 'find', 'makes', 'stronger', 'weaknesses', 'anymore', 'facing', 'things', 'individually', 'blossom', 'beatifull', 'flower', 'hard', 'work', 'ise', \"n't\", 'vane', 'hard', 'work', 'ends', 'good', 'result', 'positive', 'attitude', 'reason', 'build', 'selfcondifence', 'positive', 'mindset', 'impotently', 'build', 'selfcondience', 'mind', 'battlefield', 'control', 'selfcondicence', 'determination', 'depending', 'weather', 'practice', 'positive', 'battle', 'fild', 'selfcondidence', 'agree', 'positive', 'attitude', 'guide', 'succeed', 'life', 'things', 'determination', 'believing', 'mind', 'negitive', 'thoughts', 'flying', 'window', 'door', 'anymore', 'incuage', 'big', 'improvement', 'succeed', 'life', 'hearing', 'weather', 'agreed', 'disagreed', 'hear', 'back']\n"
     ]
    }
   ],
   "source": [
    "# Stopwords from stopwords-json\n",
    "stopwords_json = {\"en\":[\"a\",\"a's\",\"able\",\"about\",\"above\",\"according\",\"accordingly\",\"across\",\"actually\",\"after\",\"afterwards\",\"again\",\"against\",\"ain't\",\"all\",\"allow\",\"allows\",\"almost\",\"alone\",\"along\",\"already\",\"also\",\"although\",\"always\",\"am\",\"among\",\"amongst\",\"an\",\"and\",\"another\",\"any\",\"anybody\",\"anyhow\",\"anyone\",\"anything\",\"anyway\",\"anyways\",\"anywhere\",\"apart\",\"appear\",\"appreciate\",\"appropriate\",\"are\",\"aren't\",\"around\",\"as\",\"aside\",\"ask\",\"asking\",\"associated\",\"at\",\"available\",\"away\",\"awfully\",\"b\",\"be\",\"became\",\"because\",\"become\",\"becomes\",\"becoming\",\"been\",\"before\",\"beforehand\",\"behind\",\"being\",\"believe\",\"below\",\"beside\",\"besides\",\"best\",\"better\",\"between\",\"beyond\",\"both\",\"brief\",\"but\",\"by\",\"c\",\"c'mon\",\"c's\",\"came\",\"can\",\"can't\",\"cannot\",\"cant\",\"cause\",\"causes\",\"certain\",\"certainly\",\"changes\",\"clearly\",\"co\",\"com\",\"come\",\"comes\",\"concerning\",\"consequently\",\"consider\",\"considering\",\"contain\",\"containing\",\"contains\",\"corresponding\",\"could\",\"couldn't\",\"course\",\"currently\",\"d\",\"definitely\",\"described\",\"despite\",\"did\",\"didn't\",\"different\",\"do\",\"does\",\"doesn't\",\"doing\",\"don't\",\"done\",\"down\",\"downwards\",\"during\",\"e\",\"each\",\"edu\",\"eg\",\"eight\",\"either\",\"else\",\"elsewhere\",\"enough\",\"entirely\",\"especially\",\"et\",\"etc\",\"even\",\"ever\",\"every\",\"everybody\",\"everyone\",\"everything\",\"everywhere\",\"ex\",\"exactly\",\"example\",\"except\",\"f\",\"far\",\"few\",\"fifth\",\"first\",\"five\",\"followed\",\"following\",\"follows\",\"for\",\"former\",\"formerly\",\"forth\",\"four\",\"from\",\"further\",\"furthermore\",\"g\",\"get\",\"gets\",\"getting\",\"given\",\"gives\",\"go\",\"goes\",\"going\",\"gone\",\"got\",\"gotten\",\"greetings\",\"h\",\"had\",\"hadn't\",\"happens\",\"hardly\",\"has\",\"hasn't\",\"have\",\"haven't\",\"having\",\"he\",\"he's\",\"hello\",\"help\",\"hence\",\"her\",\"here\",\"here's\",\"hereafter\",\"hereby\",\"herein\",\"hereupon\",\"hers\",\"herself\",\"hi\",\"him\",\"himself\",\"his\",\"hither\",\"hopefully\",\"how\",\"howbeit\",\"however\",\"i\",\"i'd\",\"i'll\",\"i'm\",\"i've\",\"ie\",\"if\",\"ignored\",\"immediate\",\"in\",\"inasmuch\",\"inc\",\"indeed\",\"indicate\",\"indicated\",\"indicates\",\"inner\",\"insofar\",\"instead\",\"into\",\"inward\",\"is\",\"isn't\",\"it\",\"it'd\",\"it'll\",\"it's\",\"its\",\"itself\",\"j\",\"just\",\"k\",\"keep\",\"keeps\",\"kept\",\"know\",\"known\",\"knows\",\"l\",\"last\",\"lately\",\"later\",\"latter\",\"latterly\",\"least\",\"less\",\"lest\",\"let\",\"let's\",\"like\",\"liked\",\"likely\",\"little\",\"look\",\"looking\",\"looks\",\"ltd\",\"m\",\"mainly\",\"many\",\"may\",\"maybe\",\"me\",\"mean\",\"meanwhile\",\"merely\",\"might\",\"more\",\"moreover\",\"most\",\"mostly\",\"much\",\"must\",\"my\",\"myself\",\"n\",\"name\",\"namely\",\"nd\",\"near\",\"nearly\",\"necessary\",\"need\",\"needs\",\"neither\",\"never\",\"nevertheless\",\"new\",\"next\",\"nine\",\"no\",\"nobody\",\"non\",\"none\",\"noone\",\"nor\",\"normally\",\"not\",\"nothing\",\"novel\",\"now\",\"nowhere\",\"o\",\"obviously\",\"of\",\"off\",\"often\",\"oh\",\"ok\",\"okay\",\"old\",\"on\",\"once\",\"one\",\"ones\",\"only\",\"onto\",\"or\",\"other\",\"others\",\"otherwise\",\"ought\",\"our\",\"ours\",\"ourselves\",\"out\",\"outside\",\"over\",\"overall\",\"own\",\"p\",\"particular\",\"particularly\",\"per\",\"perhaps\",\"placed\",\"please\",\"plus\",\"possible\",\"presumably\",\"probably\",\"provides\",\"q\",\"que\",\"quite\",\"qv\",\"r\",\"rather\",\"rd\",\"re\",\"really\",\"reasonably\",\"regarding\",\"regardless\",\"regards\",\"relatively\",\"respectively\",\"right\",\"s\",\"said\",\"same\",\"saw\",\"say\",\"saying\",\"says\",\"second\",\"secondly\",\"see\",\"seeing\",\"seem\",\"seemed\",\"seeming\",\"seems\",\"seen\",\"self\",\"selves\",\"sensible\",\"sent\",\"serious\",\"seriously\",\"seven\",\"several\",\"shall\",\"she\",\"should\",\"shouldn't\",\"since\",\"six\",\"so\",\"some\",\"somebody\",\"somehow\",\"someone\",\"something\",\"sometime\",\"sometimes\",\"somewhat\",\"somewhere\",\"soon\",\"sorry\",\"specified\",\"specify\",\"specifying\",\"still\",\"sub\",\"such\",\"sup\",\"sure\",\"t\",\"t's\",\"take\",\"taken\",\"tell\",\"tends\",\"th\",\"than\",\"thank\",\"thanks\",\"thanx\",\"that\",\"that's\",\"thats\",\"the\",\"their\",\"theirs\",\"them\",\"themselves\",\"then\",\"thence\",\"there\",\"there's\",\"thereafter\",\"thereby\",\"therefore\",\"therein\",\"theres\",\"thereupon\",\"these\",\"they\",\"they'd\",\"they'll\",\"they're\",\"they've\",\"think\",\"third\",\"this\",\"thorough\",\"thoroughly\",\"those\",\"though\",\"three\",\"through\",\"throughout\",\"thru\",\"thus\",\"to\",\"together\",\"too\",\"took\",\"toward\",\"towards\",\"tried\",\"tries\",\"truly\",\"try\",\"trying\",\"twice\",\"two\",\"u\",\"un\",\"under\",\"unfortunately\",\"unless\",\"unlikely\",\"until\",\"unto\",\"up\",\"upon\",\"us\",\"use\",\"used\",\"useful\",\"uses\",\"using\",\"usually\",\"uucp\",\"v\",\"value\",\"various\",\"very\",\"via\",\"viz\",\"vs\",\"w\",\"want\",\"wants\",\"was\",\"wasn't\",\"way\",\"we\",\"we'd\",\"we'll\",\"we're\",\"we've\",\"welcome\",\"well\",\"went\",\"were\",\"weren't\",\"what\",\"what's\",\"whatever\",\"when\",\"whence\",\"whenever\",\"where\",\"where's\",\"whereafter\",\"whereas\",\"whereby\",\"wherein\",\"whereupon\",\"wherever\",\"whether\",\"which\",\"while\",\"whither\",\"who\",\"who's\",\"whoever\",\"whole\",\"whom\",\"whose\",\"why\",\"will\",\"willing\",\"wish\",\"with\",\"within\",\"without\",\"won't\",\"wonder\",\"would\",\"wouldn't\",\"x\",\"y\",\"yes\",\"yet\",\"you\",\"you'd\",\"you'll\",\"you're\",\"you've\",\"your\",\"yours\",\"yourself\",\"yourselves\",\"z\",\"zero\"]}\n",
    "stopwords_json_en = set(stopwords_json['en'])\n",
    "stopwords_nltk_en = set(stopwords.words('english'))\n",
    "stopwords_punct = set(punctuation)\n",
    "# Combine the stopwords. Its a lot longer so I'm not printing it out...\n",
    "stoplist_combined = set.union(stopwords_json_en, stopwords_nltk_en, stopwords_punct)\n",
    "\n",
    "# Remove the stopwords from `single_no8`.\n",
    "print('With combined stopwords:')\n",
    "print([word for word in single_no8_tokenized_lowered if word not in stoplist_combined])"
   ]
  },
  {
   "cell_type": "markdown",
   "metadata": {
    "id": "pMoHmJDU8aLP"
   },
   "source": [
    "## Stemming and Lemmatization"
   ]
  },
  {
   "cell_type": "markdown",
   "metadata": {
    "id": "Z5-phyfb81Lh"
   },
   "source": [
    "Stemming - producing morphological variants of a root/base word. Algorithm based. Faster but less accurate\n",
    "\n",
    "Lemmatization - lemmatization looks beyond word reduction and considers a language’s full vocabulary to apply a morphological analysis to words. Corpus based. More accuarte, but slower"
   ]
  },
  {
   "cell_type": "code",
   "execution_count": 187,
   "metadata": {
    "colab": {
     "base_uri": "https://localhost:8080/"
    },
    "id": "b2JsxIiL8z2r",
    "outputId": "c096a61c-9058-42aa-d1f2-8c532d4b48c0"
   },
   "outputs": [
    {
     "name": "stdout",
     "output_type": "stream",
     "text": [
      "walk\n",
      "walk\n",
      "walk\n"
     ]
    }
   ],
   "source": [
    "from nltk.stem import PorterStemmer\n",
    "porter = PorterStemmer()\n",
    "\n",
    "for word in ['walking', 'walks', 'walked']:\n",
    "    print(porter.stem(word))"
   ]
  },
  {
   "cell_type": "code",
   "execution_count": 188,
   "metadata": {
    "colab": {
     "base_uri": "https://localhost:8080/"
    },
    "id": "HAYGnnzL88OG",
    "outputId": "94ef5830-0b47-4799-8185-6c563c534a78"
   },
   "outputs": [
    {
     "name": "stdout",
     "output_type": "stream",
     "text": [
      "walking\n",
      "walk\n",
      "walked\n"
     ]
    },
    {
     "name": "stderr",
     "output_type": "stream",
     "text": [
      "[nltk_data] Downloading package wordnet to /root/nltk_data...\n",
      "[nltk_data]   Package wordnet is already up-to-date!\n",
      "[nltk_data] Downloading package omw-1.4 to /root/nltk_data...\n",
      "[nltk_data]   Package omw-1.4 is already up-to-date!\n"
     ]
    }
   ],
   "source": [
    "nltk.download('wordnet')\n",
    "nltk.download('omw-1.4')\n",
    "from nltk.stem import WordNetLemmatizer\n",
    "wnl = WordNetLemmatizer()\n",
    "\n",
    "for word in ['walking', 'walks', 'walked']:\n",
    "    print(wnl.lemmatize(word))"
   ]
  },
  {
   "cell_type": "code",
   "execution_count": 189,
   "metadata": {
    "colab": {
     "base_uri": "https://localhost:8080/"
    },
    "id": "_9YVT51W-Tnl",
    "outputId": "4f717ce5-816f-4475-f660-a4007dd24efc"
   },
   "outputs": [
    {
     "name": "stderr",
     "output_type": "stream",
     "text": [
      "[nltk_data] Downloading package averaged_perceptron_tagger to\n",
      "[nltk_data]     /root/nltk_data...\n",
      "[nltk_data]   Package averaged_perceptron_tagger is already up-to-\n",
      "[nltk_data]       date!\n"
     ]
    },
    {
     "data": {
      "text/plain": [
       "['he', 'be', 'walk', 'to', 'school']"
      ]
     },
     "execution_count": 189,
     "metadata": {},
     "output_type": "execute_result"
    }
   ],
   "source": [
    "nltk.download('averaged_perceptron_tagger')\n",
    "\n",
    "from nltk import pos_tag\n",
    "from nltk.stem import WordNetLemmatizer\n",
    "\n",
    "wnl = WordNetLemmatizer()\n",
    "\n",
    "def penn2morphy(penntag):\n",
    "    \"\"\" Converts Penn Treebank tags to WordNet. \"\"\"\n",
    "    morphy_tag = {'NN':'n', 'JJ':'a',\n",
    "                  'VB':'v', 'RB':'r'}\n",
    "    try:\n",
    "        return morphy_tag[penntag[:2]]\n",
    "    except:\n",
    "        return 'n' \n",
    "    \n",
    "def lemmatize_sent(text): \n",
    "    # Text input is string, returns lowercased strings.\n",
    "    return [wnl.lemmatize(word.lower(), pos=penn2morphy(tag)) \n",
    "            for word, tag in pos_tag(word_tokenize(text))]\n",
    "\n",
    "lemmatize_sent('He is walking to school')"
   ]
  },
  {
   "cell_type": "code",
   "execution_count": 190,
   "metadata": {
    "colab": {
     "base_uri": "https://localhost:8080/"
    },
    "id": "PJpUJd6d-ukT",
    "outputId": "04e4445b-3036-4c00-f22e-862643e3b416"
   },
   "outputs": [
    {
     "name": "stdout",
     "output_type": "stream",
     "text": [
      "Original Single no. 8:\n",
      "positive attitude is the key to success. I agree because you can do anything as long as you put your mind and soul into it and motivation you can accomplish it. Then so by doing it you feel good about yourself you'll feel unstable. But do what brings the best in you, what makes you yourself.\n",
      "\n",
      "One way that importance of attitude is key to success is it motivates you to keep going forward. For example when you come across some difficulties you wont feel discouraged because your the limit and none other then you can or will change it. But the more discouraged you tend to feel at that moment you would wanna overcome it even if it makes whatever just as long as your mind is set to positive attitude you will accomplish it. Then so always remember what you put your mind to such as determination, positive attitude, willing you can its possible you will reach your goals. However you will with a positive mindset have a strong determination and you will build up self confidence in yourself.\n",
      "\n",
      "Then another reason is to grow individually with hard work. Positive attitude isen't quite the easiest for some people its really difficult for others to learn how to or even if they are willing to. But others tend to not always have positive attitude in anything they're just negative and havent tried to give their all they are stuck upon what others think. Then about what really is,you just have to not listen to what anyone thinks and focus on what you can accomplish because if you dont you will let them reflect on you but you dont want that for yourself. Then there's always going to be that one negative person to try to bring you down its up to you if you let it effect you. Just ignore them if you dont you will bet it affect you and you dont wanna fall back just because of others. With that being said in order to move forward you have to go though things individually but thats were you find yourself again and makes you stronger then before what your weaknesses were there not anymore because when facing things individually you blossom to a beatifull flower with of course hard work and it isen't in vane because hard work ends up having a good result for positive attitude.\n",
      "\n",
      "Next reason is to build selfcondifence. When having a positive mindset and most impotently willing we then build selfcondience our mind is a battlefield and we control it and its not about the selfcondicence its more about determination ourselves to it like we can or we will do it. After that its all depending on us weather we want to or not. Then after that the more we practice being positive in our battle fild the more selfcondidence we will have.\n",
      "\n",
      "So then i hardly agree on positive attitude can guide you to succeed in life its all about three things determination willing and believing with those in mind you can tell all the negitive thoughts to go flying out the window because it has no door to let it in anymore. I truly incuage you to try it out if you want to see a big improvement to succeed in your life. Thank you for hearing me weather I agreed or disagreed,looking to hear back from you soon. \n",
      "\n",
      "Lemmatized and removed stopwords:\n",
      "['positive', 'attitude', 'key', 'success', 'agree', 'long', 'put', 'mind', 'soul', 'motivation', 'accomplish', 'feel', 'good', \"'ll\", 'feel', 'unstable', 'bring', 'make', 'importance', 'attitude', 'key', 'success', 'motivate', 'forward', 'difficulty', 'wont', 'feel', 'discouraged', 'limit', 'change', 'discouraged', 'tend', 'feel', 'moment', 'wan', 'na', 'overcome', 'make', 'long', 'mind', 'set', 'positive', 'attitude', 'accomplish', 'remember', 'put', 'mind', 'determination', 'positive', 'attitude', 'reach', 'goal', 'positive', 'mindset', 'strong', 'determination', 'build', 'confidence', 'reason', 'grow', 'individually', 'hard', 'work', 'positive', 'attitude', 'ise', \"n't\", 'easy', 'people', 'difficult', 'learn', 'tend', 'positive', 'attitude', \"'re\", 'negative', 'havent', 'give', 'stick', 'listen', 'focus', 'accomplish', 'dont', 'reflect', 'dont', \"'s\", 'negative', 'person', 'bring', 'effect', 'ignore', 'dont', 'bet', 'affect', 'dont', 'wan', 'na', 'fall', 'back', 'order', 'move', 'forward', 'thing', 'individually', 'find', 'make', 'strong', 'weakness', 'anymore', 'face', 'thing', 'individually', 'blossom', 'beatifull', 'flower', 'hard', 'work', 'ise', \"n't\", 'vane', 'hard', 'work', 'end', 'good', 'result', 'positive', 'attitude', 'reason', 'build', 'selfcondifence', 'positive', 'mindset', 'impotently', 'build', 'selfcondience', 'mind', 'battlefield', 'control', 'selfcondicence', 'determination', 'depend', 'weather', 'practice', 'positive', 'battle', 'fild', 'selfcondidence', 'agree', 'positive', 'attitude', 'guide', 'succeed', 'life', 'thing', 'determination', 'mind', 'negitive', 'thought', 'fly', 'window', 'door', 'anymore', 'incuage', 'big', 'improvement', 'succeed', 'life', 'hear', 'weather', 'agree', 'disagree', 'hear', 'back']\n"
     ]
    }
   ],
   "source": [
    "print('Original Single no. 8:')\n",
    "print(single_no8, '\\n')\n",
    "print('Lemmatized and removed stopwords:')\n",
    "print([word for word in lemmatize_sent(single_no8) \n",
    "       if word not in stoplist_combined\n",
    "       and not word.isdigit() ])"
   ]
  },
  {
   "cell_type": "code",
   "execution_count": 191,
   "metadata": {
    "id": "1K15PAWS_PAr"
   },
   "outputs": [],
   "source": [
    "def preprocess_text(text):\n",
    "    # Input: str, i.e. document/sentence\n",
    "    # Output: list(str) , i.e. list of lemmas\n",
    "    return [word for word in lemmatize_sent(text) \n",
    "            if word not in stoplist_combined\n",
    "            and not word.isdigit()]"
   ]
  },
  {
   "cell_type": "markdown",
   "metadata": {
    "id": "hZqnTGhrAyfI"
   },
   "source": [
    "## Vectorization"
   ]
  },
  {
   "cell_type": "code",
   "execution_count": 192,
   "metadata": {
    "id": "Rd22ryzhA1kN"
   },
   "outputs": [],
   "source": [
    "from collections import Counter\n",
    "\n",
    "# Lemmatize and remove stopwords\n",
    "processed_sent1 = preprocess_text(single_no8)"
   ]
  },
  {
   "cell_type": "code",
   "execution_count": 193,
   "metadata": {
    "colab": {
     "base_uri": "https://localhost:8080/"
    },
    "id": "Kkp9uEX_A6zB",
    "outputId": "df7d1824-5337-4770-b505-d18dd278471e"
   },
   "outputs": [
    {
     "name": "stdout",
     "output_type": "stream",
     "text": [
      "Processed sentence:\n",
      "['positive', 'attitude', 'key', 'success', 'agree', 'long', 'put', 'mind', 'soul', 'motivation', 'accomplish', 'feel', 'good', \"'ll\", 'feel', 'unstable', 'bring', 'make', 'importance', 'attitude', 'key', 'success', 'motivate', 'forward', 'difficulty', 'wont', 'feel', 'discouraged', 'limit', 'change', 'discouraged', 'tend', 'feel', 'moment', 'wan', 'na', 'overcome', 'make', 'long', 'mind', 'set', 'positive', 'attitude', 'accomplish', 'remember', 'put', 'mind', 'determination', 'positive', 'attitude', 'reach', 'goal', 'positive', 'mindset', 'strong', 'determination', 'build', 'confidence', 'reason', 'grow', 'individually', 'hard', 'work', 'positive', 'attitude', 'ise', \"n't\", 'easy', 'people', 'difficult', 'learn', 'tend', 'positive', 'attitude', \"'re\", 'negative', 'havent', 'give', 'stick', 'listen', 'focus', 'accomplish', 'dont', 'reflect', 'dont', \"'s\", 'negative', 'person', 'bring', 'effect', 'ignore', 'dont', 'bet', 'affect', 'dont', 'wan', 'na', 'fall', 'back', 'order', 'move', 'forward', 'thing', 'individually', 'find', 'make', 'strong', 'weakness', 'anymore', 'face', 'thing', 'individually', 'blossom', 'beatifull', 'flower', 'hard', 'work', 'ise', \"n't\", 'vane', 'hard', 'work', 'end', 'good', 'result', 'positive', 'attitude', 'reason', 'build', 'selfcondifence', 'positive', 'mindset', 'impotently', 'build', 'selfcondience', 'mind', 'battlefield', 'control', 'selfcondicence', 'determination', 'depend', 'weather', 'practice', 'positive', 'battle', 'fild', 'selfcondidence', 'agree', 'positive', 'attitude', 'guide', 'succeed', 'life', 'thing', 'determination', 'mind', 'negitive', 'thought', 'fly', 'window', 'door', 'anymore', 'incuage', 'big', 'improvement', 'succeed', 'life', 'hear', 'weather', 'agree', 'disagree', 'hear', 'back']\n",
      "\n",
      "Word counts:\n",
      "Counter({'positive': 10, 'attitude': 8, 'mind': 5, 'feel': 4, 'determination': 4, 'dont': 4, 'agree': 3, 'accomplish': 3, 'make': 3, 'build': 3, 'individually': 3, 'hard': 3, 'work': 3, 'thing': 3, 'key': 2, 'success': 2, 'long': 2, 'put': 2, 'good': 2, 'bring': 2, 'forward': 2, 'discouraged': 2, 'tend': 2, 'wan': 2, 'na': 2, 'mindset': 2, 'strong': 2, 'reason': 2, 'ise': 2, \"n't\": 2, 'negative': 2, 'back': 2, 'anymore': 2, 'weather': 2, 'succeed': 2, 'life': 2, 'hear': 2, 'soul': 1, 'motivation': 1, \"'ll\": 1, 'unstable': 1, 'importance': 1, 'motivate': 1, 'difficulty': 1, 'wont': 1, 'limit': 1, 'change': 1, 'moment': 1, 'overcome': 1, 'set': 1, 'remember': 1, 'reach': 1, 'goal': 1, 'confidence': 1, 'grow': 1, 'easy': 1, 'people': 1, 'difficult': 1, 'learn': 1, \"'re\": 1, 'havent': 1, 'give': 1, 'stick': 1, 'listen': 1, 'focus': 1, 'reflect': 1, \"'s\": 1, 'person': 1, 'effect': 1, 'ignore': 1, 'bet': 1, 'affect': 1, 'fall': 1, 'order': 1, 'move': 1, 'find': 1, 'weakness': 1, 'face': 1, 'blossom': 1, 'beatifull': 1, 'flower': 1, 'vane': 1, 'end': 1, 'result': 1, 'selfcondifence': 1, 'impotently': 1, 'selfcondience': 1, 'battlefield': 1, 'control': 1, 'selfcondicence': 1, 'depend': 1, 'practice': 1, 'battle': 1, 'fild': 1, 'selfcondidence': 1, 'guide': 1, 'negitive': 1, 'thought': 1, 'fly': 1, 'window': 1, 'door': 1, 'incuage': 1, 'big': 1, 'improvement': 1, 'disagree': 1})\n"
     ]
    }
   ],
   "source": [
    "print('Processed sentence:')\n",
    "print(processed_sent1)\n",
    "print()\n",
    "print('Word counts:')\n",
    "print(Counter(processed_sent1))"
   ]
  },
  {
   "cell_type": "code",
   "execution_count": 194,
   "metadata": {
    "colab": {
     "base_uri": "https://localhost:8080/"
    },
    "id": "mdOo1yjxBxE9",
    "outputId": "4eb51927-ebc6-4ccd-b2b0-f96fe6840ea0"
   },
   "outputs": [
    {
     "data": {
      "text/plain": [
       "{'positive': 76,\n",
       " 'attitude': 7,\n",
       " 'key': 55,\n",
       " 'success': 93,\n",
       " 'agree': 5,\n",
       " 'long': 60,\n",
       " 'put': 78,\n",
       " 'mind': 62,\n",
       " 'soul': 89,\n",
       " 'motivation': 66,\n",
       " 'accomplish': 3,\n",
       " 'feel': 33,\n",
       " 'good': 42,\n",
       " \"'ll\": 0,\n",
       " 'unstable': 97,\n",
       " 'bring': 15,\n",
       " 'make': 61,\n",
       " 'importance': 49,\n",
       " 'motivate': 65,\n",
       " 'forward': 39,\n",
       " 'difficulty': 23,\n",
       " 'wont': 103,\n",
       " 'discouraged': 25,\n",
       " 'limit': 58,\n",
       " 'change': 17,\n",
       " 'tend': 94,\n",
       " 'moment': 64,\n",
       " 'wan': 99,\n",
       " 'na': 69,\n",
       " 'overcome': 73,\n",
       " 'set': 88,\n",
       " 'remember': 82,\n",
       " 'determination': 21,\n",
       " 'reach': 79,\n",
       " 'goal': 41,\n",
       " 'mindset': 63,\n",
       " 'strong': 91,\n",
       " 'build': 16,\n",
       " 'confidence': 18,\n",
       " 'reason': 80,\n",
       " 'grow': 43,\n",
       " 'individually': 53,\n",
       " 'hard': 45,\n",
       " 'work': 104,\n",
       " 'ise': 54,\n",
       " \"n't\": 68,\n",
       " 'easy': 28,\n",
       " 'people': 74,\n",
       " 'difficult': 22,\n",
       " 'learn': 56,\n",
       " \"'re\": 1,\n",
       " 'negative': 70,\n",
       " 'havent': 46,\n",
       " 'give': 40,\n",
       " 'stick': 90,\n",
       " 'listen': 59,\n",
       " 'focus': 38,\n",
       " 'dont': 26,\n",
       " 'reflect': 81,\n",
       " \"'s\": 2,\n",
       " 'person': 75,\n",
       " 'effect': 29,\n",
       " 'ignore': 48,\n",
       " 'bet': 12,\n",
       " 'affect': 4,\n",
       " 'fall': 32,\n",
       " 'back': 8,\n",
       " 'order': 72,\n",
       " 'move': 67,\n",
       " 'thing': 95,\n",
       " 'find': 35,\n",
       " 'weakness': 100,\n",
       " 'anymore': 6,\n",
       " 'face': 31,\n",
       " 'blossom': 14,\n",
       " 'beatifull': 11,\n",
       " 'flower': 36,\n",
       " 'vane': 98,\n",
       " 'end': 30,\n",
       " 'result': 83,\n",
       " 'selfcondifence': 87,\n",
       " 'impotently': 50,\n",
       " 'selfcondience': 86,\n",
       " 'battlefield': 10,\n",
       " 'control': 19,\n",
       " 'selfcondicence': 84,\n",
       " 'depend': 20,\n",
       " 'weather': 101,\n",
       " 'practice': 77,\n",
       " 'battle': 9,\n",
       " 'fild': 34,\n",
       " 'selfcondidence': 85,\n",
       " 'guide': 44,\n",
       " 'succeed': 92,\n",
       " 'life': 57,\n",
       " 'negitive': 71,\n",
       " 'thought': 96,\n",
       " 'fly': 37,\n",
       " 'window': 102,\n",
       " 'door': 27,\n",
       " 'incuage': 52,\n",
       " 'big': 13,\n",
       " 'improvement': 51,\n",
       " 'hear': 47,\n",
       " 'disagree': 24}"
      ]
     },
     "execution_count": 194,
     "metadata": {},
     "output_type": "execute_result"
    }
   ],
   "source": [
    "from io import StringIO\n",
    "from sklearn.feature_extraction.text import CountVectorizer\n",
    "\n",
    "with StringIO(single_no8) as fin:\n",
    "    # Create the vectorizer\n",
    "    count_vect = CountVectorizer(analyzer=preprocess_text)\n",
    "    count_vect.fit_transform(fin)\n",
    "\n",
    "# We can check the vocabulary in our vectorizer\n",
    "# It's a dictionary where the words are the keys and \n",
    "# The values are the IDs given to each word. \n",
    "count_vect.vocabulary_"
   ]
  },
  {
   "cell_type": "code",
   "execution_count": 195,
   "metadata": {
    "colab": {
     "base_uri": "https://localhost:8080/"
    },
    "id": "K6jP0VciE8Km",
    "outputId": "0589db8d-95fc-4106-85a3-b67e399ef27f"
   },
   "outputs": [
    {
     "data": {
      "text/plain": [
       "<173x105 sparse matrix of type '<class 'numpy.int64'>'\n",
       "\twith 171 stored elements in Compressed Sparse Row format>"
      ]
     },
     "execution_count": 195,
     "metadata": {},
     "output_type": "execute_result"
    }
   ],
   "source": [
    "count_vect.transform(processed_sent1)"
   ]
  },
  {
   "cell_type": "code",
   "execution_count": 196,
   "metadata": {
    "colab": {
     "base_uri": "https://localhost:8080/"
    },
    "id": "ndlAzso2FOhl",
    "outputId": "50383f70-10af-454c-f79e-0e64960a31e9"
   },
   "outputs": [
    {
     "data": {
      "text/plain": [
       "['positive attitude is the key to success.',\n",
       " 'I agree because you can do anything as long as you put your mind and soul into it and motivation you can accomplish it.',\n",
       " \"Then so by doing it you feel good about yourself you'll feel unstable.\",\n",
       " 'But do what brings the best in you, what makes you yourself.',\n",
       " 'One way that importance of attitude is key to success is it motivates you to keep going forward.',\n",
       " 'For example when you come across some difficulties you wont feel discouraged because your the limit and none other then you can or will change it.',\n",
       " 'But the more discouraged you tend to feel at that moment you would wanna overcome it even if it makes whatever just as long as your mind is set to positive attitude you will accomplish it.',\n",
       " 'Then so always remember what you put your mind to such as determination, positive attitude, willing you can its possible you will reach your goals.',\n",
       " 'However you will with a positive mindset have a strong determination and you will build up self confidence in yourself.',\n",
       " 'Then another reason is to grow individually with hard work.',\n",
       " \"Positive attitude isen't quite the easiest for some people its really difficult for others to learn how to or even if they are willing to.\",\n",
       " \"But others tend to not always have positive attitude in anything they're just negative and havent tried to give their all they are stuck upon what others think.\",\n",
       " 'Then about what really is,you just have to not listen to what anyone thinks and focus on what you can accomplish because if you dont you will let them reflect on you but you dont want that for yourself.',\n",
       " \"Then there's always going to be that one negative person to try to bring you down its up to you if you let it effect you.\",\n",
       " 'Just ignore them if you dont you will bet it affect you and you dont wanna fall back just because of others.',\n",
       " \"With that being said in order to move forward you have to go though things individually but thats were you find yourself again and makes you stronger then before what your weaknesses were there not anymore because when facing things individually you blossom to a beatifull flower with of course hard work and it isen't in vane because hard work ends up having a good result for positive attitude.\",\n",
       " 'Next reason is to build selfcondifence.',\n",
       " 'When having a positive mindset and most impotently willing we then build selfcondience our mind is a battlefield and we control it and its not about the selfcondicence its more about determination ourselves to it like we can or we will do it.',\n",
       " 'After that its all depending on us weather we want to or not.',\n",
       " 'Then after that the more we practice being positive in our battle fild the more selfcondidence we will have.',\n",
       " 'So then i hardly agree on positive attitude can guide you to succeed in life its all about three things determination willing and believing with those in mind you can tell all the negitive thoughts to go flying out the window because it has no door to let it in anymore.',\n",
       " 'I truly incuage you to try it out if you want to see a big improvement to succeed in your life.',\n",
       " 'Thank you for hearing me weather I agreed or disagreed,looking to hear back from you soon.']"
      ]
     },
     "execution_count": 196,
     "metadata": {},
     "output_type": "execute_result"
    }
   ],
   "source": [
    "sent_tokenize(single_no8)"
   ]
  },
  {
   "cell_type": "code",
   "execution_count": 197,
   "metadata": {
    "colab": {
     "base_uri": "https://localhost:8080/"
    },
    "id": "WsszmBe5FHc8",
    "outputId": "cd6bc7a8-730e-4195-e83b-a92cbdc1863c"
   },
   "outputs": [
    {
     "name": "stdout",
     "output_type": "stream",
     "text": [
      "['positive', 'attitude', 'key', 'success', 'agree', 'long', 'put', 'mind', 'soul', 'motivation', 'accomplish', 'feel', 'good', \"'ll\", 'feel', 'unstable', 'bring', 'make', 'importance', 'attitude', 'key', 'success', 'motivate', 'forward', 'difficulty', 'wont', 'feel', 'discouraged', 'limit', 'change', 'discouraged', 'tend', 'feel', 'moment', 'wan', 'na', 'overcome', 'make', 'long', 'mind', 'set', 'positive', 'attitude', 'accomplish', 'remember', 'put', 'mind', 'determination', 'positive', 'attitude', 'reach', 'goal', 'positive', 'mindset', 'strong', 'determination', 'build', 'confidence', 'reason', 'grow', 'individually', 'hard', 'work', 'positive', 'attitude', 'ise', \"n't\", 'easy', 'people', 'difficult', 'learn', 'tend', 'positive', 'attitude', \"'re\", 'negative', 'havent', 'give', 'stick', 'listen', 'focus', 'accomplish', 'dont', 'reflect', 'dont', \"'s\", 'negative', 'person', 'bring', 'effect', 'ignore', 'dont', 'bet', 'affect', 'dont', 'wan', 'na', 'fall', 'back', 'order', 'move', 'forward', 'thing', 'individually', 'find', 'make', 'strong', 'weakness', 'anymore', 'face', 'thing', 'individually', 'blossom', 'beatifull', 'flower', 'hard', 'work', 'ise', \"n't\", 'vane', 'hard', 'work', 'end', 'good', 'result', 'positive', 'attitude', 'reason', 'build', 'selfcondifence', 'positive', 'mindset', 'impotently', 'build', 'selfcondience', 'mind', 'battlefield', 'control', 'selfcondicence', 'determination', 'depend', 'weather', 'practice', 'positive', 'battle', 'fild', 'selfcondidence', 'agree', 'positive', 'attitude', 'guide', 'succeed', 'life', 'thing', 'determination', 'mind', 'negitive', 'thought', 'fly', 'window', 'door', 'anymore', 'incuage', 'big', 'improvement', 'succeed', 'life', 'hear', 'weather', 'agree', 'disagree', 'hear', 'back']\n",
      "\n",
      "Vocab: (\"'ll\", \"'re\", \"'s\", 'accomplish', 'affect', 'agree', 'anymore', 'attitude', 'back', 'battle', 'battlefield', 'beatifull', 'bet', 'big', 'blossom', 'bring', 'build', 'change', 'confidence', 'control', 'depend', 'determination', 'difficult', 'difficulty', 'disagree', 'discouraged', 'dont', 'door', 'easy', 'effect', 'end', 'face', 'fall', 'feel', 'fild', 'find', 'flower', 'fly', 'focus', 'forward', 'give', 'goal', 'good', 'grow', 'guide', 'hard', 'havent', 'hear', 'ignore', 'importance', 'impotently', 'improvement', 'incuage', 'individually', 'ise', 'key', 'learn', 'life', 'limit', 'listen', 'long', 'make', 'mind', 'mindset', 'moment', 'motivate', 'motivation', 'move', \"n't\", 'na', 'negative', 'negitive', 'order', 'overcome', 'people', 'person', 'positive', 'practice', 'put', 'reach', 'reason', 'reflect', 'remember', 'result', 'selfcondicence', 'selfcondidence', 'selfcondience', 'selfcondifence', 'set', 'soul', 'stick', 'strong', 'succeed', 'success', 'tend', 'thing', 'thought', 'unstable', 'vane', 'wan', 'weakness', 'weather', 'window', 'wont', 'work')\n",
      "\n",
      "Setence:  Then so by doing it you feel good about yourself you'll feel unstable.\n",
      "\n",
      "Processed Setence:  ['feel', 'good', \"'ll\", 'feel', 'unstable']\n",
      "\n",
      "Matrix/Vectors:\n",
      " [[1 0 0 0 0 0 0 0 0 0 0 0 0 0 0 0 0 0 0 0 0 0 0 0 0 0 0 0 0 0 0 0 0 2 0 0\n",
      "  0 0 0 0 0 0 1 0 0 0 0 0 0 0 0 0 0 0 0 0 0 0 0 0 0 0 0 0 0 0 0 0 0 0 0 0\n",
      "  0 0 0 0 0 0 0 0 0 0 0 0 0 0 0 0 0 0 0 0 0 0 0 0 0 1 0 0 0 0 0 0 0]]\n"
     ]
    }
   ],
   "source": [
    "from operator import itemgetter\n",
    "\n",
    "# Print the words sorted by their index\n",
    "words_sorted_by_index, _ = zip(*sorted(count_vect.vocabulary_.items(), key=itemgetter(1)))\n",
    "\n",
    "print(preprocess_text(single_no8))\n",
    "print()\n",
    "print('Vocab:', words_sorted_by_index)\n",
    "print()\n",
    "print('Setence: ',sent_tokenize(single_no8)[2])\n",
    "print()\n",
    "print('Processed Setence: ',preprocess_text(sent_tokenize(single_no8)[2]))\n",
    "print()\n",
    "print('Matrix/Vectors:\\n', count_vect.transform([sent_tokenize(single_no8)[2]]).toarray())"
   ]
  },
  {
   "cell_type": "markdown",
   "metadata": {
    "id": "ce5zj-OCX7JZ"
   },
   "source": [
    "# Prediction\n",
    "\n",
    "Now we consider labels as Vocabulary Score, which are in the form of {1,1.5,2......4,4.5,5} i.e. discrete but numeric label values\n",
    "\n",
    "Both Regression and Classification can be used to predict such type of score. Let us run both and find out which works best"
   ]
  },
  {
   "cell_type": "markdown",
   "metadata": {
    "id": "bSlLtIQhH0ju"
   },
   "source": [
    "# Classification using Navie Bayes"
   ]
  },
  {
   "cell_type": "code",
   "execution_count": 198,
   "metadata": {
    "colab": {
     "base_uri": "https://localhost:8080/"
    },
    "id": "solidFF5cl2n",
    "outputId": "9ab8b8d0-cb4c-4b8b-a25a-51a1b623286c"
   },
   "outputs": [
    {
     "data": {
      "text/plain": [
       "array([1. , 1.5, 2. , 2.5, 3. , 3.5, 4. , 4.5, 5. ])"
      ]
     },
     "execution_count": 198,
     "metadata": {},
     "output_type": "execute_result"
    }
   ],
   "source": [
    "np.sort(ELL_train.vocabulary.unique())"
   ]
  },
  {
   "cell_type": "code",
   "execution_count": 199,
   "metadata": {
    "id": "zheCFCSQH4yd"
   },
   "outputs": [],
   "source": [
    "from sklearn.feature_extraction.text import CountVectorizer\n",
    "from sklearn.model_selection import train_test_split \n",
    "\n",
    "# It doesn't really matter what the function name is called\n",
    "# but the `train_test_split` is splitting up the data into \n",
    "# 2 parts according to the `test_size` argument you've set.\n",
    "\n",
    "# When we're splitting up the training data, we're spltting up \n",
    "# into train, valid split. The function name is just a name =)\n",
    "train, valid = train_test_split(ELL_train, test_size=0.2,random_state=1)"
   ]
  },
  {
   "cell_type": "code",
   "execution_count": 200,
   "metadata": {
    "id": "VGgQ_NILMK9_"
   },
   "outputs": [],
   "source": [
    "# Initialize the vectorizer and \n",
    "# override the analyzer totally with the preprocess_text().\n",
    "# Note: the vectorizer is just an 'empty' object now.\n",
    "count_vect = CountVectorizer(analyzer=preprocess_text)\n",
    "\n",
    "# When we use `CounterVectorizer.fit_transform`,\n",
    "# we essentially create the dictionary and \n",
    "# vectorize our input text at the same time.\n",
    "train_set = count_vect.fit_transform(train.full_text)\n",
    "valid_set = count_vect.transform(valid.full_text)"
   ]
  },
  {
   "cell_type": "code",
   "execution_count": 201,
   "metadata": {
    "id": "8V5QXwFHOBVN"
   },
   "outputs": [],
   "source": [
    "train_tags = train.vocabulary.astype('str')\n",
    "valid_tags = valid.vocabulary.astype('str')"
   ]
  },
  {
   "cell_type": "code",
   "execution_count": 202,
   "metadata": {
    "colab": {
     "base_uri": "https://localhost:8080/"
    },
    "id": "Ts4tPPWZMaZ0",
    "outputId": "c8cd323a-1d20-4947-cf19-14b06409e22a"
   },
   "outputs": [
    {
     "data": {
      "text/plain": [
       "MultinomialNB()"
      ]
     },
     "execution_count": 202,
     "metadata": {},
     "output_type": "execute_result"
    }
   ],
   "source": [
    "from sklearn.naive_bayes import MultinomialNB\n",
    "clf = MultinomialNB() \n",
    "\n",
    "# To train the classifier, simple do \n",
    "clf.fit(train_set, train_tags) "
   ]
  },
  {
   "cell_type": "code",
   "execution_count": 203,
   "metadata": {
    "colab": {
     "base_uri": "https://localhost:8080/"
    },
    "id": "utY6iRbhNZ4m",
    "outputId": "1938e0fe-b692-4ec3-b2a0-ba528b950124"
   },
   "outputs": [
    {
     "name": "stdout",
     "output_type": "stream",
     "text": [
      "Vocabulary accuracy = 35.759897828863345\n"
     ]
    }
   ],
   "source": [
    "from sklearn.metrics import accuracy_score\n",
    "\n",
    "# To predict our tags (i.e. whether requesters get their pizza), \n",
    "# we feed the vectorized `test_set` to .predict()\n",
    "predictions_valid = clf.predict(valid_set)\n",
    "\n",
    "print('Vocabulary accuracy = {}'.format(\n",
    "        accuracy_score(predictions_valid, valid_tags) * 100)\n",
    "     )"
   ]
  },
  {
   "cell_type": "markdown",
   "metadata": {
    "id": "21kApjGkO3Ie"
   },
   "source": [
    "## What if Regression works better ?"
   ]
  },
  {
   "cell_type": "code",
   "execution_count": 204,
   "metadata": {
    "id": "0vn8CRkzPXpc"
   },
   "outputs": [],
   "source": [
    "train_tags = train.vocabulary.astype('float') # Regression accepts only numeric labels\n",
    "valid_tags = valid.vocabulary.astype('float')"
   ]
  },
  {
   "cell_type": "code",
   "execution_count": 205,
   "metadata": {
    "id": "P4eigL2AQVVw"
   },
   "outputs": [],
   "source": [
    "train_tags = np.array(train_tags).reshape(-1,1) # Regression accepts only in this format\n",
    "valid_tags = np.array(valid_tags).reshape(-1,1)"
   ]
  },
  {
   "cell_type": "code",
   "execution_count": 206,
   "metadata": {
    "colab": {
     "base_uri": "https://localhost:8080/"
    },
    "id": "FkOCfj2NPHOi",
    "outputId": "61efbe37-11dd-463c-f202-ca1b6bdbcd98"
   },
   "outputs": [
    {
     "name": "stdout",
     "output_type": "stream",
     "text": [
      "77.93864514955261\n"
     ]
    }
   ],
   "source": [
    "from sklearn.linear_model import LinearRegression\n",
    "from sklearn.metrics import mean_absolute_percentage_error\n",
    "\n",
    "reg = LinearRegression().fit(train_set, train_tags)\n",
    "\n",
    "predictions_valid = reg.predict(valid_set)\n",
    "\n",
    "print((1 - mean_absolute_percentage_error(valid_tags, predictions_valid))*100) # 1 - mean_absolute_percentage_error = accuracy"
   ]
  },
  {
   "cell_type": "markdown",
   "metadata": {
    "id": "n-uI8L0DXPkQ"
   },
   "source": [
    "Regression provides better results even though we have discrete labels (1,1.5,2.5.....)\n",
    "\n",
    "This is because while labels are discrete, the nature of the labels are sequential (5 > 4.5 > 4 > 3.5 ...... )\n",
    "\n",
    "Now, one thing to note is that regression outputs will be in a continuous, numeric format. But, we must predict Vocabulary score outputs in a discrete manner from the set of {1,1.5,2.5.....}\n",
    "\n",
    "Thus, we can round off our predictions to the nearest score (e.g. if score is predicted as 3.7, we round it to 3.5)"
   ]
  },
  {
   "cell_type": "code",
   "execution_count": 207,
   "metadata": {
    "colab": {
     "base_uri": "https://localhost:8080/"
    },
    "id": "hXyloR7IXnl8",
    "outputId": "0c708de2-8553-428f-fdfd-e1424ccb7948"
   },
   "outputs": [
    {
     "name": "stdout",
     "output_type": "stream",
     "text": [
      "78.18894565063147\n"
     ]
    }
   ],
   "source": [
    "predictions_valid_round_to_5 = np.array([[0.5 * round(x[0]/0.5)] for x in predictions_valid])\n",
    "print((1 - mean_absolute_percentage_error(valid_tags, predictions_valid_round_to_5))*100)"
   ]
  },
  {
   "cell_type": "markdown",
   "metadata": {
    "id": "cEIr0aPpc4ux"
   },
   "source": [
    "We see a score *improvement*\n",
    "\n",
    "We also need to ensure that no score is lesser than 1 (minimum) or greater than 5 (maximum)"
   ]
  },
  {
   "cell_type": "code",
   "execution_count": 208,
   "metadata": {
    "colab": {
     "base_uri": "https://localhost:8080/"
    },
    "id": "tBwdhVqWXniY",
    "outputId": "7f562ced-a186-4e7f-af10-c05991bb3a3c"
   },
   "outputs": [
    {
     "name": "stdout",
     "output_type": "stream",
     "text": [
      "7.5\n",
      "-2.5\n"
     ]
    }
   ],
   "source": [
    "print(max(predictions_valid_round_to_5)[0])\n",
    "print(min(predictions_valid_round_to_5)[0])"
   ]
  },
  {
   "cell_type": "markdown",
   "metadata": {
    "id": "tRlv6_6NdJjA"
   },
   "source": [
    "Since we have min score as 0 and max as 7, we need to limit values in the range of 1 to 5"
   ]
  },
  {
   "cell_type": "code",
   "execution_count": 209,
   "metadata": {
    "id": "ZjN5kwLudUcS"
   },
   "outputs": [],
   "source": [
    "predictions_valid_round_to_5 = np.array([[1] if x[0] <1 else [5] if x[0]>5 else x for x in predictions_valid_round_to_5])"
   ]
  },
  {
   "cell_type": "code",
   "execution_count": 210,
   "metadata": {
    "colab": {
     "base_uri": "https://localhost:8080/"
    },
    "id": "bTUQCOxOey8k",
    "outputId": "4763d6ad-4f24-4435-d2bc-2f210991887c"
   },
   "outputs": [
    {
     "name": "stdout",
     "output_type": "stream",
     "text": [
      "[5.]\n",
      "[1.]\n"
     ]
    }
   ],
   "source": [
    "print(max(predictions_valid_round_to_5))\n",
    "print(min(predictions_valid_round_to_5))"
   ]
  },
  {
   "cell_type": "code",
   "execution_count": 211,
   "metadata": {
    "colab": {
     "base_uri": "https://localhost:8080/"
    },
    "id": "PWVkncJxdvCC",
    "outputId": "794d8580-a657-4225-bcb7-0427708d00e6"
   },
   "outputs": [
    {
     "name": "stdout",
     "output_type": "stream",
     "text": [
      "78.78879563745464\n"
     ]
    }
   ],
   "source": [
    "print((1 - mean_absolute_percentage_error(valid_tags, predictions_valid_round_to_5))*100)"
   ]
  },
  {
   "cell_type": "markdown",
   "metadata": {
    "id": "9dm53PjqkQIs"
   },
   "source": [
    "We see a score *improvement*"
   ]
  },
  {
   "cell_type": "code",
   "execution_count": null,
   "metadata": {
    "id": "Re00HJDvkp0r"
   },
   "outputs": [],
   "source": []
  }
 ],
 "metadata": {
  "colab": {
   "collapsed_sections": [],
   "provenance": []
  },
  "kernelspec": {
   "display_name": "Python 3",
   "language": "python",
   "name": "python3"
  },
  "language_info": {
   "codemirror_mode": {
    "name": "ipython",
    "version": 3
   },
   "file_extension": ".py",
   "mimetype": "text/x-python",
   "name": "python",
   "nbconvert_exporter": "python",
   "pygments_lexer": "ipython3",
   "version": "3.7.4"
  }
 },
 "nbformat": 4,
 "nbformat_minor": 1
}
